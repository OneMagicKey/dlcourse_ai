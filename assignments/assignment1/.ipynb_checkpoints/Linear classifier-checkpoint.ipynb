{
 "cells": [
  {
   "cell_type": "markdown",
   "metadata": {},
   "source": [
    "# Задание 1.2 - Линейный классификатор (Linear classifier)\n",
    "\n",
    "В этом задании мы реализуем другую модель машинного обучения - линейный классификатор. Линейный классификатор подбирает для каждого класса веса, на которые нужно умножить значение каждого признака и потом сложить вместе.\n",
    "Тот класс, у которого эта сумма больше, и является предсказанием модели.\n",
    "\n",
    "В этом задании вы:\n",
    "- потренируетесь считать градиенты различных многомерных функций\n",
    "- реализуете подсчет градиентов через линейную модель и функцию потерь softmax\n",
    "- реализуете процесс тренировки линейного классификатора\n",
    "- подберете параметры тренировки на практике\n",
    "\n",
    "На всякий случай, еще раз ссылка на туториал по numpy:  \n",
    "http://cs231n.github.io/python-numpy-tutorial/"
   ]
  },
  {
   "cell_type": "code",
   "execution_count": 1,
   "metadata": {},
   "outputs": [],
   "source": [
    "import numpy as np\n",
    "import matplotlib.pyplot as plt\n",
    "\n",
    "%matplotlib inline\n",
    "\n",
    "%load_ext autoreload\n",
    "%autoreload 2"
   ]
  },
  {
   "cell_type": "code",
   "execution_count": 2,
   "metadata": {},
   "outputs": [],
   "source": [
    "from dataset import load_svhn, random_split_train_val\n",
    "from gradient_check import check_gradient\n",
    "from metrics import multiclass_accuracy \n",
    "import linear_classifer"
   ]
  },
  {
   "cell_type": "markdown",
   "metadata": {},
   "source": [
    "# Как всегда, первым делом загружаем данные\n",
    "\n",
    "Мы будем использовать все тот же SVHN."
   ]
  },
  {
   "cell_type": "code",
   "execution_count": 3,
   "metadata": {},
   "outputs": [],
   "source": [
    "def prepare_for_linear_classifier(train_X, test_X):\n",
    "    train_flat = train_X.reshape(train_X.shape[0], -1).astype(np.float) / 255.0\n",
    "    test_flat = test_X.reshape(test_X.shape[0], -1).astype(np.float) / 255.0\n",
    "    \n",
    "    # Subtract mean\n",
    "    mean_image = np.mean(train_flat, axis = 0)\n",
    "    train_flat -= mean_image\n",
    "    test_flat -= mean_image\n",
    "    \n",
    "    # Add another channel with ones as a bias term\n",
    "    train_flat_with_ones = np.hstack([train_flat, np.ones((train_X.shape[0], 1))])\n",
    "    test_flat_with_ones = np.hstack([test_flat, np.ones((test_X.shape[0], 1))])    \n",
    "    return train_flat_with_ones, test_flat_with_ones\n",
    "    \n",
    "train_X, train_y, test_X, test_y = load_svhn(\"data\", max_train=10000, max_test=1000)    \n",
    "train_X, test_X = prepare_for_linear_classifier(train_X, test_X)\n",
    "# Split train into train and val\n",
    "train_X, train_y, val_X, val_y = random_split_train_val(train_X, train_y, num_val = 1000)"
   ]
  },
  {
   "cell_type": "markdown",
   "metadata": {},
   "source": [
    "# Играемся с градиентами!\n",
    "\n",
    "В этом курсе мы будем писать много функций, которые вычисляют градиенты аналитическим методом.\n",
    "\n",
    "Все функции, в которых мы будем вычислять градиенты, будут написаны по одной и той же схеме.  \n",
    "Они будут получать на вход точку, где нужно вычислить значение и градиент функции, а на выходе будут выдавать кортеж (tuple) из двух значений - собственно значения функции в этой точке (всегда одно число) и аналитического значения градиента в той же точке (той же размерности, что и вход).\n",
    "```\n",
    "def f(x):\n",
    "    \"\"\"\n",
    "    Computes function and analytic gradient at x\n",
    "    \n",
    "    x: np array of float, input to the function\n",
    "    \n",
    "    Returns:\n",
    "    value: float, value of the function \n",
    "    grad: np array of float, same shape as x\n",
    "    \"\"\"\n",
    "    ...\n",
    "    \n",
    "    return value, grad\n",
    "```\n",
    "\n",
    "Необходимым инструментом во время реализации кода, вычисляющего градиенты, является функция его проверки. Эта функция вычисляет градиент численным методом и сверяет результат с градиентом, вычисленным аналитическим методом.\n",
    "\n",
    "Мы начнем с того, чтобы реализовать вычисление численного градиента (numeric gradient) в функции `check_gradient` в `gradient_check.py`. Эта функция будет принимать на вход функции формата, заданного выше, использовать значение `value` для вычисления численного градиента и сравнит его с аналитическим - они должны сходиться.\n",
    "\n",
    "Напишите часть функции, которая вычисляет градиент с помощью численной производной для каждой координаты. Для вычисления производной используйте так называемую two-point formula (https://en.wikipedia.org/wiki/Numerical_differentiation):\n",
    "\n",
    "![image](https://wikimedia.org/api/rest_v1/media/math/render/svg/22fc2c0a66c63560a349604f8b6b39221566236d)\n",
    "\n",
    "Все функции приведенные в следующей клетке должны проходить gradient check."
   ]
  },
  {
   "cell_type": "code",
   "execution_count": 83,
   "metadata": {
    "scrolled": true
   },
   "outputs": [
    {
     "name": "stdout",
     "output_type": "stream",
     "text": [
      "Gradient check passed!\n",
      "Gradient check passed!\n",
      "Gradient check passed!\n"
     ]
    },
    {
     "data": {
      "text/plain": [
       "True"
      ]
     },
     "execution_count": 83,
     "metadata": {},
     "output_type": "execute_result"
    }
   ],
   "source": [
    "# TODO: Implement check_gradient function in gradient_check.py\n",
    "# All the functions below should pass the gradient check\n",
    "\n",
    "def square(x):\n",
    "    return float(x*x), 2*x\n",
    "\n",
    "check_gradient(square, np.array([3.0]))\n",
    "\n",
    "def array_sum(x):\n",
    "    assert x.shape == (2,), x.shape\n",
    "    return np.sum(x), np.ones_like(x)\n",
    "\n",
    "check_gradient(array_sum, np.array([3.0, 2.0]))\n",
    "\n",
    "def array_2d_sum(x):\n",
    "    assert x.shape == (2,2)\n",
    "    return np.sum(x), np.ones_like(x)\n",
    "\n",
    "check_gradient(array_2d_sum, np.array([[3.0, 2.0], [1.0, 0.0]]))"
   ]
  },
  {
   "cell_type": "markdown",
   "metadata": {},
   "source": [
    "## Начинаем писать свои функции, считающие аналитический градиент\n",
    "\n",
    "Теперь реализуем функцию softmax, которая получает на вход оценки для каждого класса и преобразует их в вероятности от 0 до 1:\n",
    "![image](https://wikimedia.org/api/rest_v1/media/math/render/svg/e348290cf48ddbb6e9a6ef4e39363568b67c09d3)\n",
    "\n",
    "**Важно:** Практический аспект вычисления этой функции заключается в том, что в ней учавствует вычисление экспоненты от потенциально очень больших чисел - это может привести к очень большим значениям в числителе и знаменателе за пределами диапазона float.\n",
    "\n",
    "К счастью, у этой проблемы есть простое решение -- перед вычислением softmax вычесть из всех оценок максимальное значение среди всех оценок:\n",
    "```\n",
    "predictions -= np.max(predictions)\n",
    "```\n",
    "(подробнее здесь - http://cs231n.github.io/linear-classify/#softmax, секция `Practical issues: Numeric stability`)"
   ]
  },
  {
   "cell_type": "code",
   "execution_count": 7,
   "metadata": {},
   "outputs": [],
   "source": [
    "# TODO Implement softmax and cross-entropy for single sample\n",
    "probs = linear_classifer.softmax(np.array([-10, 0, 10]))\n",
    "\n",
    "# Make sure it works for big numbers too!\n",
    "probs = linear_classifer.softmax(np.array([1000, 0, 0]))\n",
    "assert np.isclose(probs[0], 1.0)"
   ]
  },
  {
   "cell_type": "markdown",
   "metadata": {},
   "source": [
    "Кроме этого, мы реализуем cross-entropy loss, которую мы будем использовать как функцию ошибки (error function).\n",
    "В общем виде cross-entropy определена следующим образом:\n",
    "![image](https://wikimedia.org/api/rest_v1/media/math/render/svg/0cb6da032ab424eefdca0884cd4113fe578f4293)\n",
    "\n",
    "где x - все классы, p(x) - истинная вероятность принадлежности сэмпла классу x, а q(x) - вероятность принадлежности классу x, предсказанная моделью.  \n",
    "В нашем случае сэмпл принадлежит только одному классу, индекс которого передается функции. Для него p(x) равна 1, а для остальных классов - 0. \n",
    "\n",
    "Это позволяет реализовать функцию проще!"
   ]
  },
  {
   "cell_type": "code",
   "execution_count": 40,
   "metadata": {},
   "outputs": [
    {
     "data": {
      "text/plain": [
       "5.006760443547122"
      ]
     },
     "execution_count": 40,
     "metadata": {},
     "output_type": "execute_result"
    }
   ],
   "source": [
    "probs = linear_classifer.softmax(np.array([-5, 0, 5]))\n",
    "linear_classifer.cross_entropy_loss(probs, 1)"
   ]
  },
  {
   "cell_type": "markdown",
   "metadata": {},
   "source": [
    "После того как мы реализовали сами функции, мы можем реализовать градиент.\n",
    "\n",
    "Оказывается, что вычисление градиента становится гораздо проще, если объединить эти функции в одну, которая сначала вычисляет вероятности через softmax, а потом использует их для вычисления функции ошибки через cross-entropy loss.\n",
    "\n",
    "Эта функция `softmax_with_cross_entropy` будет возвращает и значение ошибки, и градиент по входным параметрам. Мы проверим корректность реализации с помощью `check_gradient`."
   ]
  },
  {
   "cell_type": "code",
   "execution_count": 41,
   "metadata": {},
   "outputs": [
    {
     "name": "stdout",
     "output_type": "stream",
     "text": [
      "Gradient check passed!\n"
     ]
    },
    {
     "data": {
      "text/plain": [
       "True"
      ]
     },
     "execution_count": 41,
     "metadata": {},
     "output_type": "execute_result"
    }
   ],
   "source": [
    "# TODO Implement combined function or softmax and cross entropy and produces gradient\n",
    "loss, grad = linear_classifer.softmax_with_cross_entropy(np.array([1, 0, 0]), 1)\n",
    "check_gradient(lambda x: linear_classifer.softmax_with_cross_entropy(x, 1), np.array([1, 0, 0], np.float))"
   ]
  },
  {
   "cell_type": "markdown",
   "metadata": {},
   "source": [
    "В качестве метода тренировки мы будем использовать стохастический градиентный спуск (stochastic gradient descent или SGD), который работает с батчами сэмплов. \n",
    "\n",
    "Поэтому все наши фукнции будут получать не один пример, а батч, то есть входом будет не вектор из `num_classes` оценок, а матрица размерности `batch_size, num_classes`. Индекс примера в батче всегда будет первым измерением.\n",
    "\n",
    "Следующий шаг - переписать наши функции так, чтобы они поддерживали батчи.\n",
    "\n",
    "Финальное значение функции ошибки должно остаться числом, и оно равно среднему значению ошибки среди всех примеров в батче."
   ]
  },
  {
   "cell_type": "code",
   "execution_count": 103,
   "metadata": {
    "scrolled": false
   },
   "outputs": [
    {
     "name": "stdout",
     "output_type": "stream",
     "text": [
      "Gradient check passed!\n",
      "Gradient check passed!\n"
     ]
    }
   ],
   "source": [
    "# TODO Extend combined function so it can receive a 2d array with batch of samples\n",
    "np.random.seed(42)\n",
    "# Test batch_size = 1\n",
    "num_classes = 4\n",
    "batch_size = 1\n",
    "predictions = np.random.randint(-1, 3, size=(batch_size, num_classes)).astype(np.float)\n",
    "target_index = np.random.randint(0, num_classes, size=(batch_size, 1)).astype(np.int)\n",
    "check_gradient(lambda x: linear_classifer.softmax_with_cross_entropy(x, target_index), predictions)\n",
    "\n",
    "# Test batch_size = 3\n",
    "num_classes = 4\n",
    "batch_size = 3\n",
    "predictions = np.random.randint(-1, 3, size=(batch_size, num_classes)).astype(np.float)\n",
    "target_index = np.random.randint(0, num_classes, size=(batch_size, 1)).astype(np.int)\n",
    "check_gradient(lambda x: linear_classifer.softmax_with_cross_entropy(x, target_index), predictions)\n",
    "\n",
    "# Make sure maximum subtraction for numberic stability is done separately for every sample in the batch\n",
    "probs = linear_classifer.softmax(np.array([[20,0,0], [1000, 0, 0]]))\n",
    "assert np.all(np.isclose(probs[:, 0], 1.0))"
   ]
  },
  {
   "cell_type": "markdown",
   "metadata": {},
   "source": [
    "### Наконец, реализуем сам линейный классификатор!\n",
    "\n",
    "softmax и cross-entropy получают на вход оценки, которые выдает линейный классификатор.\n",
    "\n",
    "Он делает это очень просто: для каждого класса есть набор весов, на которые надо умножить пиксели картинки и сложить. Получившееся число и является оценкой класса, идущей на вход softmax.\n",
    "\n",
    "Таким образом, линейный классификатор можно представить как умножение вектора с пикселями на матрицу W размера `num_features, num_classes`. Такой подход легко расширяется на случай батча векторов с пикселями X размера `batch_size, num_features`:\n",
    "\n",
    "`predictions = X * W`, где `*` - матричное умножение.\n",
    "\n",
    "Реализуйте функцию подсчета линейного классификатора и градиентов по весам `linear_softmax` в файле `linear_classifer.py`"
   ]
  },
  {
   "cell_type": "code",
   "execution_count": 114,
   "metadata": {},
   "outputs": [
    {
     "name": "stdout",
     "output_type": "stream",
     "text": [
      "Gradient check passed!\n"
     ]
    },
    {
     "data": {
      "text/plain": [
       "True"
      ]
     },
     "execution_count": 114,
     "metadata": {},
     "output_type": "execute_result"
    }
   ],
   "source": [
    "# TODO Implement linear_softmax function that uses softmax with cross-entropy for linear classifier\n",
    "batch_size = 2\n",
    "num_classes = 2\n",
    "num_features = 3\n",
    "np.random.seed(42)\n",
    "W = np.random.randint(-1, 3, size=(num_features, num_classes)).astype(np.float)\n",
    "X = np.random.randint(-1, 3, size=(batch_size, num_features)).astype(np.float)\n",
    "target_index = np.ones(batch_size, dtype=np.int)\n",
    "\n",
    "loss, dW = linear_classifer.linear_softmax(X, W, target_index)\n",
    "check_gradient(lambda w: linear_classifer.linear_softmax(X, w, target_index), W)"
   ]
  },
  {
   "cell_type": "markdown",
   "metadata": {},
   "source": [
    "### И теперь регуляризация\n",
    "\n",
    "Мы будем использовать L2 regularization для весов как часть общей функции ошибки.\n",
    "\n",
    "Напомним, L2 regularization определяется как\n",
    "\n",
    "l2_reg_loss = regularization_strength * sum<sub>ij</sub> W[i, j]<sup>2</sup>\n",
    "\n",
    "Реализуйте функцию для его вычисления и вычисления соотвествующих градиентов."
   ]
  },
  {
   "cell_type": "code",
   "execution_count": 116,
   "metadata": {},
   "outputs": [
    {
     "name": "stdout",
     "output_type": "stream",
     "text": [
      "Gradient check passed!\n"
     ]
    },
    {
     "data": {
      "text/plain": [
       "True"
      ]
     },
     "execution_count": 116,
     "metadata": {},
     "output_type": "execute_result"
    }
   ],
   "source": [
    "# TODO Implement l2_regularization function that implements loss for L2 regularization\n",
    "linear_classifer.l2_regularization(W, 0.01)\n",
    "check_gradient(lambda w: linear_classifer.l2_regularization(w, 0.01), W)"
   ]
  },
  {
   "cell_type": "markdown",
   "metadata": {},
   "source": [
    "# Тренировка!"
   ]
  },
  {
   "cell_type": "markdown",
   "metadata": {},
   "source": [
    "Градиенты в порядке, реализуем процесс тренировки!"
   ]
  },
  {
   "cell_type": "code",
   "execution_count": 119,
   "metadata": {
    "scrolled": false
   },
   "outputs": [
    {
     "name": "stdout",
     "output_type": "stream",
     "text": [
      "Epoch 0, loss: 2.398836\n",
      "Epoch 1, loss: 2.330387\n",
      "Epoch 2, loss: 2.311212\n",
      "Epoch 3, loss: 2.303859\n",
      "Epoch 4, loss: 2.302782\n",
      "Epoch 5, loss: 2.302172\n",
      "Epoch 6, loss: 2.301904\n",
      "Epoch 7, loss: 2.302429\n",
      "Epoch 8, loss: 2.302024\n",
      "Epoch 9, loss: 2.302002\n"
     ]
    }
   ],
   "source": [
    "# TODO: Implement LinearSoftmaxClassifier.fit function\n",
    "classifier = linear_classifer.LinearSoftmaxClassifier()\n",
    "loss_history = classifier.fit(train_X, train_y, epochs=10, learning_rate=1e-3, batch_size=300, reg=1e1)"
   ]
  },
  {
   "cell_type": "code",
   "execution_count": 120,
   "metadata": {},
   "outputs": [
    {
     "data": {
      "text/plain": [
       "[<matplotlib.lines.Line2D at 0x7f81948e57b8>]"
      ]
     },
     "execution_count": 120,
     "metadata": {},
     "output_type": "execute_result"
    },
    {
     "data": {
      "image/png": "[encoded data removed]",
      "text/plain": [
       "<Figure size 432x288 with 1 Axes>"
      ]
     },
     "metadata": {
      "needs_background": "light"
     },
     "output_type": "display_data"
    }
   ],
   "source": [
    "# let's look at the loss history!\n",
    "plt.plot(loss_history)"
   ]
  },
  {
   "cell_type": "code",
   "execution_count": 123,
   "metadata": {},
   "outputs": [
    {
     "name": "stdout",
     "output_type": "stream",
     "text": [
      "Accuracy:  0.125\n",
      "Epoch 0, loss: 2.302568\n",
      "Epoch 1, loss: 2.301915\n",
      "Epoch 2, loss: 2.301670\n",
      "Epoch 3, loss: 2.301651\n",
      "Epoch 4, loss: 2.302606\n",
      "Epoch 5, loss: 2.302616\n",
      "Epoch 6, loss: 2.301407\n",
      "Epoch 7, loss: 2.301296\n",
      "Epoch 8, loss: 2.301311\n",
      "Epoch 9, loss: 2.301497\n",
      "Epoch 10, loss: 2.302068\n",
      "Epoch 11, loss: 2.301988\n",
      "Epoch 12, loss: 2.301798\n",
      "Epoch 13, loss: 2.301515\n",
      "Epoch 14, loss: 2.302763\n",
      "Epoch 15, loss: 2.301247\n",
      "Epoch 16, loss: 2.301935\n",
      "Epoch 17, loss: 2.301691\n",
      "Epoch 18, loss: 2.301489\n",
      "Epoch 19, loss: 2.301401\n",
      "Epoch 20, loss: 2.301218\n",
      "Epoch 21, loss: 2.301532\n",
      "Epoch 22, loss: 2.303023\n",
      "Epoch 23, loss: 2.302017\n",
      "Epoch 24, loss: 2.301387\n",
      "Epoch 25, loss: 2.301744\n",
      "Epoch 26, loss: 2.302303\n",
      "Epoch 27, loss: 2.301941\n",
      "Epoch 28, loss: 2.301229\n",
      "Epoch 29, loss: 2.302482\n",
      "Epoch 30, loss: 2.302373\n",
      "Epoch 31, loss: 2.301513\n",
      "Epoch 32, loss: 2.302127\n",
      "Epoch 33, loss: 2.302151\n",
      "Epoch 34, loss: 2.301923\n",
      "Epoch 35, loss: 2.302624\n",
      "Epoch 36, loss: 2.301534\n",
      "Epoch 37, loss: 2.301500\n",
      "Epoch 38, loss: 2.301506\n",
      "Epoch 39, loss: 2.301696\n",
      "Epoch 40, loss: 2.302569\n",
      "Epoch 41, loss: 2.303282\n",
      "Epoch 42, loss: 2.302124\n",
      "Epoch 43, loss: 2.302115\n",
      "Epoch 44, loss: 2.301429\n",
      "Epoch 45, loss: 2.301505\n",
      "Epoch 46, loss: 2.301348\n",
      "Epoch 47, loss: 2.302657\n",
      "Epoch 48, loss: 2.301783\n",
      "Epoch 49, loss: 2.302562\n",
      "Epoch 50, loss: 2.302092\n",
      "Epoch 51, loss: 2.302550\n",
      "Epoch 52, loss: 2.302417\n",
      "Epoch 53, loss: 2.302098\n",
      "Epoch 54, loss: 2.302304\n",
      "Epoch 55, loss: 2.301328\n",
      "Epoch 56, loss: 2.302717\n",
      "Epoch 57, loss: 2.301332\n",
      "Epoch 58, loss: 2.301717\n",
      "Epoch 59, loss: 2.301579\n",
      "Epoch 60, loss: 2.301526\n",
      "Epoch 61, loss: 2.302562\n",
      "Epoch 62, loss: 2.301621\n",
      "Epoch 63, loss: 2.302139\n",
      "Epoch 64, loss: 2.302353\n",
      "Epoch 65, loss: 2.302302\n",
      "Epoch 66, loss: 2.302456\n",
      "Epoch 67, loss: 2.301222\n",
      "Epoch 68, loss: 2.301744\n",
      "Epoch 69, loss: 2.301678\n",
      "Epoch 70, loss: 2.302230\n",
      "Epoch 71, loss: 2.302192\n",
      "Epoch 72, loss: 2.302017\n",
      "Epoch 73, loss: 2.302115\n",
      "Epoch 74, loss: 2.302599\n",
      "Epoch 75, loss: 2.301665\n",
      "Epoch 76, loss: 2.301994\n",
      "Epoch 77, loss: 2.301416\n",
      "Epoch 78, loss: 2.301690\n",
      "Epoch 79, loss: 2.301357\n",
      "Epoch 80, loss: 2.302354\n",
      "Epoch 81, loss: 2.302384\n",
      "Epoch 82, loss: 2.301799\n",
      "Epoch 83, loss: 2.302289\n",
      "Epoch 84, loss: 2.302153\n",
      "Epoch 85, loss: 2.302024\n",
      "Epoch 86, loss: 2.301934\n",
      "Epoch 87, loss: 2.303337\n",
      "Epoch 88, loss: 2.301354\n",
      "Epoch 89, loss: 2.302180\n",
      "Epoch 90, loss: 2.301956\n",
      "Epoch 91, loss: 2.301915\n",
      "Epoch 92, loss: 2.302347\n",
      "Epoch 93, loss: 2.301590\n",
      "Epoch 94, loss: 2.302166\n",
      "Epoch 95, loss: 2.301414\n",
      "Epoch 96, loss: 2.302871\n",
      "Epoch 97, loss: 2.302137\n",
      "Epoch 98, loss: 2.301465\n",
      "Epoch 99, loss: 2.301641\n",
      "Accuracy after training for 100 epochs:  0.13\n"
     ]
    }
   ],
   "source": [
    "# Let's check how it performs on validation set\n",
    "pred = classifier.predict(val_X)\n",
    "accuracy = multiclass_accuracy(pred, val_y)\n",
    "print(\"Accuracy: \", accuracy)\n",
    "\n",
    "# Now, let's train more and see if it performs better\n",
    "classifier.fit(train_X, train_y, epochs=100, learning_rate=1e-3, batch_size=300, reg=1e1)\n",
    "pred = classifier.predict(val_X)\n",
    "accuracy = multiclass_accuracy(pred, val_y)\n",
    "print(\"Accuracy after training for 100 epochs: \", accuracy)"
   ]
  },
  {
   "cell_type": "markdown",
   "metadata": {},
   "source": [
    "### Как и раньше, используем кросс-валидацию для подбора гиперпараметтов.\n",
    "\n",
    "В этот раз, чтобы тренировка занимала разумное время, мы будем использовать только одно разделение на тренировочные (training) и проверочные (validation) данные.\n",
    "\n",
    "Теперь нам нужно подобрать не один, а два гиперпараметра! Не ограничивайте себя изначальными значениями в коде.  \n",
    "Добейтесь точности более чем **20%** на проверочных данных (validation data)."
   ]
  },
  {
   "cell_type": "code",
   "execution_count": 136,
   "metadata": {},
   "outputs": [
    {
     "name": "stdout",
     "output_type": "stream",
     "text": [
      "Epoch 0, loss: 2.295510\n",
      "Epoch 1, loss: 2.257406\n",
      "Epoch 2, loss: 2.236512\n",
      "Epoch 3, loss: 2.213215\n",
      "Epoch 4, loss: 2.223088\n",
      "Epoch 5, loss: 2.162527\n",
      "Epoch 6, loss: 2.198468\n",
      "Epoch 7, loss: 2.186572\n",
      "Epoch 8, loss: 2.158554\n",
      "Epoch 9, loss: 2.232088\n",
      "Epoch 0, loss: 2.275140\n",
      "Epoch 1, loss: 2.252533\n",
      "Epoch 2, loss: 2.185482\n",
      "Epoch 3, loss: 2.245819\n",
      "Epoch 4, loss: 2.169416\n",
      "Epoch 5, loss: 2.102870\n",
      "Epoch 6, loss: 2.140875\n",
      "Epoch 7, loss: 2.143770\n",
      "Epoch 8, loss: 2.160022\n",
      "Epoch 9, loss: 2.069683\n",
      "Epoch 0, loss: 2.268575\n",
      "Epoch 1, loss: 2.226512\n",
      "Epoch 2, loss: 2.215402\n",
      "Epoch 3, loss: 2.227538\n",
      "Epoch 4, loss: 2.155332\n",
      "Epoch 5, loss: 2.137265\n",
      "Epoch 6, loss: 2.179876\n",
      "Epoch 7, loss: 2.140407\n",
      "Epoch 8, loss: 2.156950\n",
      "Epoch 9, loss: 2.205153\n",
      "Epoch 0, loss: 2.259409\n",
      "Epoch 1, loss: 2.229452\n",
      "Epoch 2, loss: 2.203568\n",
      "Epoch 3, loss: 2.211344\n",
      "Epoch 4, loss: 2.171566\n",
      "Epoch 5, loss: 2.191656\n",
      "Epoch 6, loss: 2.098057\n",
      "Epoch 7, loss: 2.169792\n",
      "Epoch 8, loss: 2.179000\n",
      "Epoch 9, loss: 2.117726\n",
      "Epoch 0, loss: 2.253101\n",
      "Epoch 1, loss: 2.230685\n",
      "Epoch 2, loss: 2.201440\n",
      "Epoch 3, loss: 2.197459\n",
      "Epoch 4, loss: 2.130778\n",
      "Epoch 5, loss: 2.148370\n",
      "Epoch 6, loss: 2.145785\n",
      "Epoch 7, loss: 2.154917\n",
      "Epoch 8, loss: 2.170717\n",
      "Epoch 9, loss: 2.167147\n",
      "Epoch 0, loss: 2.298479\n",
      "Epoch 1, loss: 2.282158\n",
      "Epoch 2, loss: 2.284533\n",
      "Epoch 3, loss: 2.272391\n",
      "Epoch 4, loss: 2.257727\n",
      "Epoch 5, loss: 2.250637\n",
      "Epoch 6, loss: 2.251960\n",
      "Epoch 7, loss: 2.262646\n",
      "Epoch 8, loss: 2.236510\n",
      "Epoch 9, loss: 2.230412\n",
      "Epoch 0, loss: 2.294744\n",
      "Epoch 1, loss: 2.296791\n",
      "Epoch 2, loss: 2.279354\n",
      "Epoch 3, loss: 2.270562\n",
      "Epoch 4, loss: 2.270185\n",
      "Epoch 5, loss: 2.264269\n",
      "Epoch 6, loss: 2.273074\n",
      "Epoch 7, loss: 2.248869\n",
      "Epoch 8, loss: 2.232078\n",
      "Epoch 9, loss: 2.247287\n",
      "Epoch 0, loss: 2.296366\n",
      "Epoch 1, loss: 2.281927\n",
      "Epoch 2, loss: 2.280452\n",
      "Epoch 3, loss: 2.264466\n",
      "Epoch 4, loss: 2.274173\n",
      "Epoch 5, loss: 2.261417\n",
      "Epoch 6, loss: 2.257995\n",
      "Epoch 7, loss: 2.250140\n",
      "Epoch 8, loss: 2.237611\n",
      "Epoch 9, loss: 2.223517\n",
      "Epoch 0, loss: 2.290177\n",
      "Epoch 1, loss: 2.286236\n",
      "Epoch 2, loss: 2.286540\n",
      "Epoch 3, loss: 2.272506\n",
      "Epoch 4, loss: 2.267797\n",
      "Epoch 5, loss: 2.245357\n",
      "Epoch 6, loss: 2.262971\n",
      "Epoch 7, loss: 2.260846\n",
      "Epoch 8, loss: 2.243397\n",
      "Epoch 9, loss: 2.247923\n",
      "Epoch 0, loss: 2.297887\n",
      "Epoch 1, loss: 2.289074\n",
      "Epoch 2, loss: 2.276485\n",
      "Epoch 3, loss: 2.269830\n",
      "Epoch 4, loss: 2.266746\n",
      "Epoch 5, loss: 2.261289\n",
      "Epoch 6, loss: 2.253851\n",
      "Epoch 7, loss: 2.252083\n",
      "Epoch 8, loss: 2.255710\n",
      "Epoch 9, loss: 2.260982\n",
      "Epoch 0, loss: 2.301660\n",
      "Epoch 1, loss: 2.299193\n",
      "Epoch 2, loss: 2.299855\n",
      "Epoch 3, loss: 2.295643\n",
      "Epoch 4, loss: 2.297782\n",
      "Epoch 5, loss: 2.296190\n",
      "Epoch 6, loss: 2.296270\n",
      "Epoch 7, loss: 2.295880\n",
      "Epoch 8, loss: 2.295638\n",
      "Epoch 9, loss: 2.294539\n",
      "Epoch 0, loss: 2.300787\n",
      "Epoch 1, loss: 2.301622\n",
      "Epoch 2, loss: 2.299906\n",
      "Epoch 3, loss: 2.299877\n",
      "Epoch 4, loss: 2.296475\n",
      "Epoch 5, loss: 2.296717\n",
      "Epoch 6, loss: 2.297082\n",
      "Epoch 7, loss: 2.297931\n",
      "Epoch 8, loss: 2.296596\n",
      "Epoch 9, loss: 2.294257\n",
      "Epoch 0, loss: 2.301253\n",
      "Epoch 1, loss: 2.301214\n",
      "Epoch 2, loss: 2.299969\n",
      "Epoch 3, loss: 2.298100\n",
      "Epoch 4, loss: 2.300938\n",
      "Epoch 5, loss: 2.295994\n",
      "Epoch 6, loss: 2.295240\n",
      "Epoch 7, loss: 2.296960\n",
      "Epoch 8, loss: 2.295974\n",
      "Epoch 9, loss: 2.292768\n",
      "Epoch 0, loss: 2.302116\n",
      "Epoch 1, loss: 2.301237\n",
      "Epoch 2, loss: 2.298725\n",
      "Epoch 3, loss: 2.297891\n",
      "Epoch 4, loss: 2.297679\n",
      "Epoch 5, loss: 2.298172\n",
      "Epoch 6, loss: 2.295582\n",
      "Epoch 7, loss: 2.297041\n",
      "Epoch 8, loss: 2.294269\n",
      "Epoch 9, loss: 2.294478\n",
      "Epoch 0, loss: 2.303115\n",
      "Epoch 1, loss: 2.299951\n",
      "Epoch 2, loss: 2.300561\n",
      "Epoch 3, loss: 2.298768\n",
      "Epoch 4, loss: 2.300711\n",
      "Epoch 5, loss: 2.295910\n",
      "Epoch 6, loss: 2.300207\n",
      "Epoch 7, loss: 2.296929\n",
      "Epoch 8, loss: 2.294485\n",
      "Epoch 9, loss: 2.297357\n",
      "Epoch 0, loss: 2.302819\n",
      "Epoch 1, loss: 2.303459\n",
      "Epoch 2, loss: 2.302270\n",
      "Epoch 3, loss: 2.302373\n",
      "Epoch 4, loss: 2.301786\n",
      "Epoch 5, loss: 2.302137\n",
      "Epoch 6, loss: 2.302063\n",
      "Epoch 7, loss: 2.301827\n",
      "Epoch 8, loss: 2.302024\n",
      "Epoch 9, loss: 2.302465\n",
      "Epoch 0, loss: 2.302599\n",
      "Epoch 1, loss: 2.301588\n",
      "Epoch 2, loss: 2.302536\n",
      "Epoch 3, loss: 2.301887\n",
      "Epoch 4, loss: 2.301565\n",
      "Epoch 5, loss: 2.301739\n",
      "Epoch 6, loss: 2.301916\n",
      "Epoch 7, loss: 2.302013\n",
      "Epoch 8, loss: 2.301784\n",
      "Epoch 9, loss: 2.301051\n",
      "Epoch 0, loss: 2.301727\n",
      "Epoch 1, loss: 2.302201\n",
      "Epoch 2, loss: 2.302344\n",
      "Epoch 3, loss: 2.302194\n",
      "Epoch 4, loss: 2.302619\n",
      "Epoch 5, loss: 2.301717\n",
      "Epoch 6, loss: 2.301474\n",
      "Epoch 7, loss: 2.300957\n",
      "Epoch 8, loss: 2.300755\n",
      "Epoch 9, loss: 2.301001\n",
      "Epoch 0, loss: 2.302818\n",
      "Epoch 1, loss: 2.302178\n",
      "Epoch 2, loss: 2.301373\n",
      "Epoch 3, loss: 2.301873\n",
      "Epoch 4, loss: 2.302658\n",
      "Epoch 5, loss: 2.302322\n",
      "Epoch 6, loss: 2.302575\n",
      "Epoch 7, loss: 2.303243\n",
      "Epoch 8, loss: 2.302212\n",
      "Epoch 9, loss: 2.301242\n",
      "Epoch 0, loss: 2.303305\n",
      "Epoch 1, loss: 2.302060\n",
      "Epoch 2, loss: 2.304585\n",
      "Epoch 3, loss: 2.301880\n",
      "Epoch 4, loss: 2.301918\n",
      "Epoch 5, loss: 2.301173\n",
      "Epoch 6, loss: 2.300148\n",
      "Epoch 7, loss: 2.301428\n",
      "Epoch 8, loss: 2.301288\n",
      "Epoch 9, loss: 2.301860\n",
      "Epoch 0, loss: 2.302603\n",
      "Epoch 1, loss: 2.301805\n",
      "Epoch 2, loss: 2.302108\n",
      "Epoch 3, loss: 2.302547\n",
      "Epoch 4, loss: 2.302124\n",
      "Epoch 5, loss: 2.302352\n",
      "Epoch 6, loss: 2.302008\n",
      "Epoch 7, loss: 2.302891\n",
      "Epoch 8, loss: 2.302738\n",
      "Epoch 9, loss: 2.302844\n",
      "Epoch 0, loss: 2.303229\n",
      "Epoch 1, loss: 2.303460\n",
      "Epoch 2, loss: 2.302183\n",
      "Epoch 3, loss: 2.303301\n",
      "Epoch 4, loss: 2.303218\n",
      "Epoch 5, loss: 2.302319\n",
      "Epoch 6, loss: 2.303216\n",
      "Epoch 7, loss: 2.303236\n",
      "Epoch 8, loss: 2.303930\n",
      "Epoch 9, loss: 2.303223\n",
      "Epoch 0, loss: 2.302556\n",
      "Epoch 1, loss: 2.302406\n",
      "Epoch 2, loss: 2.302949\n",
      "Epoch 3, loss: 2.302838\n",
      "Epoch 4, loss: 2.302617\n",
      "Epoch 5, loss: 2.302658\n",
      "Epoch 6, loss: 2.302461\n",
      "Epoch 7, loss: 2.303639\n",
      "Epoch 8, loss: 2.302175\n",
      "Epoch 9, loss: 2.302161\n",
      "Epoch 0, loss: 2.302569\n",
      "Epoch 1, loss: 2.301846\n",
      "Epoch 2, loss: 2.302353\n",
      "Epoch 3, loss: 2.302048\n",
      "Epoch 4, loss: 2.302173\n",
      "Epoch 5, loss: 2.302840\n",
      "Epoch 6, loss: 2.302713\n",
      "Epoch 7, loss: 2.301907\n",
      "Epoch 8, loss: 2.302104\n",
      "Epoch 9, loss: 2.302747\n",
      "Epoch 0, loss: 2.303764\n",
      "Epoch 1, loss: 2.301550\n",
      "Epoch 2, loss: 2.302429\n",
      "Epoch 3, loss: 2.302917\n",
      "Epoch 4, loss: 2.302473\n",
      "Epoch 5, loss: 2.302589\n",
      "Epoch 6, loss: 2.302465\n",
      "Epoch 7, loss: 2.301804\n",
      "Epoch 8, loss: 2.303328\n",
      "Epoch 9, loss: 2.302126\n",
      "Epoch 0, loss: 2.302568\n",
      "Epoch 1, loss: 2.303846\n",
      "Epoch 2, loss: 2.304552\n",
      "Epoch 3, loss: 2.304200\n",
      "Epoch 4, loss: 2.302438\n",
      "Epoch 5, loss: 2.302458\n",
      "Epoch 6, loss: 2.304063\n",
      "Epoch 7, loss: 2.301782\n",
      "Epoch 8, loss: 2.301883\n",
      "Epoch 9, loss: 2.304075\n",
      "Epoch 0, loss: 2.302787\n",
      "Epoch 1, loss: 2.302810\n",
      "Epoch 2, loss: 2.302838\n",
      "Epoch 3, loss: 2.302985\n",
      "Epoch 4, loss: 2.304070\n",
      "Epoch 5, loss: 2.302859\n",
      "Epoch 6, loss: 2.302651\n",
      "Epoch 7, loss: 2.302066\n",
      "Epoch 8, loss: 2.302582\n",
      "Epoch 9, loss: 2.302614\n",
      "Epoch 0, loss: 2.301511\n",
      "Epoch 1, loss: 2.302351\n",
      "Epoch 2, loss: 2.303381\n",
      "Epoch 3, loss: 2.303496\n",
      "Epoch 4, loss: 2.302045\n",
      "Epoch 5, loss: 2.301431\n",
      "Epoch 6, loss: 2.302985\n",
      "Epoch 7, loss: 2.302247\n",
      "Epoch 8, loss: 2.303868\n",
      "Epoch 9, loss: 2.302594\n",
      "Epoch 0, loss: 2.303701\n",
      "Epoch 1, loss: 2.303459\n",
      "Epoch 2, loss: 2.303063\n",
      "Epoch 3, loss: 2.303140\n",
      "Epoch 4, loss: 2.303569\n",
      "Epoch 5, loss: 2.301980\n",
      "Epoch 6, loss: 2.302607\n",
      "Epoch 7, loss: 2.303247\n",
      "Epoch 8, loss: 2.302530\n",
      "Epoch 9, loss: 2.303166\n",
      "Epoch 0, loss: 2.302145\n",
      "Epoch 1, loss: 2.302684\n",
      "Epoch 2, loss: 2.302094\n",
      "Epoch 3, loss: 2.302370\n",
      "Epoch 4, loss: 2.303239\n",
      "Epoch 5, loss: 2.302218\n",
      "Epoch 6, loss: 2.302917\n",
      "Epoch 7, loss: 2.302464\n",
      "Epoch 8, loss: 2.303286\n",
      "Epoch 9, loss: 2.302437\n",
      "Epoch 0, loss: 2.302353\n",
      "Epoch 1, loss: 2.302912\n",
      "Epoch 2, loss: 2.302715\n",
      "Epoch 3, loss: 2.301703\n",
      "Epoch 4, loss: 2.302634\n",
      "Epoch 5, loss: 2.303460\n",
      "Epoch 6, loss: 2.302682\n",
      "Epoch 7, loss: 2.303487\n",
      "Epoch 8, loss: 2.302298\n",
      "Epoch 9, loss: 2.303037\n",
      "Epoch 0, loss: 2.303546\n",
      "Epoch 1, loss: 2.302260\n",
      "Epoch 2, loss: 2.300474\n",
      "Epoch 3, loss: 2.303554\n",
      "Epoch 4, loss: 2.301648\n",
      "Epoch 5, loss: 2.302518\n",
      "Epoch 6, loss: 2.303233\n",
      "Epoch 7, loss: 2.303590\n",
      "Epoch 8, loss: 2.301988\n",
      "Epoch 9, loss: 2.303606\n",
      "Epoch 0, loss: 2.302214\n",
      "Epoch 1, loss: 2.302838\n",
      "Epoch 2, loss: 2.303331\n",
      "Epoch 3, loss: 2.302767\n",
      "Epoch 4, loss: 2.302571\n",
      "Epoch 5, loss: 2.302102\n",
      "Epoch 6, loss: 2.302890\n",
      "Epoch 7, loss: 2.301956\n",
      "Epoch 8, loss: 2.302471\n",
      "Epoch 9, loss: 2.302230\n",
      "Epoch 0, loss: 2.301977\n",
      "Epoch 1, loss: 2.302261\n",
      "Epoch 2, loss: 2.302770\n",
      "Epoch 3, loss: 2.303341\n",
      "Epoch 4, loss: 2.303129\n",
      "Epoch 5, loss: 2.302523\n",
      "Epoch 6, loss: 2.303134\n",
      "Epoch 7, loss: 2.301660\n",
      "Epoch 8, loss: 2.302512\n",
      "Epoch 9, loss: 2.301579\n",
      "Epoch 0, loss: 2.302920\n",
      "Epoch 1, loss: 2.301571\n",
      "Epoch 2, loss: 2.302304\n"
     ]
    },
    {
     "name": "stdout",
     "output_type": "stream",
     "text": [
      "Epoch 3, loss: 2.302552\n",
      "Epoch 4, loss: 2.302540\n",
      "Epoch 5, loss: 2.302673\n",
      "Epoch 6, loss: 2.302795\n",
      "Epoch 7, loss: 2.303311\n",
      "Epoch 8, loss: 2.302896\n",
      "Epoch 9, loss: 2.302216\n",
      "best validation accuracy achieved: 0.243000\n"
     ]
    }
   ],
   "source": [
    "num_epochs = 200\n",
    "batch_size = 300\n",
    "\n",
    "learning_rates = [1e-1, 1e-2, 1e-3, 1e-4, 1e-5, 1e-6, 1e-7]\n",
    "reg_strengths = [1e-2, 1e-4, 1e-5, 1e-6, 1e-8]\n",
    "\n",
    "best_classifier = None\n",
    "best_val_accuracy = 0\n",
    "\n",
    "# TODO use validation set to find the best hyperparameters\n",
    "# hint: for best results, you might need to try more values for learning rate and regularization strength \n",
    "# than provided initially\n",
    "\n",
    "pairs = [(lr, reg) for lr in learning_rates for reg in reg_strengths]\n",
    "for lr, reg in pairs:\n",
    "    classifier = linear_classifer.LinearSoftmaxClassifier()\n",
    "    loss_history = classifier.fit(train_X, train_y, epochs=200, learning_rate=lr, batch_size=batch_size, reg=reg)\n",
    "    pred = classifier.predict(val_X)\n",
    "    accuracy = multiclass_accuracy(pred, val_y)\n",
    "    if accuracy > best_val_accuracy:\n",
    "        best_classifier = classifier\n",
    "        best_val_accuracy = accuracy\n",
    "print('best validation accuracy achieved: %f' % best_val_accuracy)"
   ]
  },
  {
   "cell_type": "markdown",
   "metadata": {},
   "source": [
    "# Какой же точности мы добились на тестовых данных?"
   ]
  },
  {
   "cell_type": "code",
   "execution_count": 138,
   "metadata": {},
   "outputs": [
    {
     "name": "stdout",
     "output_type": "stream",
     "text": [
      "Linear softmax classifier test set accuracy: 0.200000\n"
     ]
    }
   ],
   "source": [
    "test_pred = best_classifier.predict(test_X)\n",
    "test_accuracy = multiclass_accuracy(test_pred, test_y)\n",
    "print('Linear softmax classifier test set accuracy: %f' % (test_accuracy, ))"
   ]
  }
 ],
 "metadata": {
  "kernelspec": {
   "display_name": "conda",
   "language": "python",
   "name": "conda"
  },
  "language_info": {
   "codemirror_mode": {
    "name": "ipython",
    "version": 3
   },
   "file_extension": ".py",
   "mimetype": "text/x-python",
   "name": "python",
   "nbconvert_exporter": "python",
   "pygments_lexer": "ipython3",
   "version": "3.7.3"
  }
 },
 "nbformat": 4,
 "nbformat_minor": 2
}
