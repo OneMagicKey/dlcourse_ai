{
 "cells": [
  {
   "cell_type": "markdown",
   "metadata": {
    "colab_type": "text",
    "id": "LW-IGO2xgM8V"
   },
   "source": [
    "# Задание 2.2 - Введение в PyTorch\n",
    "\n",
    "Для этого задания потребуется установить версию PyTorch 1.0\n",
    "\n",
    "https://pytorch.org/get-started/locally/\n",
    "\n",
    "В этом задании мы познакомимся с основными компонентами PyTorch и натренируем несколько небольших моделей.<br>\n",
    "GPU нам пока не понадобится.\n",
    "\n",
    "Основные ссылки:  \n",
    "https://pytorch.org/tutorials/beginner/deep_learning_60min_blitz.html  \n",
    "https://pytorch.org/docs/stable/nn.html  \n",
    "https://pytorch.org/docs/stable/torchvision/index.html  "
   ]
  },
  {
   "cell_type": "code",
   "execution_count": 3,
   "metadata": {
    "colab": {},
    "colab_type": "code",
    "id": "HPPbKiI4gM8Y",
    "scrolled": true
   },
   "outputs": [],
   "source": [
    "import torch\n",
    "import torch.nn as nn\n",
    "import torch.optim as optim\n",
    "import torchvision.datasets as dset\n",
    "from torch.utils.data.sampler import SubsetRandomSampler, Sampler\n",
    "\n",
    "from torchvision import transforms\n",
    "\n",
    "import matplotlib.pyplot as plt\n",
    "%matplotlib inline\n",
    "\n",
    "import numpy as np"
   ]
  },
  {
   "cell_type": "markdown",
   "metadata": {
    "colab_type": "text",
    "id": "lQQGqs1hgM8d"
   },
   "source": [
    "## Как всегда, начинаем с загрузки данных\n",
    "\n",
    "PyTorch поддерживает загрузку SVHN из коробки."
   ]
  },
  {
   "cell_type": "code",
   "execution_count": 4,
   "metadata": {
    "colab": {},
    "colab_type": "code",
    "id": "bCkrsMtZgM8e",
    "scrolled": true
   },
   "outputs": [],
   "source": [
    "# First, lets load the dataset\n",
    "data_train = dset.SVHN('./data/', split='train',\n",
    "                       transform=transforms.Compose([\n",
    "                           transforms.ToTensor(),\n",
    "                           transforms.Normalize(mean=[0.43,0.44,0.47],\n",
    "                                               std=[0.20,0.20,0.20])                           \n",
    "                       ])\n",
    "                      )\n",
    "data_test = dset.SVHN('./data/', split='test', \n",
    "                      transform=transforms.Compose([\n",
    "                           transforms.ToTensor(),\n",
    "                           transforms.Normalize(mean=[0.43,0.44,0.47],\n",
    "                                               std=[0.20,0.20,0.20])                           \n",
    "                       ]))"
   ]
  },
  {
   "cell_type": "markdown",
   "metadata": {
    "colab_type": "text",
    "id": "qHJUieZVgM8i"
   },
   "source": [
    "Теперь мы разделим данные на training и validation с использованием классов `SubsetRandomSampler` и `DataLoader`.\n",
    "\n",
    "`DataLoader` подгружает данные, предоставляемые классом `Dataset`, во время тренировки и группирует их в батчи.\n",
    "Он дает возможность указать `Sampler`, который выбирает, какие примеры из датасета использовать для тренировки. Мы используем это, чтобы разделить данные на training и validation.\n",
    "\n",
    "Подробнее: https://pytorch.org/tutorials/beginner/data_loading_tutorial.html"
   ]
  },
  {
   "cell_type": "code",
   "execution_count": 7,
   "metadata": {
    "colab": {},
    "colab_type": "code",
    "id": "IA6jrCCigM8j",
    "scrolled": true
   },
   "outputs": [],
   "source": [
    "batch_size = 64\n",
    "\n",
    "data_size = data_train.data.shape[0]\n",
    "validation_split = .2\n",
    "split = int(np.floor(validation_split * data_size))\n",
    "indices = list(range(data_size))\n",
    "np.random.shuffle(indices)\n",
    "\n",
    "train_indices, val_indices = indices[split:], indices[:split]\n",
    "\n",
    "train_sampler = SubsetRandomSampler(train_indices)\n",
    "val_sampler = SubsetRandomSampler(val_indices)\n",
    "\n",
    "train_loader = torch.utils.data.DataLoader(data_train, batch_size=batch_size, \n",
    "                                           sampler=train_sampler)\n",
    "val_loader = torch.utils.data.DataLoader(data_train, batch_size=batch_size,\n",
    "                                         sampler=val_sampler)"
   ]
  },
  {
   "cell_type": "markdown",
   "metadata": {
    "colab_type": "text",
    "id": "iBb7L_9dgM8n"
   },
   "source": [
    "В нашей задаче мы получаем на вход изображения, но работаем с ними как с одномерными массивами. Чтобы превратить многомерный массив в одномерный, мы воспользуемся очень простым вспомогательным модулем `Flattener`."
   ]
  },
  {
   "cell_type": "code",
   "execution_count": 8,
   "metadata": {
    "colab": {
     "base_uri": "https://localhost:8080/",
     "height": 35
    },
    "colab_type": "code",
    "id": "X9iDNIRvgM8p",
    "outputId": "32caec26-93aa-462b-d41f-a3da520778e2",
    "scrolled": true
   },
   "outputs": [
    {
     "name": "stdout",
     "output_type": "stream",
     "text": [
      "SVHN data sample shape:  torch.Size([3, 32, 32])\n"
     ]
    }
   ],
   "source": [
    "sample, label = data_train[0]\n",
    "print(\"SVHN data sample shape: \", sample.shape)\n",
    "# As you can see, the data is shaped like an image\n",
    "\n",
    "# We'll use a special helper module to shape it into a tensor\n",
    "class Flattener(nn.Module):\n",
    "    def forward(self, x):\n",
    "        batch_size, *_ = x.shape\n",
    "        return x.view(batch_size, -1)"
   ]
  },
  {
   "cell_type": "markdown",
   "metadata": {
    "colab_type": "text",
    "id": "m9EBmNapgM8t"
   },
   "source": [
    "И наконец, мы создаем основные объекты PyTorch:\n",
    "- `nn_model` - собственно, модель с нейросетью\n",
    "- `loss` - функцию ошибки, в нашем случае `CrossEntropyLoss`\n",
    "- `optimizer` - алгоритм оптимизации, в нашем случае просто `SGD`"
   ]
  },
  {
   "cell_type": "code",
   "execution_count": 10,
   "metadata": {
    "colab": {},
    "colab_type": "code",
    "id": "lKXmw3MFgM8v",
    "scrolled": true
   },
   "outputs": [],
   "source": [
    "nn_model = nn.Sequential(\n",
    "            Flattener(),\n",
    "            nn.Linear(3*32*32, 100),\n",
    "            nn.ReLU(inplace=True),\n",
    "            nn.Linear(100, 10), \n",
    "         )\n",
    "nn_model.type(torch.FloatTensor)\n",
    "\n",
    "# We will minimize cross-entropy between the ground truth and\n",
    "# network predictions using an SGD optimizer\n",
    "loss = nn.CrossEntropyLoss().type(torch.FloatTensor)\n",
    "optimizer = optim.SGD(nn_model.parameters(), lr=1e-2, weight_decay=1e-1)"
   ]
  },
  {
   "cell_type": "markdown",
   "metadata": {
    "colab_type": "text",
    "id": "Dz6QRX_XgM8z"
   },
   "source": [
    "## Тренируем!\n",
    "\n",
    "Ниже приведена функция `train_model`, реализующая основной цикл тренировки PyTorch.\n",
    "\n",
    "Каждую эпоху эта функция вызывает функцию `compute_accuracy`, которая вычисляет точность на validation, эту последнюю функцию предлагается реализовать вам."
   ]
  },
  {
   "cell_type": "code",
   "execution_count": 11,
   "metadata": {
    "colab": {
     "base_uri": "https://localhost:8080/",
     "height": 71
    },
    "colab_type": "code",
    "id": "84jIiTfNgM80",
    "outputId": "49755764-66a0-4891-ddca-cd95758f8756",
    "scrolled": true
   },
   "outputs": [
    {
     "name": "stdout",
     "output_type": "stream",
     "text": [
      "Average loss: 1.805160, Train accuracy: 0.421339, Val accuracy: 0.555798\n",
      "Average loss: 1.453748, Train accuracy: 0.586715, Val accuracy: 0.615999\n",
      "Average loss: 1.381081, Train accuracy: 0.620551, Val accuracy: 0.615248\n"
     ]
    }
   ],
   "source": [
    "# This is how to implement the same main train loop in PyTorch. Pretty easy, right?\n",
    "\n",
    "def train_model(model, train_loader, val_loader, loss, optimizer, num_epochs, scheduler = None):    \n",
    "    loss_history = []\n",
    "    train_history = []\n",
    "    val_history = []\n",
    "    for epoch in range(num_epochs):\n",
    "        model.train() # Enter train mode\n",
    "        \n",
    "        loss_accum = 0\n",
    "        correct_samples = 0\n",
    "        total_samples = 0\n",
    "        for i_step, (x, y) in enumerate(train_loader):\n",
    "            prediction = model(x)    \n",
    "            loss_value = loss(prediction, y)\n",
    "            optimizer.zero_grad()\n",
    "            loss_value.backward()\n",
    "            optimizer.step()\n",
    "            \n",
    "            _, indices = torch.max(prediction, 1)\n",
    "            correct_samples += torch.sum(indices == y)\n",
    "            total_samples += y.shape[0]\n",
    "            \n",
    "            loss_accum += loss_value\n",
    "\n",
    "        ave_loss = loss_accum / (i_step + 1)\n",
    "        train_accuracy = float(correct_samples) / total_samples\n",
    "        val_accuracy = compute_accuracy(model, val_loader)\n",
    "        \n",
    "        loss_history.append(float(ave_loss))\n",
    "        train_history.append(train_accuracy)\n",
    "        val_history.append(val_accuracy)\n",
    "        \n",
    "        if scheduler is not None:\n",
    "            scheduler.step()\n",
    "        \n",
    "        print(\"Average loss: %f, Train accuracy: %f, Val accuracy: %f\" % (ave_loss, train_accuracy, val_accuracy))\n",
    "\n",
    "    return loss_history, train_history, val_history\n",
    "        \n",
    "def compute_accuracy(model, loader):\n",
    "    \"\"\"\n",
    "    Computes accuracy on the dataset wrapped in a loader\n",
    "    \n",
    "    Returns: accuracy as a float value between 0 and 1\n",
    "    \"\"\"\n",
    "    model.eval() # Evaluation mode\n",
    "    # TODO: Implement the inference of the model on all of the batches from loader,\n",
    "    #       and compute the overall accuracy.\n",
    "    # Hint: PyTorch has the argmax function!\n",
    "    \n",
    "    correct_samples = 0\n",
    "    total_samples = 0\n",
    "    \n",
    "    for x, y in loader:\n",
    "        prediction = model(x)\n",
    "        correct_samples += torch.sum(prediction.argmax(dim=1) == y)\n",
    "        total_samples += y.shape[0]\n",
    "    return float(correct_samples) / total_samples\n",
    "\n",
    "loss_history, train_history, val_history = train_model(nn_model, train_loader, val_loader, loss, optimizer, 3)"
   ]
  },
  {
   "cell_type": "markdown",
   "metadata": {
    "colab_type": "text",
    "id": "AZjYg7YkgM84"
   },
   "source": [
    "## После основного цикла\n",
    "\n",
    "Посмотрим на другие возможности и оптимизации, которые предоставляет PyTorch.\n",
    "\n",
    "Добавьте еще один скрытый слой размера 100 нейронов к модели"
   ]
  },
  {
   "cell_type": "code",
   "execution_count": 0,
   "metadata": {
    "colab": {
     "base_uri": "https://localhost:8080/",
     "height": 107
    },
    "colab_type": "code",
    "id": "5Bt1QIlPgM85",
    "outputId": "9e8b6a87-80bf-4413-abab-eda494fedf45",
    "scrolled": true
   },
   "outputs": [
    {
     "name": "stdout",
     "output_type": "stream",
     "text": [
      "Average loss: 2.186741, Train accuracy: 0.202914, Val accuracy: 0.222510\n",
      "Average loss: 2.030193, Train accuracy: 0.261168, Val accuracy: 0.307556\n",
      "Average loss: 1.853082, Train accuracy: 0.352899, Val accuracy: 0.399085\n",
      "Average loss: 1.726647, Train accuracy: 0.413183, Val accuracy: 0.406525\n",
      "Average loss: 1.688291, Train accuracy: 0.427994, Val accuracy: 0.435260\n"
     ]
    }
   ],
   "source": [
    "# Since it's so easy to add layers, let's add some!\n",
    "\n",
    "# TODO: Implement a model with 2 hidden layers of the size 100\n",
    "nn_model = nn.Sequential(\n",
    "            Flattener(),\n",
    "            nn.Linear(3*32*32, 100),\n",
    "            nn.ReLU(inplace=True),\n",
    "            nn.Linear(100, 100),\n",
    "            nn.ReLU(inplace=True),\n",
    "            nn.Linear(100, 10),\n",
    "       )\n",
    "nn_model.type(torch.FloatTensor)\n",
    "\n",
    "optimizer = optim.SGD(nn_model.parameters(), lr=1e-2, weight_decay=1e-1)\n",
    "loss_history, train_history, val_history = train_model(nn_model, train_loader, val_loader, loss, optimizer, 5)"
   ]
  },
  {
   "cell_type": "markdown",
   "metadata": {
    "colab_type": "text",
    "id": "Pn7XLGvSgM8-"
   },
   "source": [
    "Добавьте слой с Batch Normalization"
   ]
  },
  {
   "cell_type": "code",
   "execution_count": 0,
   "metadata": {
    "colab": {
     "base_uri": "https://localhost:8080/",
     "height": 107
    },
    "colab_type": "code",
    "id": "bY7APFcigM9A",
    "outputId": "fcd8df13-85ae-414b-b782-71ad5da4d77d",
    "scrolled": true
   },
   "outputs": [
    {
     "name": "stdout",
     "output_type": "stream",
     "text": [
      "Average loss: 2.044751, Train accuracy: 0.322868, Val accuracy: 0.452461\n",
      "Average loss: 1.737338, Train accuracy: 0.486930, Val accuracy: 0.535936\n",
      "Average loss: 1.602346, Train accuracy: 0.555694, Val accuracy: 0.585830\n",
      "Average loss: 1.517052, Train accuracy: 0.587926, Val accuracy: 0.619343\n",
      "Average loss: 1.461260, Train accuracy: 0.608777, Val accuracy: 0.625077\n"
     ]
    }
   ],
   "source": [
    "# We heard batch normalization is powerful, let's use it!\n",
    "# TODO: Add batch normalization after each of the hidden layers of the network, before or after non-linearity\n",
    "# Hint: check out torch.nn.BatchNorm1d\n",
    "\n",
    "nn_model = nn.Sequential(\n",
    "            Flattener(),\n",
    "            nn.Linear(3*32*32, 100),\n",
    "            nn.BatchNorm1d(100),\n",
    "            nn.ReLU(inplace=True),\n",
    "            nn.Linear(100, 100),\n",
    "            nn.BatchNorm1d(100),\n",
    "            nn.ReLU(inplace=True),\n",
    "            nn.Linear(100, 10),\n",
    "         )\n",
    "nn_model.type(torch.FloatTensor)\n",
    "\n",
    "optimizer = optim.SGD(nn_model.parameters(), lr=1e-3, weight_decay=1e-1)\n",
    "loss_history, train_history, val_history = train_model(nn_model, train_loader, val_loader, loss, optimizer, 5)"
   ]
  },
  {
   "cell_type": "markdown",
   "metadata": {
    "colab_type": "text",
    "id": "--uPL6DSgM9E"
   },
   "source": [
    "Добавьте уменьшение скорости обучения по ходу тренировки."
   ]
  },
  {
   "cell_type": "code",
   "execution_count": 6,
   "metadata": {
    "colab": {
     "base_uri": "https://localhost:8080/",
     "height": 107
    },
    "colab_type": "code",
    "id": "a_AiE2NDgM9F",
    "outputId": "91f3fe3e-d7a3-4a8d-e5a9-c8a3ae6105b7",
    "scrolled": true
   },
   "outputs": [
    {
     "ename": "NameError",
     "evalue": "name 'Flattener' is not defined",
     "output_type": "error",
     "traceback": [
      "\u001b[0;31m---------------------------------------------------------------------------\u001b[0m",
      "\u001b[0;31mNameError\u001b[0m                                 Traceback (most recent call last)",
      "\u001b[0;32m<ipython-input-6-3d27eede5dcd>\u001b[0m in \u001b[0;36m<module>\u001b[0;34m()\u001b[0m\n\u001b[1;32m      4\u001b[0m \u001b[0;34m\u001b[0m\u001b[0m\n\u001b[1;32m      5\u001b[0m nn_model = nn.Sequential(\n\u001b[0;32m----> 6\u001b[0;31m             \u001b[0mFlattener\u001b[0m\u001b[0;34m(\u001b[0m\u001b[0;34m)\u001b[0m\u001b[0;34m,\u001b[0m\u001b[0;34m\u001b[0m\u001b[0;34m\u001b[0m\u001b[0m\n\u001b[0m\u001b[1;32m      7\u001b[0m             \u001b[0mnn\u001b[0m\u001b[0;34m.\u001b[0m\u001b[0mLinear\u001b[0m\u001b[0;34m(\u001b[0m\u001b[0;36m3\u001b[0m\u001b[0;34m*\u001b[0m\u001b[0;36m32\u001b[0m\u001b[0;34m*\u001b[0m\u001b[0;36m32\u001b[0m\u001b[0;34m,\u001b[0m \u001b[0;36m100\u001b[0m\u001b[0;34m)\u001b[0m\u001b[0;34m,\u001b[0m\u001b[0;34m\u001b[0m\u001b[0;34m\u001b[0m\u001b[0m\n\u001b[1;32m      8\u001b[0m             \u001b[0mnn\u001b[0m\u001b[0;34m.\u001b[0m\u001b[0mBatchNorm1d\u001b[0m\u001b[0;34m(\u001b[0m\u001b[0;36m100\u001b[0m\u001b[0;34m)\u001b[0m\u001b[0;34m,\u001b[0m\u001b[0;34m\u001b[0m\u001b[0;34m\u001b[0m\u001b[0m\n",
      "\u001b[0;31mNameError\u001b[0m: name 'Flattener' is not defined"
     ]
    }
   ],
   "source": [
    "# Learning rate annealing\n",
    "# Reduce your learning rate 2x every 2 epochs\n",
    "# Hint: look up learning rate schedulers in PyTorch. You might need to extend train_model function a little bit too!\n",
    "\n",
    "nn_model = nn.Sequential(\n",
    "            Flattener(),\n",
    "            nn.Linear(3*32*32, 100),\n",
    "            nn.BatchNorm1d(100),\n",
    "            nn.ReLU(inplace=True),\n",
    "            nn.Linear(100, 100),\n",
    "            nn.BatchNorm1d(100),\n",
    "            nn.ReLU(inplace=True),\n",
    "            nn.Linear(100, 10),\n",
    "         )\n",
    "nn_model.type(torch.FloatTensor)\n",
    "\n",
    "optimizer = optim.SGD(nn_model.parameters(), lr=1e-2, weight_decay=1e-1)\n",
    "scheduler = optim.lr_scheduler.StepLR(optimizer, step_size=2, gamma=0.5)\n",
    "loss_history, train_history, val_history = train_model(nn_model, train_loader, val_loader, loss, optimizer, 5, scheduler)"
   ]
  },
  {
   "cell_type": "markdown",
   "metadata": {
    "colab_type": "text",
    "id": "GyAqzFKxgM9I"
   },
   "source": [
    "# Визуализируем ошибки модели\n",
    "\n",
    "Попробуем посмотреть, на каких изображениях наша модель ошибается.\n",
    "Для этого мы получим все предсказания модели на validation set и сравним их с истинными метками (ground truth).\n",
    "\n",
    "Первая часть - реализовать код на PyTorch, который вычисляет все предсказания модели на validation set.  \n",
    "Чтобы это сделать мы приводим код `SubsetSampler`, который просто проходит по всем заданным индексам последовательно и составляет из них батчи. \n",
    "\n",
    "Реализуйте функцию `evaluate_model`, которая прогоняет модель через все сэмплы validation set и запоминает предсказания модели и истинные метки."
   ]
  },
  {
   "cell_type": "code",
   "execution_count": 12,
   "metadata": {
    "colab": {},
    "colab_type": "code",
    "id": "9ptkUivxgM9J"
   },
   "outputs": [],
   "source": [
    "class SubsetSampler(Sampler):\n",
    "    r\"\"\"Samples elements with given indices sequentially\n",
    "\n",
    "    Arguments:\n",
    "        indices (ndarray): indices of the samples to take\n",
    "    \"\"\"\n",
    "\n",
    "    def __init__(self, indices):\n",
    "        self.indices = indices\n",
    "\n",
    "    def __iter__(self):\n",
    "        return (self.indices[i] for i in range(len(self.indices)))\n",
    "\n",
    "    def __len__(self):\n",
    "        return len(self.indices)\n",
    "    \n",
    "    \n",
    "def evaluate_model(model, dataset, indices):\n",
    "    \"\"\"\n",
    "    Computes predictions and ground truth labels for the indices of the dataset\n",
    "    \n",
    "    Returns: \n",
    "    predictions: np array of ints - model predictions\n",
    "    grount_truth: np array of ints - actual labels of the dataset\n",
    "    \"\"\"\n",
    "    model.eval() # Evaluation mode\n",
    "    \n",
    "    # TODO: Evaluate model on the list of indices and capture predictions\n",
    "    # and ground truth labels\n",
    "    # Hint: SubsetSampler above could be useful!\n",
    "    \n",
    "    eval_loader = torch.utils.data.DataLoader(dataset, sampler=SubsetSampler(indices))\n",
    "    \n",
    "    predictions = []\n",
    "    ground_truth = []\n",
    "    \n",
    "    for x, y in eval_loader:\n",
    "        prediction = model(x)\n",
    "        index = torch.argmax(prediction, dim=1)\n",
    "        predictions.append(index)\n",
    "        ground_truth.append(y)\n",
    "    return np.array(predictions), np.array(ground_truth)\n",
    "\n",
    "# Evaluate model on validation\n",
    "predictions, gt = evaluate_model(nn_model, data_train, val_indices)\n",
    "assert len(predictions) == len(val_indices)\n",
    "assert len(gt) == len(val_indices)\n",
    "assert gt[100] == data_train[val_indices[100]][1]\n",
    "assert np.any(np.not_equal(gt, predictions))"
   ]
  },
  {
   "cell_type": "markdown",
   "metadata": {
    "colab_type": "text",
    "id": "5zl3JKpUgM9N"
   },
   "source": [
    "## Confusion matrix\n",
    "Первая часть визуализации - вывести confusion matrix (https://en.wikipedia.org/wiki/Confusion_matrix ).\n",
    "\n",
    "Confusion matrix - это матрица, где каждой строке соответствуют классы предсказанный, а столбцу - классы истинных меток (ground truth). Число с координатами `i,j` - это количество сэмплов класса `j`, которые модель считает классом `i`.\n",
    "\n",
    "![image.png](attachment:image.png)\n",
    "\n",
    "Для того, чтобы облегчить вам задачу, ниже реализована функция `visualize_confusion_matrix` которая визуализирует такую матрицу.  \n",
    "Вам осталось реализовать функцию `build_confusion_matrix`, которая ее вычислит.\n",
    "\n",
    "Результатом должна быть матрица 10x10."
   ]
  },
  {
   "cell_type": "code",
   "execution_count": 26,
   "metadata": {
    "colab": {
     "base_uri": "https://localhost:8080/",
     "height": 580
    },
    "colab_type": "code",
    "id": "pDvMdA2fgM9O",
    "outputId": "92761d6c-8e06-4804-86f8-b531a8f4e85d"
   },
   "outputs": [
    {
     "data": {
      "image/png": "[encoded data removed]",
      "text/plain": [
       "<Figure size 720x720 with 2 Axes>"
      ]
     },
     "metadata": {
      "needs_background": "light"
     },
     "output_type": "display_data"
    }
   ],
   "source": [
    "def visualize_confusion_matrix(confusion_matrix):\n",
    "    \"\"\"\n",
    "    Visualizes confusion matrix\n",
    "    \n",
    "    confusion_matrix: np array of ints, x axis - predicted class, y axis - actual class\n",
    "                      [i][j] should have the count of samples that were predicted to be class i,\n",
    "                      but have j in the ground truth\n",
    "                     \n",
    "    \"\"\"\n",
    "    # Adapted from \n",
    "    # https://stackoverflow.com/questions/2897826/confusion-matrix-with-number-of-classified-misclassified-instances-on-it-python\n",
    "    assert confusion_matrix.shape[0] == confusion_matrix.shape[1]\n",
    "    size = confusion_matrix.shape[0]\n",
    "    fig = plt.figure(figsize=(10,10))\n",
    "    plt.title(\"Confusion matrix\")\n",
    "    plt.ylabel(\"predicted\")\n",
    "    plt.xlabel(\"ground truth\")\n",
    "    res = plt.imshow(confusion_matrix, cmap='GnBu', interpolation='nearest')\n",
    "    cb = fig.colorbar(res)\n",
    "    plt.xticks(np.arange(size))\n",
    "    plt.yticks(np.arange(size))\n",
    "    for i, row in enumerate(confusion_matrix):\n",
    "        for j, count in enumerate(row):\n",
    "            plt.text(j, i, count, fontsize=14, horizontalalignment='center', verticalalignment='center')\n",
    "    \n",
    "def build_confusion_matrix(predictions, ground_truth):\n",
    "    \"\"\"\n",
    "    Builds confusion matrix from predictions and ground truth\n",
    "\n",
    "    predictions: np array of ints, model predictions for all validation samples\n",
    "    ground_truth: np array of ints, ground truth for all validation samples\n",
    "    \n",
    "    Returns:\n",
    "    np array of ints, (10,10), counts of samples for predicted/ground_truth classes\n",
    "    \"\"\"\n",
    "    \n",
    "    confusion_matrix = np.zeros((10,10), np.int)\n",
    "    \n",
    "    # TODO: Implement filling the prediction matrix\n",
    "    \n",
    "    np.add.at(confusion_matrix, (predictions, ground_truth), 1)\n",
    "    \n",
    "    return confusion_matrix\n",
    "\n",
    "confusion_matrix = build_confusion_matrix(predictions, gt)\n",
    "visualize_confusion_matrix(confusion_matrix)"
   ]
  },
  {
   "cell_type": "markdown",
   "metadata": {
    "colab_type": "text",
    "id": "IwFGqWokgM9S"
   },
   "source": [
    "Наконец, посмотрим на изображения, соответствующие некоторым элементам этой матрицы.\n",
    "\n",
    "Как и раньше, вам дана функция `visualize_images`, которой нужно воспрользоваться при реализации функции `visualize_predicted_actual`. Эта функция должна вывести несколько примеров, соответствующих заданному элементу матрицы.\n",
    "\n",
    "Визуализируйте наиболее частые ошибки и попробуйте понять, почему модель их совершает."
   ]
  },
  {
   "cell_type": "code",
   "execution_count": 0,
   "metadata": {
    "colab": {
     "base_uri": "https://localhost:8080/",
     "height": 139
    },
    "colab_type": "code",
    "id": "wn9H938ygM9U",
    "outputId": "cd9ab421-52b3-40fc-e480-f86580cb8764"
   },
   "outputs": [
    {
     "data": {
      "image/png": "[encoded data removed]",
      "text/plain": [
       "<Figure size 720x108 with 10 Axes>"
      ]
     },
     "metadata": {
      "tags": []
     },
     "output_type": "display_data"
    },
    {
     "data": {
      "image/png": "[encoded data removed]",
      "text/plain": [
       "<Figure size 720x108 with 10 Axes>"
      ]
     },
     "metadata": {
      "tags": []
     },
     "output_type": "display_data"
    }
   ],
   "source": [
    "data_train_images = dset.SVHN('./data/', split='train')\n",
    "\n",
    "def visualize_images(indices, data, title='', max_num=10):\n",
    "    \"\"\"\n",
    "    Visualizes several images from the dataset\n",
    " \n",
    "    indices: array of indices to visualize\n",
    "    data: torch Dataset with the images\n",
    "    title: string, title of the plot\n",
    "    max_num: int, max number of images to display\n",
    "    \"\"\"\n",
    "    to_show = min(len(indices), max_num)\n",
    "    fig = plt.figure(figsize=(10,1.5))\n",
    "    fig.suptitle(title)\n",
    "    for i, index in enumerate(indices[:to_show]):\n",
    "        plt.subplot(1,to_show, i+1)\n",
    "        plt.axis('off')\n",
    "        sample = data[index][0]\n",
    "        plt.imshow(sample)\n",
    "        \n",
    "def visualize_predicted_actual(predicted_class, gt_class, predictions, ground_truth, val_indices, data):\n",
    "    \"\"\"\n",
    "    Visualizes images of a ground truth class which were predicted as the other class \n",
    "    \n",
    "    predicted: int 0-9, index of the predicted class\n",
    "    gt_class: int 0-9, index of the ground truth class\n",
    "    predictions: np array of ints, model predictions for all validation samples\n",
    "    ground_truth: np array of ints, ground truth for all validation samples\n",
    "    val_indices: np array of ints, indices of validation samples\n",
    "    \"\"\"\n",
    "\n",
    "    # TODO: Implement visualization using visualize_images above\n",
    "    # predictions and ground_truth are provided for validation set only, defined by val_indices\n",
    "    # Hint: numpy index arrays might be helpful\n",
    "    # https://docs.scipy.org/doc/numpy/user/basics.indexing.html#index-arrays\n",
    "    # Please make the title meaningful!\n",
    "    \n",
    "    pred_label = np.argwhere(predictions == predicted_class)\n",
    "    gt_label = np.argwhere(ground_truth == gt_class)\n",
    "    indices = val_indices[np.intersect1d(pred_label, gt_label)]\n",
    "    visualize_images(indices, data)\n",
    "\n",
    "visualize_predicted_actual(6, 8, predictions, gt, np.array(val_indices), data_train_images)\n",
    "visualize_predicted_actual(1, 7, predictions, gt, np.array(val_indices), data_train_images)"
   ]
  },
  {
   "cell_type": "markdown",
   "metadata": {
    "colab_type": "text",
    "id": "6VGKNv8BgM9Y"
   },
   "source": [
    "# Переходим к свободным упражнениям!\n",
    "\n",
    "Натренируйте модель как можно лучше - экспериментируйте сами!\n",
    "Что следует обязательно попробовать:\n",
    "- перебор гиперпараметров с помощью валидационной выборки\n",
    "- другие оптимизаторы вместо SGD\n",
    "- изменение количества слоев и их размеров\n",
    "- наличие Batch Normalization\n",
    "\n",
    "Но ограничиваться этим не стоит!\n",
    "\n",
    "Точность на тестовой выборке должна быть доведена до **80%**"
   ]
  },
  {
   "cell_type": "code",
   "execution_count": 16,
   "metadata": {
    "colab": {
     "base_uri": "https://localhost:8080/",
     "height": 1000
    },
    "colab_type": "code",
    "id": "rjc9bKNxgM9Z",
    "outputId": "cd604635-8766-4a4e-faf9-5054302fc09d",
    "scrolled": true
   },
   "outputs": [
    {
     "name": "stdout",
     "output_type": "stream",
     "text": [
      "Average loss: 2.092077, Train accuracy: 0.237126, Val accuracy: 0.260255\n",
      "Average loss: 1.930114, Train accuracy: 0.284544, Val accuracy: 0.308784\n",
      "Average loss: 1.881991, Train accuracy: 0.298690, Val accuracy: 0.307283\n",
      "Average loss: 1.833526, Train accuracy: 0.318961, Val accuracy: 0.341069\n",
      "Average loss: 1.738246, Train accuracy: 0.345204, Val accuracy: 0.348440\n",
      "Average loss: 1.701182, Train accuracy: 0.354111, Val accuracy: 0.355948\n",
      "Average loss: 1.682707, Train accuracy: 0.359912, Val accuracy: 0.363798\n",
      "Average loss: 1.672390, Train accuracy: 0.362062, Val accuracy: 0.377653\n",
      "Average loss: 1.660315, Train accuracy: 0.366123, Val accuracy: 0.393284\n",
      "Average loss: 1.642122, Train accuracy: 0.369894, Val accuracy: 0.354447\n",
      "Average loss: 1.636206, Train accuracy: 0.376497, Val accuracy: 0.405160\n",
      "Average loss: 1.436763, Train accuracy: 0.483585, Val accuracy: 0.509863\n",
      "Average loss: 1.366889, Train accuracy: 0.518496, Val accuracy: 0.564603\n",
      "Average loss: 1.330169, Train accuracy: 0.529895, Val accuracy: 0.570746\n",
      "Average loss: 1.313662, Train accuracy: 0.540951, Val accuracy: 0.573476\n",
      "Average loss: 2.260091, Train accuracy: 0.186687, Val accuracy: 0.188178\n",
      "Average loss: 2.244320, Train accuracy: 0.185288, Val accuracy: 0.188178\n",
      "Average loss: 2.245275, Train accuracy: 0.185425, Val accuracy: 0.188178\n",
      "Average loss: 2.239928, Train accuracy: 0.189298, Val accuracy: 0.188178\n",
      "Average loss: 2.240748, Train accuracy: 0.188735, Val accuracy: 0.188178\n",
      "Average loss: 2.240590, Train accuracy: 0.189127, Val accuracy: 0.188178\n",
      "Average loss: 2.238689, Train accuracy: 0.189469, Val accuracy: 0.188178\n",
      "Average loss: 2.238412, Train accuracy: 0.189469, Val accuracy: 0.188178\n",
      "Average loss: 2.238598, Train accuracy: 0.189452, Val accuracy: 0.188178\n",
      "Average loss: 2.237419, Train accuracy: 0.189469, Val accuracy: 0.188178\n",
      "Average loss: 2.237310, Train accuracy: 0.189469, Val accuracy: 0.188178\n",
      "Average loss: 2.237454, Train accuracy: 0.189469, Val accuracy: 0.188178\n",
      "Average loss: 2.236811, Train accuracy: 0.189469, Val accuracy: 0.188178\n",
      "Average loss: 2.236823, Train accuracy: 0.189469, Val accuracy: 0.188178\n",
      "Average loss: 2.236818, Train accuracy: 0.189469, Val accuracy: 0.188178\n",
      "Average loss: 1.334613, Train accuracy: 0.555046, Val accuracy: 0.704184\n",
      "Average loss: 0.922397, Train accuracy: 0.710354, Val accuracy: 0.756331\n",
      "Average loss: 0.809552, Train accuracy: 0.747347, Val accuracy: 0.768548\n",
      "Average loss: 0.733248, Train accuracy: 0.771030, Val accuracy: 0.793598\n",
      "Average loss: 0.691583, Train accuracy: 0.785568, Val accuracy: 0.789571\n",
      "Average loss: 0.654495, Train accuracy: 0.795977, Val accuracy: 0.803768\n",
      "Average loss: 0.631228, Train accuracy: 0.803365, Val accuracy: 0.804041\n",
      "Average loss: 0.602191, Train accuracy: 0.812511, Val accuracy: 0.804382\n",
      "Average loss: 0.590825, Train accuracy: 0.816282, Val accuracy: 0.813528\n",
      "Average loss: 0.569158, Train accuracy: 0.821929, Val accuracy: 0.816736\n",
      "Average loss: 0.556707, Train accuracy: 0.825444, Val accuracy: 0.823835\n",
      "Average loss: 0.544568, Train accuracy: 0.830666, Val accuracy: 0.820831\n",
      "Average loss: 0.533321, Train accuracy: 0.833430, Val accuracy: 0.836393\n",
      "Average loss: 0.524080, Train accuracy: 0.834795, Val accuracy: 0.824927\n",
      "Average loss: 0.513645, Train accuracy: 0.838788, Val accuracy: 0.828544\n",
      "Average loss: 1.342289, Train accuracy: 0.555848, Val accuracy: 0.706368\n",
      "Average loss: 0.920636, Train accuracy: 0.711873, Val accuracy: 0.760699\n",
      "Average loss: 0.793169, Train accuracy: 0.752841, Val accuracy: 0.780561\n",
      "Average loss: 0.659400, Train accuracy: 0.797836, Val accuracy: 0.811139\n",
      "Average loss: 0.621089, Train accuracy: 0.808313, Val accuracy: 0.819466\n",
      "Average loss: 0.598862, Train accuracy: 0.814473, Val accuracy: 0.823903\n",
      "Average loss: 0.531232, Train accuracy: 0.837047, Val accuracy: 0.834482\n",
      "Average loss: 0.512177, Train accuracy: 0.841313, Val accuracy: 0.840216\n",
      "Average loss: 0.500141, Train accuracy: 0.845306, Val accuracy: 0.841035\n",
      "Average loss: 0.459458, Train accuracy: 0.858308, Val accuracy: 0.848270\n",
      "Average loss: 0.449441, Train accuracy: 0.861226, Val accuracy: 0.847724\n",
      "Average loss: 0.443041, Train accuracy: 0.862062, Val accuracy: 0.850249\n",
      "Average loss: 0.424987, Train accuracy: 0.868614, Val accuracy: 0.852160\n",
      "Average loss: 0.421507, Train accuracy: 0.869570, Val accuracy: 0.850181\n",
      "Average loss: 0.414809, Train accuracy: 0.871941, Val accuracy: 0.854413\n",
      "Average loss: 1.301664, Train accuracy: 0.580282, Val accuracy: 0.690192\n",
      "Average loss: 0.896122, Train accuracy: 0.718664, Val accuracy: 0.753396\n",
      "Average loss: 0.768304, Train accuracy: 0.760008, Val accuracy: 0.786226\n",
      "Average loss: 0.698099, Train accuracy: 0.782377, Val accuracy: 0.794622\n",
      "Average loss: 0.648114, Train accuracy: 0.798195, Val accuracy: 0.806498\n",
      "Average loss: 0.613866, Train accuracy: 0.807750, Val accuracy: 0.815780\n",
      "Average loss: 0.586643, Train accuracy: 0.815701, Val accuracy: 0.824722\n",
      "Average loss: 0.564963, Train accuracy: 0.822527, Val accuracy: 0.816054\n",
      "Average loss: 0.542260, Train accuracy: 0.830017, Val accuracy: 0.819057\n",
      "Average loss: 0.522636, Train accuracy: 0.835904, Val accuracy: 0.828339\n",
      "Average loss: 0.503752, Train accuracy: 0.840528, Val accuracy: 0.827657\n",
      "Average loss: 0.494286, Train accuracy: 0.844640, Val accuracy: 0.830387\n",
      "Average loss: 0.477253, Train accuracy: 0.847882, Val accuracy: 0.829909\n",
      "Average loss: 0.461938, Train accuracy: 0.853889, Val accuracy: 0.836393\n",
      "Average loss: 0.453063, Train accuracy: 0.855902, Val accuracy: 0.835370\n",
      "Average loss: 1.307965, Train accuracy: 0.577927, Val accuracy: 0.709986\n",
      "Average loss: 0.899341, Train accuracy: 0.717316, Val accuracy: 0.744454\n",
      "Average loss: 0.776739, Train accuracy: 0.757107, Val accuracy: 0.783018\n",
      "Average loss: 0.646439, Train accuracy: 0.798041, Val accuracy: 0.816463\n",
      "Average loss: 0.607054, Train accuracy: 0.811640, Val accuracy: 0.805474\n",
      "Average loss: 0.584570, Train accuracy: 0.815872, Val accuracy: 0.819261\n",
      "Average loss: 0.514155, Train accuracy: 0.840085, Val accuracy: 0.831752\n",
      "Average loss: 0.497310, Train accuracy: 0.845596, Val accuracy: 0.838987\n",
      "Average loss: 0.486543, Train accuracy: 0.847644, Val accuracy: 0.838987\n",
      "Average loss: 0.448011, Train accuracy: 0.861960, Val accuracy: 0.845949\n",
      "Average loss: 0.440194, Train accuracy: 0.864144, Val accuracy: 0.849362\n",
      "Average loss: 0.433356, Train accuracy: 0.865611, Val accuracy: 0.845813\n",
      "Average loss: 0.415698, Train accuracy: 0.871395, Val accuracy: 0.854276\n",
      "Average loss: 0.411496, Train accuracy: 0.873221, Val accuracy: 0.850249\n",
      "Average loss: 0.407795, Train accuracy: 0.874654, Val accuracy: 0.853935\n"
     ]
    }
   ],
   "source": [
    "# Experiment here!\n",
    "best_model = None\n",
    "best_val_accuracy = 0\n",
    "for lr in [1e-1, 1e-2, 1e-3]:\n",
    "    for sch in [False, True]:\n",
    "        nn_model = nn.Sequential(\n",
    "            Flattener(),\n",
    "            nn.Linear(3*32*32, 150),\n",
    "            nn.BatchNorm1d(150),\n",
    "            nn.ReLU(inplace=True),\n",
    "            nn.Linear(150, 150),\n",
    "            nn.BatchNorm1d(150),\n",
    "            nn.ReLU(inplace=True),\n",
    "            nn.Linear(150, 10),\n",
    "         )\n",
    "        nn_model.type(torch.FloatTensor)\n",
    "        optimizer = optim.Adam(nn_model.parameters(), lr=lr)\n",
    "        if sch:\n",
    "            scheduler = optim.lr_scheduler.StepLR(optimizer, step_size=3, gamma=0.5)\n",
    "        else:\n",
    "            scheduler = None\n",
    "        loss_history, train_history, val_history = train_model(nn_model, train_loader, val_loader, loss, optimizer, 15, scheduler)\n",
    "\n",
    "        if val_history[-1] > best_val_accuracy:\n",
    "            best_model = nn_model\n",
    "            best_val_accuracy = val_history[-1]\n",
    "\n"
   ]
  },
  {
   "cell_type": "code",
   "execution_count": 17,
   "metadata": {
    "colab": {
     "base_uri": "https://localhost:8080/",
     "height": 35
    },
    "colab_type": "code",
    "id": "CT7Ea4gPgM9c",
    "outputId": "08b3d54d-959e-4b4c-d6d0-1b321b3a40a6"
   },
   "outputs": [
    {
     "name": "stdout",
     "output_type": "stream",
     "text": [
      "Test accuracy: 0.8238\n"
     ]
    }
   ],
   "source": [
    "# Как всегда, в конце проверяем на test set\n",
    "test_loader = torch.utils.data.DataLoader(data_test, batch_size=batch_size)\n",
    "test_accuracy = compute_accuracy(best_model, test_loader)\n",
    "print(\"Test accuracy: %2.4f\" % test_accuracy)"
   ]
  },
  {
   "cell_type": "code",
   "execution_count": 0,
   "metadata": {
    "colab": {},
    "colab_type": "code",
    "id": "D5Kcr69cgM9f"
   },
   "outputs": [],
   "source": []
  }
 ],
 "metadata": {
  "colab": {
   "collapsed_sections": [],
   "name": "PyTorch.ipynb",
   "provenance": [],
   "toc_visible": true
  },
  "kernelspec": {
   "display_name": "conda",
   "language": "python",
   "name": "conda"
  },
  "language_info": {
   "codemirror_mode": {
    "name": "ipython",
    "version": 3
   },
   "file_extension": ".py",
   "mimetype": "text/x-python",
   "name": "python",
   "nbconvert_exporter": "python",
   "pygments_lexer": "ipython3",
   "version": "3.7.3"
  }
 },
 "nbformat": 4,
 "nbformat_minor": 1
}
