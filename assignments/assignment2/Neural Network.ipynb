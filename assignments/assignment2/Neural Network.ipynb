{
 "cells": [
  {
   "cell_type": "markdown",
   "metadata": {},
   "source": [
    "# Задание 2.1 - Нейронные сети\n",
    "\n",
    "В этом задании вы реализуете и натренируете настоящую нейроную сеть своими руками!\n",
    "\n",
    "В некотором смысле это будет расширением прошлого задания - нам нужно просто составить несколько линейных классификаторов вместе!\n",
    "\n",
    "<img src=\"https://i.redd.it/n9fgba8b0qr01.png\" alt=\"Stack_more_layers\" width=\"400px\"/>"
   ]
  },
  {
   "cell_type": "code",
   "execution_count": 1,
   "metadata": {},
   "outputs": [],
   "source": [
    "import numpy as np\n",
    "import matplotlib.pyplot as plt\n",
    "\n",
    "%matplotlib inline\n",
    "\n",
    "%load_ext autoreload\n",
    "%autoreload 2"
   ]
  },
  {
   "cell_type": "code",
   "execution_count": 2,
   "metadata": {},
   "outputs": [],
   "source": [
    "from dataset import load_svhn, random_split_train_val\n",
    "from gradient_check import check_layer_gradient, check_layer_param_gradient, check_model_gradient\n",
    "from layers import FullyConnectedLayer, ReLULayer\n",
    "from model import TwoLayerNet\n",
    "from trainer import Trainer, Dataset\n",
    "from optim import SGD, MomentumSGD\n",
    "from metrics import multiclass_accuracy"
   ]
  },
  {
   "cell_type": "markdown",
   "metadata": {},
   "source": [
    "# Загружаем данные\n",
    "\n",
    "И разделяем их на training и validation."
   ]
  },
  {
   "cell_type": "code",
   "execution_count": 3,
   "metadata": {},
   "outputs": [],
   "source": [
    "def prepare_for_neural_network(train_X, test_X):\n",
    "    train_flat = train_X.reshape(train_X.shape[0], -1).astype(np.float) / 255.0\n",
    "    test_flat = test_X.reshape(test_X.shape[0], -1).astype(np.float) / 255.0\n",
    "    \n",
    "    # Subtract mean\n",
    "    mean_image = np.mean(train_flat, axis = 0)\n",
    "    train_flat -= mean_image\n",
    "    test_flat -= mean_image\n",
    "    \n",
    "    return train_flat, test_flat\n",
    "    \n",
    "train_X, train_y, test_X, test_y = load_svhn(\"data\", max_train=10000, max_test=1000)    \n",
    "train_X, test_X = prepare_for_neural_network(train_X, test_X)\n",
    "# Split train into train and val\n",
    "train_X, train_y, val_X, val_y = random_split_train_val(train_X, train_y, num_val = 1000)"
   ]
  },
  {
   "cell_type": "markdown",
   "metadata": {},
   "source": [
    "# Как всегда, начинаем с кирпичиков\n",
    "\n",
    "Мы будем реализовывать необходимые нам слои по очереди. Каждый слой должен реализовать:\n",
    "- прямой проход (forward pass), который генерирует выход слоя по входу и запоминает необходимые данные\n",
    "- обратный проход (backward pass), который получает градиент по выходу слоя и вычисляет градиент по входу и по параметрам\n",
    "\n",
    "Начнем с ReLU, у которого параметров нет."
   ]
  },
  {
   "cell_type": "code",
   "execution_count": 4,
   "metadata": {
    "scrolled": false
   },
   "outputs": [
    {
     "name": "stdout",
     "output_type": "stream",
     "text": [
      "Gradient check passed!\n"
     ]
    }
   ],
   "source": [
    "# TODO: Implement ReLULayer layer in layers.py\n",
    "# Note: you'll need to copy implementation of the gradient_check function from the previous assignment\n",
    "\n",
    "X = np.array([[1,-2,3],\n",
    "              [-1, 2, 0.1]\n",
    "              ])\n",
    "\n",
    "assert check_layer_gradient(ReLULayer(), X)"
   ]
  },
  {
   "cell_type": "markdown",
   "metadata": {},
   "source": [
    "А теперь реализуем полносвязный слой (fully connected layer), у которого будет два массива параметров: W (weights) и B (bias).\n",
    "\n",
    "Все параметры наши слои будут использовать для параметров специальный класс `Param`, в котором будут храниться значения параметров и градиенты этих параметров, вычисляемые во время обратного прохода.\n",
    "\n",
    "Это даст возможность аккумулировать (суммировать) градиенты из разных частей функции потерь, например, из cross-entropy loss и regularization loss."
   ]
  },
  {
   "cell_type": "code",
   "execution_count": 5,
   "metadata": {},
   "outputs": [
    {
     "name": "stdout",
     "output_type": "stream",
     "text": [
      "Gradient check passed!\n",
      "Gradient check passed!\n",
      "Gradient check passed!\n"
     ]
    }
   ],
   "source": [
    "# TODO: Implement FullyConnected layer forward and backward methods\n",
    "assert check_layer_gradient(FullyConnectedLayer(3, 4), X)\n",
    "# TODO: Implement storing gradients for W and B\n",
    "assert check_layer_param_gradient(FullyConnectedLayer(3, 4), X, 'W')\n",
    "assert check_layer_param_gradient(FullyConnectedLayer(3, 4), X, 'B')"
   ]
  },
  {
   "cell_type": "markdown",
   "metadata": {},
   "source": [
    "## Создаем нейронную сеть\n",
    "\n",
    "Теперь мы реализуем простейшую нейронную сеть с двумя полносвязным слоями и нелинейностью ReLU. Реализуйте функцию `compute_loss_and_gradients`, она должна запустить прямой и обратный проход через оба слоя для вычисления градиентов.\n",
    "\n",
    "Не забудьте реализовать очистку градиентов в начале функции."
   ]
  },
  {
   "cell_type": "code",
   "execution_count": 6,
   "metadata": {},
   "outputs": [
    {
     "name": "stdout",
     "output_type": "stream",
     "text": [
      "Checking gradient for W1\n",
      "Gradient check passed!\n",
      "Checking gradient for B1\n",
      "Gradient check passed!\n",
      "Checking gradient for W2\n",
      "Gradient check passed!\n",
      "Checking gradient for B2\n",
      "Gradient check passed!\n"
     ]
    },
    {
     "data": {
      "text/plain": [
       "True"
      ]
     },
     "execution_count": 6,
     "metadata": {},
     "output_type": "execute_result"
    }
   ],
   "source": [
    "# TODO: In model.py, implement compute_loss_and_gradients function\n",
    "model = TwoLayerNet(n_input = train_X.shape[1], n_output = 10, hidden_layer_size = 3, reg = 0)\n",
    "loss = model.compute_loss_and_gradients(train_X[:2], train_y[:2])\n",
    "\n",
    "# TODO Now implement backward pass and aggregate all of the params\n",
    "check_model_gradient(model, train_X[:2], train_y[:2])"
   ]
  },
  {
   "cell_type": "markdown",
   "metadata": {},
   "source": [
    "Теперь добавьте к модели регуляризацию - она должна прибавляться к loss и делать свой вклад в градиенты."
   ]
  },
  {
   "cell_type": "code",
   "execution_count": 7,
   "metadata": {},
   "outputs": [
    {
     "name": "stdout",
     "output_type": "stream",
     "text": [
      "Checking gradient for W1\n",
      "Gradient check passed!\n",
      "Checking gradient for B1\n",
      "Gradient check passed!\n",
      "Checking gradient for W2\n",
      "Gradient check passed!\n",
      "Checking gradient for B2\n",
      "Gradient check passed!\n"
     ]
    },
    {
     "data": {
      "text/plain": [
       "True"
      ]
     },
     "execution_count": 7,
     "metadata": {},
     "output_type": "execute_result"
    }
   ],
   "source": [
    "# TODO Now implement l2 regularization in the forward and backward pass\n",
    "model_with_reg = TwoLayerNet(n_input = train_X.shape[1], n_output = 10, hidden_layer_size = 3, reg = 1e1)\n",
    "loss_with_reg = model_with_reg.compute_loss_and_gradients(train_X[:2], train_y[:2])\n",
    "assert loss_with_reg > loss and not np.isclose(loss_with_reg, loss), \\\n",
    "    \"Loss with regularization (%2.4f) should be higher than without it (%2.4f)!\" % (loss, loss_with_reg)\n",
    "\n",
    "check_model_gradient(model_with_reg, train_X[:2], train_y[:2])"
   ]
  },
  {
   "cell_type": "markdown",
   "metadata": {},
   "source": [
    "Также реализуем функцию предсказания (вычисления значения) модели на новых данных.\n",
    "\n",
    "Какое значение точности мы ожидаем увидеть до начала тренировки?"
   ]
  },
  {
   "cell_type": "markdown",
   "metadata": {},
   "source": [
    "Должны увидеть 10%, т.е вероятность случайного угадывания нужного класса"
   ]
  },
  {
   "cell_type": "code",
   "execution_count": 8,
   "metadata": {},
   "outputs": [
    {
     "data": {
      "text/plain": [
       "0.1"
      ]
     },
     "execution_count": 8,
     "metadata": {},
     "output_type": "execute_result"
    }
   ],
   "source": [
    "# Finally, implement predict function!\n",
    "\n",
    "# TODO: Implement predict function\n",
    "# What would be the value we expect?\n",
    "multiclass_accuracy(model_with_reg.predict(train_X[:30]), train_y[:30]) "
   ]
  },
  {
   "cell_type": "markdown",
   "metadata": {},
   "source": [
    "# Допишем код для процесса тренировки\n",
    "\n",
    "Если все реализовано корректно, значение функции ошибки должно уменьшаться с каждой эпохой, пусть и медленно. Не беспокойтесь пока про validation accuracy."
   ]
  },
  {
   "cell_type": "code",
   "execution_count": 9,
   "metadata": {},
   "outputs": [
    {
     "name": "stdout",
     "output_type": "stream",
     "text": [
      "Loss: 2.256525, Train accuracy: 0.196667, val accuracy: 0.206000\n",
      "Loss: 2.234411, Train accuracy: 0.196667, val accuracy: 0.206000\n",
      "Loss: 2.218805, Train accuracy: 0.196667, val accuracy: 0.206000\n",
      "Loss: 2.299442, Train accuracy: 0.196667, val accuracy: 0.206000\n",
      "Loss: 2.250353, Train accuracy: 0.196667, val accuracy: 0.206000\n",
      "Loss: 2.204378, Train accuracy: 0.196667, val accuracy: 0.206000\n",
      "Loss: 2.344327, Train accuracy: 0.196667, val accuracy: 0.206000\n",
      "Loss: 2.242054, Train accuracy: 0.196667, val accuracy: 0.206000\n",
      "Loss: 2.280916, Train accuracy: 0.196667, val accuracy: 0.206000\n",
      "Loss: 2.261553, Train accuracy: 0.196667, val accuracy: 0.206000\n",
      "Loss: 2.259453, Train accuracy: 0.196667, val accuracy: 0.206000\n",
      "Loss: 2.301086, Train accuracy: 0.196667, val accuracy: 0.206000\n",
      "Loss: 2.339098, Train accuracy: 0.196667, val accuracy: 0.206000\n",
      "Loss: 2.268823, Train accuracy: 0.196667, val accuracy: 0.206000\n",
      "Loss: 2.367442, Train accuracy: 0.196667, val accuracy: 0.206000\n",
      "Loss: 2.226122, Train accuracy: 0.196667, val accuracy: 0.206000\n",
      "Loss: 2.320075, Train accuracy: 0.196667, val accuracy: 0.206000\n",
      "Loss: 2.310768, Train accuracy: 0.196667, val accuracy: 0.206000\n",
      "Loss: 2.297086, Train accuracy: 0.196667, val accuracy: 0.206000\n",
      "Loss: 2.290384, Train accuracy: 0.196667, val accuracy: 0.206000\n"
     ]
    }
   ],
   "source": [
    "model = TwoLayerNet(n_input = train_X.shape[1], n_output = 10, hidden_layer_size = 100, reg = 1e-1)\n",
    "dataset = Dataset(train_X, train_y, val_X, val_y)\n",
    "trainer = Trainer(model, dataset, SGD(), learning_rate = 1e-2)\n",
    "\n",
    "# TODO Implement missing pieces in Trainer.fit function\n",
    "# You should expect loss to go down every epoch, even if it's slow\n",
    "loss_history, train_history, val_history = trainer.fit()"
   ]
  },
  {
   "cell_type": "code",
   "execution_count": 10,
   "metadata": {},
   "outputs": [
    {
     "data": {
      "text/plain": [
       "[<matplotlib.lines.Line2D at 0x7f08f81585c0>]"
      ]
     },
     "execution_count": 10,
     "metadata": {},
     "output_type": "execute_result"
    },
    {
     "data": {
      "image/png": "[encoded data removed]",
      "text/plain": [
       "<Figure size 432x288 with 1 Axes>"
      ]
     },
     "metadata": {
      "needs_background": "light"
     },
     "output_type": "display_data"
    }
   ],
   "source": [
    "# plt.plot(train_history)\n",
    "# plt.plot(val_history)\n",
    "plt.plot(loss_history)"
   ]
  },
  {
   "cell_type": "markdown",
   "metadata": {},
   "source": [
    "# Улучшаем процесс тренировки\n",
    "\n",
    "Мы реализуем несколько ключевых оптимизаций, необходимых для тренировки современных нейросетей."
   ]
  },
  {
   "cell_type": "markdown",
   "metadata": {},
   "source": [
    "## Уменьшение скорости обучения (learning rate decay)\n",
    "\n",
    "Одна из необходимых оптимизаций во время тренировки нейронных сетей - постепенное уменьшение скорости обучения по мере тренировки.\n",
    "\n",
    "Один из стандартных методов - уменьшение скорости обучения (learning rate) каждые N эпох на коэффициент d (часто называемый decay). Значения N и d, как всегда, являются гиперпараметрами и должны подбираться на основе эффективности на проверочных данных (validation data). \n",
    "\n",
    "В нашем случае N будет равным 1."
   ]
  },
  {
   "cell_type": "code",
   "execution_count": 11,
   "metadata": {},
   "outputs": [
    {
     "name": "stdout",
     "output_type": "stream",
     "text": [
      "Loss: 2.275985, Train accuracy: 0.196667, val accuracy: 0.206000\n",
      "Loss: 2.347515, Train accuracy: 0.196667, val accuracy: 0.206000\n",
      "Loss: 2.264348, Train accuracy: 0.196667, val accuracy: 0.206000\n",
      "Loss: 2.287890, Train accuracy: 0.196667, val accuracy: 0.206000\n",
      "Loss: 2.253264, Train accuracy: 0.196667, val accuracy: 0.206000\n",
      "Loss: 2.265011, Train accuracy: 0.196667, val accuracy: 0.206000\n",
      "Loss: 2.212698, Train accuracy: 0.196667, val accuracy: 0.206000\n",
      "Loss: 2.320777, Train accuracy: 0.196667, val accuracy: 0.206000\n",
      "Loss: 2.302624, Train accuracy: 0.196667, val accuracy: 0.206000\n",
      "Loss: 2.311032, Train accuracy: 0.196667, val accuracy: 0.206000\n",
      "Loss: 2.234316, Train accuracy: 0.196667, val accuracy: 0.206000\n",
      "Loss: 2.283390, Train accuracy: 0.196667, val accuracy: 0.206000\n",
      "Loss: 2.353994, Train accuracy: 0.196667, val accuracy: 0.206000\n",
      "Loss: 2.217454, Train accuracy: 0.196667, val accuracy: 0.206000\n",
      "Loss: 2.378711, Train accuracy: 0.196667, val accuracy: 0.206000\n",
      "Loss: 2.256101, Train accuracy: 0.196667, val accuracy: 0.206000\n",
      "Loss: 2.309860, Train accuracy: 0.196667, val accuracy: 0.206000\n",
      "Loss: 2.264767, Train accuracy: 0.196667, val accuracy: 0.206000\n",
      "Loss: 2.276485, Train accuracy: 0.196667, val accuracy: 0.206000\n",
      "Loss: 2.274562, Train accuracy: 0.196667, val accuracy: 0.206000\n"
     ]
    }
   ],
   "source": [
    "# TODO Implement learning rate decay inside Trainer.fit method\n",
    "# Decay should happen once per epoch\n",
    "\n",
    "model = TwoLayerNet(n_input = train_X.shape[1], n_output = 10, hidden_layer_size = 100, reg = 1e-1)\n",
    "dataset = Dataset(train_X, train_y, val_X, val_y)\n",
    "trainer = Trainer(model, dataset, SGD(), learning_rate_decay=0.99)\n",
    "\n",
    "initial_learning_rate = trainer.learning_rate\n",
    "loss_history, train_history, val_history = trainer.fit()\n",
    "\n",
    "assert trainer.learning_rate < initial_learning_rate, \"Learning rate should've been reduced\"\n",
    "assert trainer.learning_rate > 0.5*initial_learning_rate, \"Learning rate shouldn'tve been reduced that much!\""
   ]
  },
  {
   "cell_type": "code",
   "execution_count": 12,
   "metadata": {},
   "outputs": [
    {
     "data": {
      "text/plain": [
       "[<matplotlib.lines.Line2D at 0x7f08f80edf28>]"
      ]
     },
     "execution_count": 12,
     "metadata": {},
     "output_type": "execute_result"
    },
    {
     "data": {
      "image/png": "[encoded data removed]",
      "text/plain": [
       "<Figure size 432x288 with 1 Axes>"
      ]
     },
     "metadata": {
      "needs_background": "light"
     },
     "output_type": "display_data"
    }
   ],
   "source": [
    "plt.plot(loss_history)"
   ]
  },
  {
   "cell_type": "markdown",
   "metadata": {},
   "source": [
    "# Накопление импульса (Momentum SGD)\n",
    "\n",
    "Другой большой класс оптимизаций - использование более эффективных методов градиентного спуска. Мы реализуем один из них - накопление импульса (Momentum SGD).\n",
    "\n",
    "Этот метод хранит скорость движения, использует градиент для ее изменения на каждом шаге, и изменяет веса пропорционально значению скорости.\n",
    "(Физическая аналогия: Вместо скорости градиенты теперь будут задавать ускорение, но будет присутствовать сила трения.)\n",
    "\n",
    "```\n",
    "velocity = momentum * velocity - learning_rate * gradient \n",
    "w = w + velocity\n",
    "```\n",
    "\n",
    "`momentum` здесь коэффициент затухания, который тоже является гиперпараметром (к счастью, для него часто есть хорошее значение по умолчанию, типичный диапазон -- 0.8-0.99).\n",
    "\n",
    "Несколько полезных ссылок, где метод разбирается более подробно:  \n",
    "http://cs231n.github.io/neural-networks-3/#sgd  \n",
    "https://distill.pub/2017/momentum/"
   ]
  },
  {
   "cell_type": "code",
   "execution_count": 13,
   "metadata": {},
   "outputs": [
    {
     "name": "stdout",
     "output_type": "stream",
     "text": [
      "Loss: 2.322051, Train accuracy: 0.196667, val accuracy: 0.206000\n",
      "Loss: 2.308033, Train accuracy: 0.196667, val accuracy: 0.206000\n",
      "Loss: 2.317549, Train accuracy: 0.196667, val accuracy: 0.206000\n",
      "Loss: 2.262630, Train accuracy: 0.196667, val accuracy: 0.206000\n",
      "Loss: 2.270323, Train accuracy: 0.196667, val accuracy: 0.206000\n",
      "Loss: 2.308261, Train accuracy: 0.196667, val accuracy: 0.206000\n",
      "Loss: 2.264990, Train accuracy: 0.196667, val accuracy: 0.206000\n",
      "Loss: 2.278636, Train accuracy: 0.196667, val accuracy: 0.206000\n",
      "Loss: 2.267083, Train accuracy: 0.196667, val accuracy: 0.206000\n",
      "Loss: 2.279901, Train accuracy: 0.196667, val accuracy: 0.206000\n",
      "Loss: 2.276510, Train accuracy: 0.196667, val accuracy: 0.206000\n",
      "Loss: 2.314133, Train accuracy: 0.196667, val accuracy: 0.206000\n",
      "Loss: 2.256404, Train accuracy: 0.196667, val accuracy: 0.206000\n",
      "Loss: 2.295822, Train accuracy: 0.196667, val accuracy: 0.206000\n",
      "Loss: 2.290051, Train accuracy: 0.196667, val accuracy: 0.206000\n",
      "Loss: 2.278750, Train accuracy: 0.196667, val accuracy: 0.206000\n",
      "Loss: 2.280567, Train accuracy: 0.196667, val accuracy: 0.206000\n",
      "Loss: 2.255044, Train accuracy: 0.196667, val accuracy: 0.206000\n",
      "Loss: 2.240982, Train accuracy: 0.196667, val accuracy: 0.206000\n",
      "Loss: 2.315651, Train accuracy: 0.196667, val accuracy: 0.206000\n"
     ]
    }
   ],
   "source": [
    "# TODO: Implement MomentumSGD.update function in optim.py\n",
    "\n",
    "model = TwoLayerNet(n_input = train_X.shape[1], n_output = 10, hidden_layer_size = 100, reg = 1e-1)\n",
    "dataset = Dataset(train_X, train_y, val_X, val_y)\n",
    "trainer = Trainer(model, dataset, MomentumSGD(), learning_rate=1e-4, learning_rate_decay=0.99)\n",
    "\n",
    "# You should see even better results than before!\n",
    "loss_history, train_history, val_history = trainer.fit()"
   ]
  },
  {
   "cell_type": "code",
   "execution_count": 14,
   "metadata": {},
   "outputs": [
    {
     "data": {
      "text/plain": [
       "[<matplotlib.lines.Line2D at 0x7f08f80636d8>]"
      ]
     },
     "execution_count": 14,
     "metadata": {},
     "output_type": "execute_result"
    },
    {
     "data": {
      "image/png": "[encoded data removed]",
      "text/plain": [
       "<Figure size 432x288 with 1 Axes>"
      ]
     },
     "metadata": {
      "needs_background": "light"
     },
     "output_type": "display_data"
    }
   ],
   "source": [
    "plt.plot(loss_history)"
   ]
  },
  {
   "cell_type": "markdown",
   "metadata": {},
   "source": [
    "# Ну что, давайте уже тренировать сеть!"
   ]
  },
  {
   "cell_type": "markdown",
   "metadata": {},
   "source": [
    "## Последний тест - переобучимся (overfit) на маленьком наборе данных\n",
    "\n",
    "Хороший способ проверить, все ли реализовано корректно - переобучить сеть на маленьком наборе данных.  \n",
    "Наша модель обладает достаточной мощностью, чтобы приблизить маленький набор данных идеально, поэтому мы ожидаем, что на нем мы быстро дойдем до 100% точности на тренировочном наборе. \n",
    "\n",
    "Если этого не происходит, то где-то была допущена ошибка!"
   ]
  },
  {
   "cell_type": "code",
   "execution_count": 15,
   "metadata": {},
   "outputs": [
    {
     "name": "stdout",
     "output_type": "stream",
     "text": [
      "Loss: 2.351801, Train accuracy: 0.200000, val accuracy: 0.133333\n",
      "Loss: 2.319693, Train accuracy: 0.200000, val accuracy: 0.133333\n",
      "Loss: 2.295926, Train accuracy: 0.200000, val accuracy: 0.133333\n",
      "Loss: 2.345443, Train accuracy: 0.200000, val accuracy: 0.133333\n",
      "Loss: 2.310013, Train accuracy: 0.200000, val accuracy: 0.133333\n",
      "Loss: 2.326544, Train accuracy: 0.200000, val accuracy: 0.133333\n",
      "Loss: 2.255641, Train accuracy: 0.200000, val accuracy: 0.133333\n",
      "Loss: 2.199259, Train accuracy: 0.200000, val accuracy: 0.066667\n",
      "Loss: 2.164561, Train accuracy: 0.333333, val accuracy: 0.066667\n",
      "Loss: 2.025661, Train accuracy: 0.400000, val accuracy: 0.000000\n",
      "Loss: 1.883798, Train accuracy: 0.400000, val accuracy: 0.000000\n",
      "Loss: 2.263931, Train accuracy: 0.400000, val accuracy: 0.000000\n",
      "Loss: 1.662918, Train accuracy: 0.333333, val accuracy: 0.000000\n",
      "Loss: 2.245522, Train accuracy: 0.333333, val accuracy: 0.000000\n",
      "Loss: 1.943906, Train accuracy: 0.400000, val accuracy: 0.000000\n",
      "Loss: 1.663953, Train accuracy: 0.333333, val accuracy: 0.000000\n",
      "Loss: 2.042200, Train accuracy: 0.400000, val accuracy: 0.000000\n",
      "Loss: 1.418303, Train accuracy: 0.400000, val accuracy: 0.000000\n",
      "Loss: 1.519709, Train accuracy: 0.400000, val accuracy: 0.000000\n",
      "Loss: 1.823944, Train accuracy: 0.466667, val accuracy: 0.000000\n",
      "Loss: 2.022291, Train accuracy: 0.400000, val accuracy: 0.000000\n",
      "Loss: 1.585656, Train accuracy: 0.400000, val accuracy: 0.000000\n",
      "Loss: 1.937038, Train accuracy: 0.400000, val accuracy: 0.066667\n",
      "Loss: 1.908215, Train accuracy: 0.466667, val accuracy: 0.000000\n",
      "Loss: 1.233499, Train accuracy: 0.466667, val accuracy: 0.000000\n",
      "Loss: 2.095108, Train accuracy: 0.466667, val accuracy: 0.000000\n",
      "Loss: 1.718242, Train accuracy: 0.466667, val accuracy: 0.066667\n",
      "Loss: 2.162756, Train accuracy: 0.466667, val accuracy: 0.066667\n",
      "Loss: 2.015933, Train accuracy: 0.466667, val accuracy: 0.000000\n",
      "Loss: 1.363952, Train accuracy: 0.466667, val accuracy: 0.000000\n",
      "Loss: 1.842670, Train accuracy: 0.533333, val accuracy: 0.000000\n",
      "Loss: 1.657567, Train accuracy: 0.533333, val accuracy: 0.066667\n",
      "Loss: 1.388463, Train accuracy: 0.533333, val accuracy: 0.066667\n",
      "Loss: 1.911120, Train accuracy: 0.533333, val accuracy: 0.066667\n",
      "Loss: 1.693765, Train accuracy: 0.600000, val accuracy: 0.000000\n",
      "Loss: 2.010436, Train accuracy: 0.600000, val accuracy: 0.066667\n",
      "Loss: 1.115900, Train accuracy: 0.600000, val accuracy: 0.066667\n",
      "Loss: 1.613706, Train accuracy: 0.600000, val accuracy: 0.066667\n",
      "Loss: 1.738574, Train accuracy: 0.600000, val accuracy: 0.066667\n",
      "Loss: 1.885192, Train accuracy: 0.600000, val accuracy: 0.066667\n",
      "Loss: 2.474042, Train accuracy: 0.666667, val accuracy: 0.066667\n",
      "Loss: 1.119274, Train accuracy: 0.666667, val accuracy: 0.066667\n",
      "Loss: 1.672047, Train accuracy: 0.666667, val accuracy: 0.066667\n",
      "Loss: 1.767860, Train accuracy: 0.666667, val accuracy: 0.066667\n",
      "Loss: 1.478802, Train accuracy: 0.666667, val accuracy: 0.066667\n",
      "Loss: 1.926619, Train accuracy: 0.733333, val accuracy: 0.066667\n",
      "Loss: 1.337383, Train accuracy: 0.733333, val accuracy: 0.066667\n",
      "Loss: 1.683186, Train accuracy: 0.733333, val accuracy: 0.066667\n",
      "Loss: 1.660081, Train accuracy: 0.800000, val accuracy: 0.066667\n",
      "Loss: 1.401881, Train accuracy: 0.733333, val accuracy: 0.133333\n",
      "Loss: 1.635264, Train accuracy: 0.733333, val accuracy: 0.000000\n",
      "Loss: 1.635617, Train accuracy: 0.733333, val accuracy: 0.066667\n",
      "Loss: 1.622938, Train accuracy: 0.733333, val accuracy: 0.066667\n",
      "Loss: 1.854111, Train accuracy: 0.733333, val accuracy: 0.066667\n",
      "Loss: 1.556636, Train accuracy: 0.733333, val accuracy: 0.066667\n",
      "Loss: 1.634732, Train accuracy: 0.733333, val accuracy: 0.066667\n",
      "Loss: 1.076198, Train accuracy: 0.666667, val accuracy: 0.000000\n",
      "Loss: 1.007559, Train accuracy: 0.733333, val accuracy: 0.066667\n",
      "Loss: 1.531114, Train accuracy: 0.733333, val accuracy: 0.066667\n",
      "Loss: 1.041336, Train accuracy: 0.733333, val accuracy: 0.066667\n",
      "Loss: 2.022564, Train accuracy: 0.733333, val accuracy: 0.066667\n",
      "Loss: 1.647379, Train accuracy: 0.733333, val accuracy: 0.066667\n",
      "Loss: 1.369538, Train accuracy: 0.733333, val accuracy: 0.066667\n",
      "Loss: 1.379903, Train accuracy: 0.733333, val accuracy: 0.066667\n",
      "Loss: 1.986917, Train accuracy: 0.733333, val accuracy: 0.066667\n",
      "Loss: 1.318972, Train accuracy: 0.733333, val accuracy: 0.066667\n",
      "Loss: 1.283966, Train accuracy: 0.733333, val accuracy: 0.000000\n",
      "Loss: 0.936269, Train accuracy: 0.733333, val accuracy: 0.066667\n",
      "Loss: 1.196061, Train accuracy: 0.733333, val accuracy: 0.066667\n",
      "Loss: 1.739352, Train accuracy: 0.733333, val accuracy: 0.066667\n",
      "Loss: 1.634901, Train accuracy: 0.733333, val accuracy: 0.066667\n",
      "Loss: 1.201189, Train accuracy: 0.733333, val accuracy: 0.000000\n",
      "Loss: 1.582981, Train accuracy: 0.733333, val accuracy: 0.066667\n",
      "Loss: 1.742143, Train accuracy: 0.733333, val accuracy: 0.066667\n",
      "Loss: 1.293135, Train accuracy: 0.733333, val accuracy: 0.066667\n",
      "Loss: 1.748190, Train accuracy: 0.800000, val accuracy: 0.066667\n",
      "Loss: 1.976545, Train accuracy: 0.800000, val accuracy: 0.000000\n",
      "Loss: 1.357876, Train accuracy: 0.800000, val accuracy: 0.066667\n",
      "Loss: 0.992895, Train accuracy: 0.800000, val accuracy: 0.066667\n",
      "Loss: 1.602046, Train accuracy: 0.800000, val accuracy: 0.066667\n",
      "Loss: 1.602167, Train accuracy: 0.866667, val accuracy: 0.066667\n",
      "Loss: 1.173057, Train accuracy: 0.866667, val accuracy: 0.066667\n",
      "Loss: 1.312798, Train accuracy: 0.866667, val accuracy: 0.000000\n",
      "Loss: 1.564551, Train accuracy: 0.866667, val accuracy: 0.000000\n",
      "Loss: 0.961713, Train accuracy: 0.866667, val accuracy: 0.066667\n",
      "Loss: 1.274091, Train accuracy: 0.866667, val accuracy: 0.066667\n",
      "Loss: 1.304703, Train accuracy: 0.933333, val accuracy: 0.066667\n",
      "Loss: 0.958926, Train accuracy: 0.933333, val accuracy: 0.066667\n",
      "Loss: 1.377168, Train accuracy: 0.866667, val accuracy: 0.066667\n",
      "Loss: 1.657193, Train accuracy: 0.933333, val accuracy: 0.066667\n",
      "Loss: 1.389767, Train accuracy: 0.933333, val accuracy: 0.066667\n",
      "Loss: 1.576803, Train accuracy: 0.933333, val accuracy: 0.066667\n",
      "Loss: 1.556738, Train accuracy: 0.933333, val accuracy: 0.066667\n",
      "Loss: 1.175409, Train accuracy: 0.933333, val accuracy: 0.000000\n",
      "Loss: 1.322616, Train accuracy: 0.933333, val accuracy: 0.066667\n",
      "Loss: 1.251510, Train accuracy: 0.933333, val accuracy: 0.066667\n",
      "Loss: 1.060407, Train accuracy: 0.933333, val accuracy: 0.066667\n",
      "Loss: 1.661861, Train accuracy: 0.933333, val accuracy: 0.066667\n",
      "Loss: 1.227308, Train accuracy: 0.933333, val accuracy: 0.066667\n",
      "Loss: 1.597969, Train accuracy: 0.933333, val accuracy: 0.066667\n",
      "Loss: 1.887250, Train accuracy: 0.933333, val accuracy: 0.066667\n",
      "Loss: 1.338688, Train accuracy: 0.933333, val accuracy: 0.066667\n",
      "Loss: 1.842966, Train accuracy: 0.933333, val accuracy: 0.066667\n",
      "Loss: 1.160604, Train accuracy: 0.933333, val accuracy: 0.066667\n",
      "Loss: 1.347215, Train accuracy: 0.933333, val accuracy: 0.066667\n",
      "Loss: 1.223119, Train accuracy: 0.933333, val accuracy: 0.066667\n",
      "Loss: 1.436648, Train accuracy: 0.933333, val accuracy: 0.000000\n",
      "Loss: 1.535320, Train accuracy: 0.933333, val accuracy: 0.066667\n",
      "Loss: 1.249121, Train accuracy: 0.933333, val accuracy: 0.066667\n",
      "Loss: 1.248964, Train accuracy: 0.933333, val accuracy: 0.000000\n",
      "Loss: 1.549803, Train accuracy: 1.000000, val accuracy: 0.066667\n",
      "Loss: 1.259687, Train accuracy: 0.933333, val accuracy: 0.000000\n",
      "Loss: 1.097239, Train accuracy: 1.000000, val accuracy: 0.000000\n",
      "Loss: 1.324286, Train accuracy: 0.933333, val accuracy: 0.000000\n",
      "Loss: 1.315431, Train accuracy: 0.933333, val accuracy: 0.000000\n",
      "Loss: 1.420746, Train accuracy: 1.000000, val accuracy: 0.000000\n",
      "Loss: 1.443017, Train accuracy: 0.933333, val accuracy: 0.000000\n",
      "Loss: 1.301618, Train accuracy: 1.000000, val accuracy: 0.000000\n",
      "Loss: 1.533658, Train accuracy: 1.000000, val accuracy: 0.000000\n",
      "Loss: 1.607993, Train accuracy: 1.000000, val accuracy: 0.000000\n",
      "Loss: 1.239065, Train accuracy: 0.933333, val accuracy: 0.000000\n",
      "Loss: 1.649177, Train accuracy: 1.000000, val accuracy: 0.000000\n",
      "Loss: 1.174445, Train accuracy: 1.000000, val accuracy: 0.000000\n",
      "Loss: 1.602848, Train accuracy: 1.000000, val accuracy: 0.000000\n",
      "Loss: 1.363682, Train accuracy: 1.000000, val accuracy: 0.000000\n",
      "Loss: 1.160640, Train accuracy: 1.000000, val accuracy: 0.000000\n",
      "Loss: 1.197888, Train accuracy: 1.000000, val accuracy: 0.000000\n",
      "Loss: 1.126413, Train accuracy: 1.000000, val accuracy: 0.000000\n",
      "Loss: 1.008120, Train accuracy: 1.000000, val accuracy: 0.000000\n",
      "Loss: 1.643235, Train accuracy: 1.000000, val accuracy: 0.000000\n",
      "Loss: 1.592807, Train accuracy: 1.000000, val accuracy: 0.000000\n",
      "Loss: 1.412599, Train accuracy: 1.000000, val accuracy: 0.000000\n",
      "Loss: 1.212850, Train accuracy: 1.000000, val accuracy: 0.000000\n",
      "Loss: 1.196541, Train accuracy: 0.933333, val accuracy: 0.000000\n",
      "Loss: 1.280346, Train accuracy: 1.000000, val accuracy: 0.000000\n",
      "Loss: 1.403204, Train accuracy: 1.000000, val accuracy: 0.000000\n"
     ]
    },
    {
     "name": "stdout",
     "output_type": "stream",
     "text": [
      "Loss: 1.229377, Train accuracy: 1.000000, val accuracy: 0.000000\n",
      "Loss: 1.400568, Train accuracy: 1.000000, val accuracy: 0.000000\n",
      "Loss: 1.391042, Train accuracy: 1.000000, val accuracy: 0.000000\n",
      "Loss: 1.102808, Train accuracy: 1.000000, val accuracy: 0.000000\n",
      "Loss: 1.445285, Train accuracy: 1.000000, val accuracy: 0.000000\n",
      "Loss: 1.406323, Train accuracy: 1.000000, val accuracy: 0.000000\n",
      "Loss: 1.219193, Train accuracy: 1.000000, val accuracy: 0.000000\n",
      "Loss: 1.449330, Train accuracy: 1.000000, val accuracy: 0.000000\n",
      "Loss: 1.304464, Train accuracy: 1.000000, val accuracy: 0.000000\n",
      "Loss: 1.494726, Train accuracy: 1.000000, val accuracy: 0.000000\n",
      "Loss: 1.327706, Train accuracy: 1.000000, val accuracy: 0.000000\n",
      "Loss: 1.361608, Train accuracy: 1.000000, val accuracy: 0.000000\n",
      "Loss: 1.460816, Train accuracy: 1.000000, val accuracy: 0.000000\n",
      "Loss: 1.424061, Train accuracy: 1.000000, val accuracy: 0.000000\n"
     ]
    }
   ],
   "source": [
    "data_size = 15\n",
    "model = TwoLayerNet(n_input = train_X.shape[1], n_output = 10, hidden_layer_size = 100, reg = 1e-1)\n",
    "dataset = Dataset(train_X[:data_size], train_y[:data_size], val_X[:data_size], val_y[:data_size])\n",
    "trainer = Trainer(model, dataset, SGD(), learning_rate=1e-1, num_epochs=150, batch_size=5)\n",
    "\n",
    "# You should expect this to reach 1.0 training accuracy \n",
    "loss_history, train_history, val_history = trainer.fit()"
   ]
  },
  {
   "cell_type": "markdown",
   "metadata": {},
   "source": [
    "Теперь найдем гипепараметры, для которых этот процесс сходится быстрее.\n",
    "Если все реализовано корректно, то существуют параметры, при которых процесс сходится в **20** эпох или еще быстрее.\n",
    "Найдите их!"
   ]
  },
  {
   "cell_type": "code",
   "execution_count": 16,
   "metadata": {},
   "outputs": [
    {
     "name": "stdout",
     "output_type": "stream",
     "text": [
      "Loss: 2.272250, Train accuracy: 0.200000, val accuracy: 0.133333\n",
      "Loss: 2.402384, Train accuracy: 0.200000, val accuracy: 0.133333\n",
      "Loss: 2.152894, Train accuracy: 0.200000, val accuracy: 0.066667\n",
      "Loss: 2.492717, Train accuracy: 0.400000, val accuracy: 0.000000\n",
      "Loss: 2.451307, Train accuracy: 0.333333, val accuracy: 0.066667\n",
      "Loss: 0.499127, Train accuracy: 0.333333, val accuracy: 0.000000\n",
      "Loss: 0.849219, Train accuracy: 0.466667, val accuracy: 0.000000\n",
      "Loss: 0.994072, Train accuracy: 0.400000, val accuracy: 0.000000\n",
      "Loss: 0.185239, Train accuracy: 0.466667, val accuracy: 0.000000\n",
      "Loss: 2.344582, Train accuracy: 0.533333, val accuracy: 0.000000\n",
      "Loss: 2.273367, Train accuracy: 0.533333, val accuracy: 0.000000\n",
      "Loss: 2.400255, Train accuracy: 0.666667, val accuracy: 0.066667\n",
      "Loss: 1.261311, Train accuracy: 0.333333, val accuracy: 0.000000\n",
      "Loss: 2.150397, Train accuracy: 0.666667, val accuracy: 0.133333\n",
      "Loss: 0.074912, Train accuracy: 0.733333, val accuracy: 0.000000\n",
      "Loss: 1.175889, Train accuracy: 0.800000, val accuracy: 0.000000\n",
      "Loss: 0.248323, Train accuracy: 0.800000, val accuracy: 0.000000\n",
      "Loss: 0.012159, Train accuracy: 1.000000, val accuracy: 0.000000\n",
      "Loss: 0.593209, Train accuracy: 1.000000, val accuracy: 0.000000\n",
      "Loss: 0.219951, Train accuracy: 1.000000, val accuracy: 0.000000\n"
     ]
    }
   ],
   "source": [
    "# Now, tweak some hyper parameters and make it train to 1.0 accuracy in 20 epochs or less\n",
    "\n",
    "model = TwoLayerNet(n_input = train_X.shape[1], n_output = 10, hidden_layer_size = 100, reg = 1e-8)\n",
    "dataset = Dataset(train_X[:data_size], train_y[:data_size], val_X[:data_size], val_y[:data_size])\n",
    "# TODO: Change any hyperparamers or optimizators to reach training accuracy in 20 epochs\n",
    "trainer = Trainer(model, dataset, SGD(), learning_rate=1e-1, num_epochs=20, batch_size=2)\n",
    "\n",
    "loss_history, train_history, val_history = trainer.fit()"
   ]
  },
  {
   "cell_type": "markdown",
   "metadata": {},
   "source": [
    "# Итак, основное мероприятие!\n",
    "\n",
    "Натренируйте лучшую нейросеть! Можно добавлять и изменять параметры, менять количество нейронов в слоях сети и как угодно экспериментировать. \n",
    "\n",
    "Добейтесь точности лучше **60%** на validation set."
   ]
  },
  {
   "cell_type": "code",
   "execution_count": 17,
   "metadata": {
    "scrolled": true
   },
   "outputs": [
    {
     "name": "stdout",
     "output_type": "stream",
     "text": [
      "Loss: 2.300860, Train accuracy: 0.196667, val accuracy: 0.206000\n",
      "Loss: 2.292025, Train accuracy: 0.196667, val accuracy: 0.206000\n",
      "Loss: 2.275698, Train accuracy: 0.196667, val accuracy: 0.206000\n",
      "Loss: 2.310596, Train accuracy: 0.196667, val accuracy: 0.206000\n",
      "Loss: 2.289826, Train accuracy: 0.196667, val accuracy: 0.206000\n",
      "Loss: 2.303517, Train accuracy: 0.196667, val accuracy: 0.206000\n",
      "Loss: 2.251934, Train accuracy: 0.196667, val accuracy: 0.206000\n",
      "Loss: 2.260301, Train accuracy: 0.196667, val accuracy: 0.206000\n",
      "Loss: 2.224947, Train accuracy: 0.196667, val accuracy: 0.206000\n",
      "Loss: 2.269559, Train accuracy: 0.196667, val accuracy: 0.206000\n",
      "Loss: 2.288418, Train accuracy: 0.196667, val accuracy: 0.206000\n",
      "Loss: 2.190641, Train accuracy: 0.196667, val accuracy: 0.206000\n",
      "Loss: 2.322687, Train accuracy: 0.196667, val accuracy: 0.206000\n",
      "Loss: 2.257076, Train accuracy: 0.196667, val accuracy: 0.206000\n",
      "Loss: 2.300869, Train accuracy: 0.196667, val accuracy: 0.206000\n",
      "Loss: 2.277404, Train accuracy: 0.196667, val accuracy: 0.206000\n",
      "Loss: 2.305442, Train accuracy: 0.196667, val accuracy: 0.206000\n",
      "Loss: 2.326050, Train accuracy: 0.196667, val accuracy: 0.206000\n",
      "Loss: 2.280171, Train accuracy: 0.194111, val accuracy: 0.208000\n",
      "Loss: 2.288635, Train accuracy: 0.196667, val accuracy: 0.206000\n",
      "Loss: 2.284675, Train accuracy: 0.196667, val accuracy: 0.206000\n",
      "Loss: 2.293455, Train accuracy: 0.196667, val accuracy: 0.206000\n",
      "Loss: 2.315686, Train accuracy: 0.196667, val accuracy: 0.206000\n",
      "Loss: 2.264212, Train accuracy: 0.196667, val accuracy: 0.206000\n",
      "Loss: 2.310017, Train accuracy: 0.196667, val accuracy: 0.206000\n",
      "Loss: 2.294976, Train accuracy: 0.196667, val accuracy: 0.206000\n",
      "Loss: 2.256608, Train accuracy: 0.196667, val accuracy: 0.206000\n",
      "Loss: 2.284732, Train accuracy: 0.196667, val accuracy: 0.206000\n",
      "Loss: 2.261604, Train accuracy: 0.196667, val accuracy: 0.206000\n",
      "Loss: 2.296094, Train accuracy: 0.196667, val accuracy: 0.206000\n",
      "Loss: 2.298591, Train accuracy: 0.196667, val accuracy: 0.206000\n",
      "Loss: 2.316256, Train accuracy: 0.196667, val accuracy: 0.206000\n",
      "Loss: 2.306866, Train accuracy: 0.196667, val accuracy: 0.206000\n",
      "Loss: 2.251171, Train accuracy: 0.196667, val accuracy: 0.206000\n",
      "Loss: 2.255416, Train accuracy: 0.196667, val accuracy: 0.206000\n",
      "Loss: 2.251674, Train accuracy: 0.196667, val accuracy: 0.206000\n",
      "Loss: 2.285257, Train accuracy: 0.186222, val accuracy: 0.204000\n",
      "Loss: 2.250702, Train accuracy: 0.196667, val accuracy: 0.206000\n",
      "Loss: 2.327862, Train accuracy: 0.196667, val accuracy: 0.206000\n",
      "Loss: 2.272952, Train accuracy: 0.196667, val accuracy: 0.206000\n",
      "Loss: 1.833663, Train accuracy: 0.379222, val accuracy: 0.388000\n",
      "Loss: 1.731635, Train accuracy: 0.526111, val accuracy: 0.497000\n",
      "Loss: 1.689126, Train accuracy: 0.575111, val accuracy: 0.541000\n",
      "Loss: 1.969213, Train accuracy: 0.622000, val accuracy: 0.594000\n",
      "Loss: 1.363160, Train accuracy: 0.618000, val accuracy: 0.590000\n",
      "Loss: 1.738129, Train accuracy: 0.626667, val accuracy: 0.587000\n",
      "Loss: 1.920519, Train accuracy: 0.616222, val accuracy: 0.574000\n",
      "Loss: 1.757268, Train accuracy: 0.680667, val accuracy: 0.632000\n",
      "Loss: 1.196825, Train accuracy: 0.630556, val accuracy: 0.621000\n",
      "Loss: 1.773113, Train accuracy: 0.646667, val accuracy: 0.601000\n",
      "Loss: 1.421616, Train accuracy: 0.689000, val accuracy: 0.633000\n",
      "Loss: 1.805182, Train accuracy: 0.663333, val accuracy: 0.630000\n",
      "Loss: 1.356576, Train accuracy: 0.646000, val accuracy: 0.621000\n",
      "Loss: 1.544729, Train accuracy: 0.679222, val accuracy: 0.632000\n",
      "Loss: 1.753427, Train accuracy: 0.658000, val accuracy: 0.604000\n",
      "Loss: 1.470475, Train accuracy: 0.635000, val accuracy: 0.581000\n",
      "Loss: 1.767812, Train accuracy: 0.617333, val accuracy: 0.588000\n",
      "Loss: 1.361764, Train accuracy: 0.633333, val accuracy: 0.603000\n",
      "Loss: 1.586855, Train accuracy: 0.630333, val accuracy: 0.616000\n",
      "Loss: 1.639197, Train accuracy: 0.702000, val accuracy: 0.664000\n",
      "Loss: 1.775468, Train accuracy: 0.369667, val accuracy: 0.382000\n",
      "Loss: 2.237278, Train accuracy: 0.559556, val accuracy: 0.572000\n",
      "Loss: 1.951622, Train accuracy: 0.592556, val accuracy: 0.562000\n",
      "Loss: 1.747107, Train accuracy: 0.584000, val accuracy: 0.563000\n",
      "Loss: 1.560285, Train accuracy: 0.605333, val accuracy: 0.572000\n",
      "Loss: 1.375081, Train accuracy: 0.634889, val accuracy: 0.618000\n",
      "Loss: 2.158823, Train accuracy: 0.640556, val accuracy: 0.639000\n",
      "Loss: 1.638091, Train accuracy: 0.670556, val accuracy: 0.642000\n",
      "Loss: 1.277923, Train accuracy: 0.657889, val accuracy: 0.599000\n",
      "Loss: 1.675424, Train accuracy: 0.603333, val accuracy: 0.577000\n",
      "Loss: 1.262764, Train accuracy: 0.636667, val accuracy: 0.600000\n",
      "Loss: 1.444127, Train accuracy: 0.635556, val accuracy: 0.589000\n",
      "Loss: 1.827247, Train accuracy: 0.616667, val accuracy: 0.605000\n",
      "Loss: 2.413826, Train accuracy: 0.613111, val accuracy: 0.586000\n",
      "Loss: 1.657365, Train accuracy: 0.670000, val accuracy: 0.634000\n",
      "Loss: 1.943154, Train accuracy: 0.618222, val accuracy: 0.606000\n",
      "Loss: 2.462700, Train accuracy: 0.661000, val accuracy: 0.639000\n",
      "Loss: 1.901981, Train accuracy: 0.610333, val accuracy: 0.583000\n",
      "Loss: 1.410598, Train accuracy: 0.661333, val accuracy: 0.629000\n",
      "Loss: 1.591239, Train accuracy: 0.614111, val accuracy: 0.596000\n",
      "Loss: 1.667863, Train accuracy: 0.350444, val accuracy: 0.347000\n",
      "Loss: 1.250205, Train accuracy: 0.525444, val accuracy: 0.503000\n",
      "Loss: 1.297652, Train accuracy: 0.584667, val accuracy: 0.574000\n",
      "Loss: 1.498846, Train accuracy: 0.635444, val accuracy: 0.620000\n",
      "Loss: 1.280913, Train accuracy: 0.619000, val accuracy: 0.591000\n",
      "Loss: 1.407300, Train accuracy: 0.686889, val accuracy: 0.644000\n",
      "Loss: 0.775696, Train accuracy: 0.677111, val accuracy: 0.612000\n",
      "Loss: 2.000475, Train accuracy: 0.688000, val accuracy: 0.614000\n",
      "Loss: 1.779712, Train accuracy: 0.647444, val accuracy: 0.571000\n",
      "Loss: 1.546836, Train accuracy: 0.712778, val accuracy: 0.647000\n",
      "Loss: 1.069798, Train accuracy: 0.712444, val accuracy: 0.638000\n",
      "Loss: 0.931882, Train accuracy: 0.769889, val accuracy: 0.696000\n",
      "Loss: 1.034440, Train accuracy: 0.753667, val accuracy: 0.665000\n",
      "Loss: 1.204228, Train accuracy: 0.757667, val accuracy: 0.651000\n",
      "Loss: 1.180485, Train accuracy: 0.767222, val accuracy: 0.679000\n",
      "Loss: 1.046705, Train accuracy: 0.793444, val accuracy: 0.704000\n",
      "Loss: 0.872858, Train accuracy: 0.762667, val accuracy: 0.674000\n",
      "Loss: 1.519696, Train accuracy: 0.795222, val accuracy: 0.695000\n",
      "Loss: 0.602464, Train accuracy: 0.773000, val accuracy: 0.664000\n",
      "Loss: 1.312905, Train accuracy: 0.783000, val accuracy: 0.686000\n",
      "Loss: 1.742536, Train accuracy: 0.390889, val accuracy: 0.392000\n",
      "Loss: 1.571419, Train accuracy: 0.540556, val accuracy: 0.548000\n",
      "Loss: 1.377237, Train accuracy: 0.579444, val accuracy: 0.563000\n",
      "Loss: 1.903003, Train accuracy: 0.643222, val accuracy: 0.615000\n",
      "Loss: 1.516757, Train accuracy: 0.620222, val accuracy: 0.603000\n",
      "Loss: 1.528353, Train accuracy: 0.687556, val accuracy: 0.657000\n",
      "Loss: 1.017606, Train accuracy: 0.694000, val accuracy: 0.642000\n",
      "Loss: 1.254936, Train accuracy: 0.692111, val accuracy: 0.649000\n",
      "Loss: 1.500063, Train accuracy: 0.701667, val accuracy: 0.619000\n",
      "Loss: 1.294098, Train accuracy: 0.748000, val accuracy: 0.665000\n",
      "Loss: 1.503513, Train accuracy: 0.723889, val accuracy: 0.665000\n",
      "Loss: 0.921012, Train accuracy: 0.733556, val accuracy: 0.655000\n",
      "Loss: 1.341271, Train accuracy: 0.756556, val accuracy: 0.670000\n",
      "Loss: 0.628369, Train accuracy: 0.739556, val accuracy: 0.657000\n",
      "Loss: 1.207831, Train accuracy: 0.737444, val accuracy: 0.661000\n",
      "Loss: 0.800701, Train accuracy: 0.762000, val accuracy: 0.655000\n",
      "Loss: 2.242109, Train accuracy: 0.732000, val accuracy: 0.640000\n",
      "Loss: 1.606564, Train accuracy: 0.745889, val accuracy: 0.670000\n",
      "Loss: 0.560233, Train accuracy: 0.786667, val accuracy: 0.691000\n",
      "Loss: 0.987169, Train accuracy: 0.814333, val accuracy: 0.704000\n",
      "Loss: 2.274538, Train accuracy: 0.196667, val accuracy: 0.206000\n",
      "Loss: 2.281095, Train accuracy: 0.196667, val accuracy: 0.206000\n",
      "Loss: 2.289918, Train accuracy: 0.196667, val accuracy: 0.206000\n",
      "Loss: 2.277928, Train accuracy: 0.196667, val accuracy: 0.206000\n",
      "Loss: 2.217291, Train accuracy: 0.196667, val accuracy: 0.206000\n",
      "Loss: 2.267521, Train accuracy: 0.196667, val accuracy: 0.206000\n",
      "Loss: 2.320307, Train accuracy: 0.196667, val accuracy: 0.206000\n"
     ]
    },
    {
     "name": "stdout",
     "output_type": "stream",
     "text": [
      "Loss: 2.273368, Train accuracy: 0.196667, val accuracy: 0.206000\n",
      "Loss: 2.280085, Train accuracy: 0.196667, val accuracy: 0.206000\n",
      "Loss: 2.222736, Train accuracy: 0.196667, val accuracy: 0.206000\n",
      "Loss: 2.290668, Train accuracy: 0.196667, val accuracy: 0.206000\n",
      "Loss: 2.232326, Train accuracy: 0.196667, val accuracy: 0.206000\n",
      "Loss: 2.311961, Train accuracy: 0.196667, val accuracy: 0.206000\n",
      "Loss: 2.290344, Train accuracy: 0.196667, val accuracy: 0.206000\n",
      "Loss: 2.298036, Train accuracy: 0.196667, val accuracy: 0.206000\n",
      "Loss: 2.308372, Train accuracy: 0.196667, val accuracy: 0.206000\n",
      "Loss: 2.257683, Train accuracy: 0.196667, val accuracy: 0.206000\n",
      "Loss: 2.250703, Train accuracy: 0.196667, val accuracy: 0.206000\n",
      "Loss: 2.238792, Train accuracy: 0.196667, val accuracy: 0.206000\n",
      "Loss: 2.272376, Train accuracy: 0.196667, val accuracy: 0.206000\n",
      "Loss: 2.239415, Train accuracy: 0.196667, val accuracy: 0.206000\n",
      "Loss: 2.248917, Train accuracy: 0.196667, val accuracy: 0.206000\n",
      "Loss: 2.220192, Train accuracy: 0.196667, val accuracy: 0.206000\n",
      "Loss: 2.276250, Train accuracy: 0.196667, val accuracy: 0.206000\n",
      "Loss: 2.274288, Train accuracy: 0.196667, val accuracy: 0.206000\n",
      "Loss: 2.325262, Train accuracy: 0.196667, val accuracy: 0.206000\n",
      "Loss: 2.266545, Train accuracy: 0.196667, val accuracy: 0.206000\n",
      "Loss: 2.252631, Train accuracy: 0.196667, val accuracy: 0.206000\n",
      "Loss: 2.243636, Train accuracy: 0.196667, val accuracy: 0.206000\n",
      "Loss: 2.303355, Train accuracy: 0.196667, val accuracy: 0.206000\n",
      "Loss: 2.226348, Train accuracy: 0.196667, val accuracy: 0.206000\n",
      "Loss: 2.322782, Train accuracy: 0.196667, val accuracy: 0.206000\n",
      "Loss: 2.263334, Train accuracy: 0.196667, val accuracy: 0.206000\n",
      "Loss: 2.236917, Train accuracy: 0.196667, val accuracy: 0.206000\n",
      "Loss: 2.279126, Train accuracy: 0.196667, val accuracy: 0.206000\n",
      "Loss: 2.201199, Train accuracy: 0.196667, val accuracy: 0.206000\n",
      "Loss: 2.239031, Train accuracy: 0.196667, val accuracy: 0.206000\n",
      "Loss: 2.218326, Train accuracy: 0.196667, val accuracy: 0.206000\n",
      "Loss: 2.212377, Train accuracy: 0.196667, val accuracy: 0.206000\n",
      "Loss: 2.296109, Train accuracy: 0.196667, val accuracy: 0.206000\n",
      "Loss: 2.279079, Train accuracy: 0.196667, val accuracy: 0.206000\n",
      "Loss: 2.173535, Train accuracy: 0.196667, val accuracy: 0.206000\n",
      "Loss: 2.180006, Train accuracy: 0.196667, val accuracy: 0.206000\n",
      "Loss: 2.067605, Train accuracy: 0.258889, val accuracy: 0.257000\n",
      "Loss: 1.933662, Train accuracy: 0.312333, val accuracy: 0.326000\n",
      "Loss: 1.609972, Train accuracy: 0.401444, val accuracy: 0.406000\n",
      "Loss: 1.850348, Train accuracy: 0.473111, val accuracy: 0.462000\n",
      "Loss: 1.728359, Train accuracy: 0.515667, val accuracy: 0.514000\n",
      "Loss: 1.277812, Train accuracy: 0.584222, val accuracy: 0.574000\n",
      "Loss: 1.374485, Train accuracy: 0.624333, val accuracy: 0.617000\n",
      "Loss: 1.200355, Train accuracy: 0.648778, val accuracy: 0.638000\n",
      "Loss: 1.186073, Train accuracy: 0.671222, val accuracy: 0.655000\n",
      "Loss: 1.057864, Train accuracy: 0.684111, val accuracy: 0.671000\n",
      "Loss: 1.139766, Train accuracy: 0.689889, val accuracy: 0.653000\n",
      "Loss: 1.240504, Train accuracy: 0.720556, val accuracy: 0.695000\n",
      "Loss: 0.976956, Train accuracy: 0.722000, val accuracy: 0.690000\n",
      "Loss: 0.939845, Train accuracy: 0.737444, val accuracy: 0.693000\n",
      "Loss: 0.740159, Train accuracy: 0.733000, val accuracy: 0.696000\n",
      "Loss: 1.303911, Train accuracy: 0.750222, val accuracy: 0.703000\n",
      "Loss: 1.027698, Train accuracy: 0.762667, val accuracy: 0.705000\n",
      "Loss: 2.319196, Train accuracy: 0.196667, val accuracy: 0.206000\n",
      "Loss: 2.296165, Train accuracy: 0.196667, val accuracy: 0.206000\n",
      "Loss: 2.288475, Train accuracy: 0.199333, val accuracy: 0.208000\n",
      "Loss: 2.120314, Train accuracy: 0.271111, val accuracy: 0.273000\n",
      "Loss: 2.057133, Train accuracy: 0.356444, val accuracy: 0.356000\n",
      "Loss: 1.835014, Train accuracy: 0.443778, val accuracy: 0.420000\n",
      "Loss: 1.615616, Train accuracy: 0.513222, val accuracy: 0.510000\n",
      "Loss: 1.273142, Train accuracy: 0.557222, val accuracy: 0.551000\n",
      "Loss: 1.195626, Train accuracy: 0.594111, val accuracy: 0.573000\n",
      "Loss: 1.269750, Train accuracy: 0.629000, val accuracy: 0.621000\n",
      "Loss: 1.075884, Train accuracy: 0.667000, val accuracy: 0.659000\n",
      "Loss: 0.797395, Train accuracy: 0.677000, val accuracy: 0.657000\n",
      "Loss: 1.246454, Train accuracy: 0.703333, val accuracy: 0.682000\n",
      "Loss: 0.839665, Train accuracy: 0.710556, val accuracy: 0.682000\n",
      "Loss: 0.943728, Train accuracy: 0.712667, val accuracy: 0.675000\n",
      "Loss: 1.416761, Train accuracy: 0.729444, val accuracy: 0.699000\n",
      "Loss: 0.963020, Train accuracy: 0.747000, val accuracy: 0.701000\n",
      "Loss: 1.037879, Train accuracy: 0.748667, val accuracy: 0.704000\n",
      "Loss: 0.912170, Train accuracy: 0.761111, val accuracy: 0.723000\n",
      "Loss: 1.311788, Train accuracy: 0.764333, val accuracy: 0.720000\n",
      "Loss: 2.152412, Train accuracy: 0.196667, val accuracy: 0.206000\n",
      "Loss: 2.214539, Train accuracy: 0.196667, val accuracy: 0.206000\n",
      "Loss: 2.208723, Train accuracy: 0.196667, val accuracy: 0.206000\n",
      "Loss: 1.976611, Train accuracy: 0.263667, val accuracy: 0.267000\n",
      "Loss: 1.946406, Train accuracy: 0.343556, val accuracy: 0.343000\n",
      "Loss: 1.709832, Train accuracy: 0.425222, val accuracy: 0.425000\n",
      "Loss: 1.660940, Train accuracy: 0.492889, val accuracy: 0.479000\n",
      "Loss: 1.570844, Train accuracy: 0.569444, val accuracy: 0.556000\n",
      "Loss: 1.221391, Train accuracy: 0.602444, val accuracy: 0.600000\n",
      "Loss: 0.986228, Train accuracy: 0.625333, val accuracy: 0.616000\n",
      "Loss: 1.070980, Train accuracy: 0.655444, val accuracy: 0.648000\n",
      "Loss: 0.800878, Train accuracy: 0.674889, val accuracy: 0.655000\n",
      "Loss: 0.946793, Train accuracy: 0.700556, val accuracy: 0.672000\n",
      "Loss: 1.215604, Train accuracy: 0.702333, val accuracy: 0.685000\n",
      "Loss: 0.891503, Train accuracy: 0.722889, val accuracy: 0.697000\n",
      "Loss: 0.742367, Train accuracy: 0.740111, val accuracy: 0.692000\n",
      "Loss: 0.979491, Train accuracy: 0.750556, val accuracy: 0.697000\n",
      "Loss: 1.014633, Train accuracy: 0.752444, val accuracy: 0.689000\n",
      "Loss: 0.848379, Train accuracy: 0.764667, val accuracy: 0.708000\n",
      "Loss: 0.663763, Train accuracy: 0.774778, val accuracy: 0.713000\n",
      "Loss: 2.192083, Train accuracy: 0.196667, val accuracy: 0.206000\n",
      "Loss: 2.295978, Train accuracy: 0.196667, val accuracy: 0.206000\n",
      "Loss: 2.226028, Train accuracy: 0.216444, val accuracy: 0.220000\n",
      "Loss: 2.030644, Train accuracy: 0.274444, val accuracy: 0.275000\n",
      "Loss: 1.665863, Train accuracy: 0.366556, val accuracy: 0.379000\n",
      "Loss: 1.553111, Train accuracy: 0.448000, val accuracy: 0.455000\n",
      "Loss: 1.531959, Train accuracy: 0.506556, val accuracy: 0.515000\n",
      "Loss: 1.287950, Train accuracy: 0.581778, val accuracy: 0.559000\n",
      "Loss: 1.089031, Train accuracy: 0.615667, val accuracy: 0.604000\n",
      "Loss: 1.075397, Train accuracy: 0.662111, val accuracy: 0.648000\n",
      "Loss: 1.040049, Train accuracy: 0.663000, val accuracy: 0.656000\n",
      "Loss: 1.077600, Train accuracy: 0.699889, val accuracy: 0.667000\n",
      "Loss: 1.410337, Train accuracy: 0.710889, val accuracy: 0.696000\n",
      "Loss: 0.859902, Train accuracy: 0.727000, val accuracy: 0.682000\n",
      "Loss: 1.060526, Train accuracy: 0.737444, val accuracy: 0.699000\n",
      "Loss: 0.815444, Train accuracy: 0.735222, val accuracy: 0.695000\n",
      "Loss: 1.061799, Train accuracy: 0.757778, val accuracy: 0.708000\n",
      "Loss: 0.901459, Train accuracy: 0.755889, val accuracy: 0.698000\n",
      "Loss: 0.782885, Train accuracy: 0.770556, val accuracy: 0.716000\n",
      "Loss: 0.343560, Train accuracy: 0.788667, val accuracy: 0.729000\n",
      "Loss: 2.316056, Train accuracy: 0.196667, val accuracy: 0.206000\n",
      "Loss: 2.293238, Train accuracy: 0.196667, val accuracy: 0.206000\n",
      "Loss: 2.268255, Train accuracy: 0.196667, val accuracy: 0.206000\n",
      "Loss: 2.260770, Train accuracy: 0.196667, val accuracy: 0.206000\n",
      "Loss: 2.292895, Train accuracy: 0.196667, val accuracy: 0.206000\n",
      "Loss: 2.275881, Train accuracy: 0.196667, val accuracy: 0.206000\n",
      "Loss: 2.288750, Train accuracy: 0.196667, val accuracy: 0.206000\n",
      "Loss: 2.268126, Train accuracy: 0.196667, val accuracy: 0.206000\n",
      "Loss: 2.227987, Train accuracy: 0.196667, val accuracy: 0.206000\n",
      "Loss: 2.272963, Train accuracy: 0.196667, val accuracy: 0.206000\n",
      "Loss: 2.216920, Train accuracy: 0.196667, val accuracy: 0.206000\n",
      "Loss: 2.271349, Train accuracy: 0.196667, val accuracy: 0.206000\n",
      "Loss: 2.304116, Train accuracy: 0.196667, val accuracy: 0.206000\n",
      "Loss: 2.293355, Train accuracy: 0.196667, val accuracy: 0.206000\n"
     ]
    },
    {
     "name": "stdout",
     "output_type": "stream",
     "text": [
      "Loss: 2.282230, Train accuracy: 0.196667, val accuracy: 0.206000\n",
      "Loss: 2.271666, Train accuracy: 0.196667, val accuracy: 0.206000\n",
      "Loss: 2.251242, Train accuracy: 0.196667, val accuracy: 0.206000\n",
      "Loss: 2.286672, Train accuracy: 0.196667, val accuracy: 0.206000\n",
      "Loss: 2.256723, Train accuracy: 0.196667, val accuracy: 0.206000\n",
      "Loss: 2.309470, Train accuracy: 0.196667, val accuracy: 0.206000\n",
      "Loss: 2.317906, Train accuracy: 0.196667, val accuracy: 0.206000\n",
      "Loss: 2.286424, Train accuracy: 0.196667, val accuracy: 0.206000\n",
      "Loss: 2.294375, Train accuracy: 0.196667, val accuracy: 0.206000\n",
      "Loss: 2.294273, Train accuracy: 0.196667, val accuracy: 0.206000\n",
      "Loss: 2.262250, Train accuracy: 0.196667, val accuracy: 0.206000\n",
      "Loss: 2.284710, Train accuracy: 0.196667, val accuracy: 0.206000\n",
      "Loss: 2.293368, Train accuracy: 0.196667, val accuracy: 0.206000\n",
      "Loss: 2.296129, Train accuracy: 0.196667, val accuracy: 0.206000\n",
      "Loss: 2.256966, Train accuracy: 0.196667, val accuracy: 0.206000\n",
      "Loss: 2.283306, Train accuracy: 0.196667, val accuracy: 0.206000\n",
      "Loss: 2.265548, Train accuracy: 0.196667, val accuracy: 0.206000\n",
      "Loss: 2.272249, Train accuracy: 0.196667, val accuracy: 0.206000\n",
      "Loss: 2.271828, Train accuracy: 0.196667, val accuracy: 0.206000\n",
      "Loss: 2.229444, Train accuracy: 0.196667, val accuracy: 0.206000\n",
      "Loss: 2.247531, Train accuracy: 0.196667, val accuracy: 0.206000\n",
      "Loss: 2.240455, Train accuracy: 0.196667, val accuracy: 0.206000\n",
      "Loss: 2.276391, Train accuracy: 0.196667, val accuracy: 0.206000\n",
      "Loss: 2.302945, Train accuracy: 0.196667, val accuracy: 0.206000\n",
      "Loss: 2.236945, Train accuracy: 0.196667, val accuracy: 0.206000\n",
      "Loss: 2.254710, Train accuracy: 0.196667, val accuracy: 0.206000\n",
      "Loss: 2.284339, Train accuracy: 0.196667, val accuracy: 0.206000\n",
      "Loss: 2.266668, Train accuracy: 0.196667, val accuracy: 0.206000\n",
      "Loss: 2.221923, Train accuracy: 0.196667, val accuracy: 0.206000\n",
      "Loss: 2.309564, Train accuracy: 0.196667, val accuracy: 0.206000\n",
      "Loss: 2.309145, Train accuracy: 0.196667, val accuracy: 0.206000\n",
      "Loss: 2.264254, Train accuracy: 0.196667, val accuracy: 0.206000\n",
      "Loss: 2.385449, Train accuracy: 0.196667, val accuracy: 0.206000\n",
      "Loss: 2.353838, Train accuracy: 0.196667, val accuracy: 0.206000\n",
      "Loss: 2.246256, Train accuracy: 0.196667, val accuracy: 0.206000\n",
      "Loss: 2.203875, Train accuracy: 0.196667, val accuracy: 0.206000\n",
      "Loss: 2.238095, Train accuracy: 0.196667, val accuracy: 0.206000\n",
      "Loss: 2.104631, Train accuracy: 0.196667, val accuracy: 0.206000\n",
      "Loss: 2.255028, Train accuracy: 0.196667, val accuracy: 0.206000\n",
      "Loss: 2.115063, Train accuracy: 0.196667, val accuracy: 0.206000\n",
      "Loss: 2.301119, Train accuracy: 0.196667, val accuracy: 0.206000\n",
      "Loss: 2.291362, Train accuracy: 0.196667, val accuracy: 0.206000\n",
      "Loss: 2.187444, Train accuracy: 0.196667, val accuracy: 0.206000\n",
      "Loss: 2.286551, Train accuracy: 0.196667, val accuracy: 0.206000\n",
      "Loss: 2.254736, Train accuracy: 0.196667, val accuracy: 0.206000\n",
      "Loss: 2.162569, Train accuracy: 0.196667, val accuracy: 0.206000\n",
      "Loss: 2.289793, Train accuracy: 0.196667, val accuracy: 0.206000\n",
      "Loss: 2.274703, Train accuracy: 0.196667, val accuracy: 0.206000\n",
      "Loss: 2.215405, Train accuracy: 0.196667, val accuracy: 0.206000\n",
      "Loss: 2.209025, Train accuracy: 0.196667, val accuracy: 0.206000\n",
      "Loss: 2.264436, Train accuracy: 0.196667, val accuracy: 0.206000\n",
      "Loss: 2.214426, Train accuracy: 0.196667, val accuracy: 0.206000\n",
      "Loss: 2.230665, Train accuracy: 0.196667, val accuracy: 0.206000\n",
      "Loss: 2.265553, Train accuracy: 0.196667, val accuracy: 0.206000\n",
      "Loss: 2.195184, Train accuracy: 0.196667, val accuracy: 0.206000\n",
      "Loss: 2.154084, Train accuracy: 0.196667, val accuracy: 0.206000\n",
      "Loss: 2.206690, Train accuracy: 0.196667, val accuracy: 0.206000\n",
      "Loss: 2.279489, Train accuracy: 0.196667, val accuracy: 0.206000\n",
      "Loss: 2.177047, Train accuracy: 0.196667, val accuracy: 0.206000\n",
      "Loss: 2.227412, Train accuracy: 0.196667, val accuracy: 0.206000\n",
      "Loss: 2.276138, Train accuracy: 0.196667, val accuracy: 0.206000\n",
      "Loss: 2.277896, Train accuracy: 0.196667, val accuracy: 0.206000\n",
      "Loss: 2.244359, Train accuracy: 0.196667, val accuracy: 0.206000\n",
      "Loss: 2.246502, Train accuracy: 0.196667, val accuracy: 0.206000\n",
      "Loss: 2.285294, Train accuracy: 0.196667, val accuracy: 0.206000\n",
      "Loss: 2.265441, Train accuracy: 0.196667, val accuracy: 0.206000\n",
      "Loss: 2.267544, Train accuracy: 0.196667, val accuracy: 0.206000\n",
      "Loss: 2.258276, Train accuracy: 0.196667, val accuracy: 0.206000\n",
      "Loss: 2.237725, Train accuracy: 0.196667, val accuracy: 0.206000\n",
      "Loss: 2.260224, Train accuracy: 0.196667, val accuracy: 0.206000\n",
      "Loss: 2.235055, Train accuracy: 0.196667, val accuracy: 0.206000\n",
      "Loss: 2.269723, Train accuracy: 0.196667, val accuracy: 0.206000\n",
      "Loss: 2.236110, Train accuracy: 0.196667, val accuracy: 0.206000\n",
      "Loss: 2.119481, Train accuracy: 0.196667, val accuracy: 0.206000\n",
      "Loss: 2.245632, Train accuracy: 0.196667, val accuracy: 0.206000\n",
      "Loss: 2.150101, Train accuracy: 0.196667, val accuracy: 0.206000\n",
      "Loss: 2.275439, Train accuracy: 0.196667, val accuracy: 0.206000\n",
      "Loss: 2.281805, Train accuracy: 0.196667, val accuracy: 0.206000\n",
      "Loss: 2.160120, Train accuracy: 0.196667, val accuracy: 0.206000\n",
      "Loss: 2.211344, Train accuracy: 0.196667, val accuracy: 0.206000\n",
      "Loss: 2.300110, Train accuracy: 0.196667, val accuracy: 0.206000\n",
      "Loss: 2.254531, Train accuracy: 0.196667, val accuracy: 0.206000\n",
      "Loss: 2.246667, Train accuracy: 0.196667, val accuracy: 0.206000\n",
      "Loss: 2.191863, Train accuracy: 0.196667, val accuracy: 0.206000\n",
      "Loss: 2.180179, Train accuracy: 0.196667, val accuracy: 0.206000\n",
      "Loss: 2.142611, Train accuracy: 0.196667, val accuracy: 0.206000\n",
      "Loss: 2.282832, Train accuracy: 0.196667, val accuracy: 0.206000\n",
      "Loss: 2.280816, Train accuracy: 0.196667, val accuracy: 0.206000\n",
      "Loss: 2.269756, Train accuracy: 0.196667, val accuracy: 0.206000\n",
      "Loss: 2.294399, Train accuracy: 0.196667, val accuracy: 0.206000\n",
      "Loss: 2.196168, Train accuracy: 0.196667, val accuracy: 0.206000\n",
      "Loss: 2.232439, Train accuracy: 0.196667, val accuracy: 0.206000\n",
      "Loss: 2.271056, Train accuracy: 0.196667, val accuracy: 0.206000\n",
      "Loss: 2.231182, Train accuracy: 0.196667, val accuracy: 0.206000\n",
      "Loss: 2.218947, Train accuracy: 0.196667, val accuracy: 0.206000\n",
      "Loss: 2.266976, Train accuracy: 0.196667, val accuracy: 0.206000\n",
      "Loss: 2.285483, Train accuracy: 0.196667, val accuracy: 0.206000\n",
      "Loss: 2.140989, Train accuracy: 0.196667, val accuracy: 0.206000\n",
      "Loss: 2.191007, Train accuracy: 0.196667, val accuracy: 0.206000\n",
      "Loss: 2.205959, Train accuracy: 0.196667, val accuracy: 0.206000\n",
      "Loss: 2.206145, Train accuracy: 0.196667, val accuracy: 0.206000\n",
      "Loss: 2.259405, Train accuracy: 0.196667, val accuracy: 0.206000\n",
      "Loss: 2.080499, Train accuracy: 0.196667, val accuracy: 0.206000\n",
      "Loss: 2.203981, Train accuracy: 0.196667, val accuracy: 0.206000\n",
      "Loss: 2.165725, Train accuracy: 0.196667, val accuracy: 0.206000\n",
      "Loss: 2.221897, Train accuracy: 0.196667, val accuracy: 0.206000\n",
      "best validation accuracy achieved: 0.729000\n",
      "best lr = 0.001, reg = 1e-05, hl = 256\n"
     ]
    }
   ],
   "source": [
    "# Let's train the best one-hidden-layer network we can\n",
    "dataset = Dataset(train_X, train_y, val_X, val_y)\n",
    "\n",
    "learning_rates = [1e-1, 1e-2, 1e-3]\n",
    "reg_strength = [1e-1, 1e-3, 1e-5]\n",
    "hidden_layer_size = [128, 256]\n",
    "num_epochs = 20\n",
    "batch_size = 64\n",
    "\n",
    "best_classifier = None\n",
    "best_val_accuracy = 0\n",
    "best_lr, best_reg, best_hl = 0, 0, 0\n",
    "\n",
    "loss_history = []\n",
    "train_history = []\n",
    "val_history = []\n",
    "\n",
    "for lr in learning_rates:\n",
    "    for reg in reg_strength:\n",
    "        for hl in hidden_layer_size:\n",
    "            model = TwoLayerNet(n_input = train_X.shape[1], n_output = 10, hidden_layer_size = hl, reg = reg)\n",
    "            trainer = Trainer(model, dataset, MomentumSGD(), learning_rate=lr, batch_size=batch_size)\n",
    "            \n",
    "            loss_hist, train_hist, val_hist = trainer.fit()\n",
    "            result_val = np.max(val_hist)\n",
    "            if best_val_accuracy < result_val:\n",
    "                best_classifier, best_val_accuracy = model, result_val\n",
    "                best_lr, best_reg, best_hl = lr, reg, hl\n",
    "                loss_history, train_history, val_history = loss_hist, train_hist, val_hist\n",
    "\n",
    "\n",
    "# TODO find the best hyperparameters to train the network\n",
    "# Don't hesitate to add new values to the arrays above, perform experiments, use any tricks you want\n",
    "# You should expect to get to at least 40% of valudation accuracy\n",
    "# Save loss/train/history of the best classifier to the variables above\n",
    "\n",
    "print('best validation accuracy achieved: %f' % best_val_accuracy)\n",
    "print(f'best lr = {lr}, reg = {reg}, hl = {hl}')"
   ]
  },
  {
   "cell_type": "code",
   "execution_count": 18,
   "metadata": {},
   "outputs": [
    {
     "data": {
      "text/plain": [
       "[<matplotlib.lines.Line2D at 0x7f08f37ee518>]"
      ]
     },
     "execution_count": 18,
     "metadata": {},
     "output_type": "execute_result"
    },
    {
     "data": {
      "image/png": "[encoded data removed]",
      "text/plain": [
       "<Figure size 1080x504 with 2 Axes>"
      ]
     },
     "metadata": {
      "needs_background": "light"
     },
     "output_type": "display_data"
    }
   ],
   "source": [
    "plt.figure(figsize=(15, 7))\n",
    "plt.subplot(211)\n",
    "plt.title(\"Loss\")\n",
    "plt.plot(loss_history)\n",
    "plt.subplot(212)\n",
    "plt.title(\"Train/validation accuracy\")\n",
    "plt.plot(train_history)\n",
    "plt.plot(val_history)"
   ]
  },
  {
   "cell_type": "markdown",
   "metadata": {},
   "source": [
    "# Как обычно, посмотрим, как наша лучшая модель работает на тестовых данных"
   ]
  },
  {
   "cell_type": "code",
   "execution_count": 19,
   "metadata": {},
   "outputs": [
    {
     "name": "stdout",
     "output_type": "stream",
     "text": [
      "Neural net test set accuracy: 0.691000\n"
     ]
    }
   ],
   "source": [
    "test_pred = best_classifier.predict(test_X)\n",
    "test_accuracy = multiclass_accuracy(test_pred, test_y)\n",
    "print('Neural net test set accuracy: %f' % (test_accuracy, ))"
   ]
  }
 ],
 "metadata": {
  "kernelspec": {
   "display_name": "conda",
   "language": "python",
   "name": "conda"
  },
  "language_info": {
   "codemirror_mode": {
    "name": "ipython",
    "version": 3
   },
   "file_extension": ".py",
   "mimetype": "text/x-python",
   "name": "python",
   "nbconvert_exporter": "python",
   "pygments_lexer": "ipython3",
   "version": "3.7.3"
  }
 },
 "nbformat": 4,
 "nbformat_minor": 2
}
