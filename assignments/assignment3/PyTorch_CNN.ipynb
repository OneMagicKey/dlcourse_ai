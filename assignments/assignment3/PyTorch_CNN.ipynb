{
 "cells": [
  {
   "cell_type": "markdown",
   "metadata": {
    "colab_type": "text",
    "id": "Cw3um9GG9MW2"
   },
   "source": [
    "# Задание 3.2 - сверточные нейронные сети (CNNs) в PyTorch\n",
    "\n",
    "Это упражнение мы буде выполнять в Google Colab - https://colab.research.google.com/  \n",
    "Google Colab позволяет запускать код в notebook в облаке Google, где можно воспользоваться бесплатным GPU!  \n",
    "\n",
    "Авторы курса благодарят компанию Google и надеятся, что праздник не закончится.\n",
    "\n",
    "Туториал по настройке Google Colab:  \n",
    "https://medium.com/deep-learning-turkey/google-colab-free-gpu-tutorial-e113627b9f5d  \n",
    "(Keras инсталлировать не нужно, наш notebook сам установит PyTorch)\n"
   ]
  },
  {
   "cell_type": "code",
   "execution_count": 32,
   "metadata": {
    "colab": {
     "base_uri": "https://localhost:8080/",
     "height": 323
    },
    "colab_type": "code",
    "id": "FcXBeP1O7cnY",
    "outputId": "1b6c3ce2-adf4-4496-980a-57cef6a55e0d"
   },
   "outputs": [
    {
     "name": "stdout",
     "output_type": "stream",
     "text": [
      "Requirement already satisfied: torch in /usr/local/lib/python3.6/dist-packages (1.4.0)\n",
      "Requirement already satisfied: torchvision in /usr/local/lib/python3.6/dist-packages (0.5.0)\n",
      "Requirement already satisfied: six in /usr/local/lib/python3.6/dist-packages (from torchvision) (1.12.0)\n",
      "Requirement already satisfied: pillow>=4.1.1 in /usr/local/lib/python3.6/dist-packages (from torchvision) (7.0.0)\n",
      "Requirement already satisfied: numpy in /usr/local/lib/python3.6/dist-packages (from torchvision) (1.18.2)\n",
      "--2020-03-24 12:38:52--  http://ufldl.stanford.edu/housenumbers/train_32x32.mat\n",
      "Resolving ufldl.stanford.edu (ufldl.stanford.edu)... 171.64.68.10\n",
      "Connecting to ufldl.stanford.edu (ufldl.stanford.edu)|171.64.68.10|:80... connected.\n",
      "HTTP request sent, awaiting response... 416 Requested Range Not Satisfiable\n",
      "\n",
      "    The file is already fully retrieved; nothing to do.\n",
      "\n",
      "--2020-03-24 12:38:52--  http://ufldl.stanford.edu/housenumbers/test_32x32.mat\n",
      "Reusing existing connection to ufldl.stanford.edu:80.\n",
      "HTTP request sent, awaiting response... 416 Requested Range Not Satisfiable\n",
      "\n",
      "    The file is already fully retrieved; nothing to do.\n",
      "\n"
     ]
    }
   ],
   "source": [
    "# Intstall PyTorch and download data\n",
    "!pip3 install torch torchvision\n",
    "\n",
    "!wget -c http://ufldl.stanford.edu/housenumbers/train_32x32.mat http://ufldl.stanford.edu/housenumbers/test_32x32.mat"
   ]
  },
  {
   "cell_type": "code",
   "execution_count": 0,
   "metadata": {
    "colab": {},
    "colab_type": "code",
    "id": "-afwWw-Q85vD"
   },
   "outputs": [],
   "source": [
    "from collections import namedtuple\n",
    "\n",
    "import matplotlib.pyplot as plt\n",
    "import numpy as np\n",
    "import PIL\n",
    "import torch\n",
    "import torch.nn as nn\n",
    "import torch.optim as optim\n",
    "import torchvision.datasets as dset\n",
    "from torch.utils.data.sampler import SubsetRandomSampler\n",
    "\n",
    "from torchvision import transforms"
   ]
  },
  {
   "cell_type": "code",
   "execution_count": 0,
   "metadata": {
    "colab": {},
    "colab_type": "code",
    "id": "NNU-OD9O9ltP"
   },
   "outputs": [],
   "source": [
    "device = torch.device(\"cuda:0\") # Let's make sure GPU is available!"
   ]
  },
  {
   "cell_type": "markdown",
   "metadata": {
    "colab_type": "text",
    "id": "2yibx-Af9MXh"
   },
   "source": [
    "# Загружаем данные"
   ]
  },
  {
   "cell_type": "code",
   "execution_count": 0,
   "metadata": {
    "colab": {},
    "colab_type": "code",
    "id": "YAvkoRx-9FsP"
   },
   "outputs": [],
   "source": [
    "# First, lets load the dataset\n",
    "data_train = dset.SVHN('./', \n",
    "                       transform=transforms.Compose([\n",
    "                           transforms.ToTensor(),\n",
    "                           transforms.Normalize(mean=[0.43,0.44,0.47],\n",
    "                                               std=[0.20,0.20,0.20])                           \n",
    "                       ])\n",
    "                      )\n",
    "data_test = dset.SVHN('./', split='test', transform=transforms.Compose([\n",
    "                           transforms.ToTensor(),\n",
    "                           transforms.Normalize(mean=[0.43,0.44,0.47],\n",
    "                                               std=[0.20,0.20,0.20])                           \n",
    "                       ]))"
   ]
  },
  {
   "cell_type": "markdown",
   "metadata": {
    "colab_type": "text",
    "id": "StW1obkn9MXx"
   },
   "source": [
    "Разделяем данные на training и validation.\n",
    "\n",
    "На всякий случай для подробностей - https://pytorch.org/tutorials/beginner/data_loading_tutorial.html"
   ]
  },
  {
   "cell_type": "code",
   "execution_count": 0,
   "metadata": {
    "colab": {},
    "colab_type": "code",
    "id": "YRnr8CPg7Hli"
   },
   "outputs": [],
   "source": [
    "batch_size = 64\n",
    "\n",
    "data_size = data_train.data.shape[0]\n",
    "validation_split = .2\n",
    "split = int(np.floor(validation_split * data_size))\n",
    "indices = list(range(data_size))\n",
    "np.random.shuffle(indices)\n",
    "\n",
    "train_indices, val_indices = indices[split:], indices[:split]\n",
    "\n",
    "train_sampler = SubsetRandomSampler(train_indices)\n",
    "val_sampler = SubsetRandomSampler(val_indices)\n",
    "\n",
    "train_loader = torch.utils.data.DataLoader(data_train, batch_size=batch_size, \n",
    "                                           sampler=train_sampler)\n",
    "val_loader = torch.utils.data.DataLoader(data_train, batch_size=batch_size,\n",
    "                                         sampler=val_sampler)"
   ]
  },
  {
   "cell_type": "code",
   "execution_count": 0,
   "metadata": {
    "colab": {},
    "colab_type": "code",
    "id": "LyYvt-T67PBG"
   },
   "outputs": [],
   "source": [
    "# We'll use a special helper module to shape it into a flat tensor\n",
    "class Flattener(nn.Module):\n",
    "    def forward(self, x):\n",
    "        batch_size, *_ = x.shape\n",
    "        return x.view(batch_size, -1)"
   ]
  },
  {
   "cell_type": "markdown",
   "metadata": {
    "colab_type": "text",
    "id": "vG8WQB8i9MYP"
   },
   "source": [
    "Создадим простейшую сеть с новыми слоями:  \n",
    "Convolutional - `nn.Conv2d`  \n",
    "MaxPool - `nn.MaxPool2d`"
   ]
  },
  {
   "cell_type": "code",
   "execution_count": 0,
   "metadata": {
    "colab": {},
    "colab_type": "code",
    "id": "w9SFVGZP7SQd"
   },
   "outputs": [],
   "source": [
    "nn_model = nn.Sequential(\n",
    "            nn.Conv2d(3, 64, 3, padding=1),\n",
    "            nn.ReLU(inplace=True),\n",
    "            nn.MaxPool2d(4),\n",
    "            nn.Conv2d(64, 64, 3, padding=1),\n",
    "            nn.ReLU(inplace=True),\n",
    "            nn.MaxPool2d(4),    \n",
    "            Flattener(),\n",
    "            nn.Linear(64*2*2, 10),\n",
    "          )\n",
    "\n",
    "nn_model.type(torch.cuda.FloatTensor)\n",
    "nn_model.to(device)\n",
    "\n",
    "loss = nn.CrossEntropyLoss().type(torch.cuda.FloatTensor)\n",
    "optimizer = optim.SGD(nn_model.parameters(), lr=1e-1, weight_decay=1e-4)"
   ]
  },
  {
   "cell_type": "markdown",
   "metadata": {
    "colab_type": "text",
    "id": "y5Jal7GZ9MYa"
   },
   "source": [
    "Восстановите функцию `compute_accuracy` из прошлого задания.  \n",
    "Единственное отличие в новом - она должна передать данные на GPU прежде чем прогонять через модель. Сделайте это так же, как это делает функция `train_model`"
   ]
  },
  {
   "cell_type": "code",
   "execution_count": 39,
   "metadata": {
    "colab": {
     "base_uri": "https://localhost:8080/",
     "height": 102
    },
    "colab_type": "code",
    "id": "2ek3KVQK7hJ6",
    "outputId": "ade954b5-fba1-47d3-d0bb-de8766d2540f"
   },
   "outputs": [
    {
     "name": "stdout",
     "output_type": "stream",
     "text": [
      "Average loss: 1.369924, Train accuracy: 0.541634, Val accuracy: 0.741110\n",
      "Average loss: 0.715325, Train accuracy: 0.782667, Val accuracy: 0.803904\n",
      "Average loss: 0.615161, Train accuracy: 0.815514, Val accuracy: 0.794553\n",
      "Average loss: 0.564561, Train accuracy: 0.832201, Val accuracy: 0.815849\n",
      "Average loss: 0.532839, Train accuracy: 0.842439, Val accuracy: 0.813596\n"
     ]
    }
   ],
   "source": [
    "def train_model(model, train_loader, val_loader, loss, optimizer, num_epochs, scheduler = None):    \n",
    "    loss_history = []\n",
    "    train_history = []\n",
    "    val_history = []\n",
    "    for epoch in range(num_epochs):\n",
    "        model.train() # Enter train mode\n",
    "        \n",
    "        loss_accum = 0\n",
    "        correct_samples = 0\n",
    "        total_samples = 0\n",
    "        for i_step, (x, y) in enumerate(train_loader):\n",
    "          \n",
    "            x_gpu = x.to(device)\n",
    "            y_gpu = y.to(device)\n",
    "            prediction = model(x_gpu)    \n",
    "            loss_value = loss(prediction, y_gpu)\n",
    "            optimizer.zero_grad()\n",
    "            loss_value.backward()\n",
    "            optimizer.step()\n",
    "            \n",
    "            _, indices = torch.max(prediction, 1)\n",
    "            correct_samples += torch.sum(indices == y_gpu)\n",
    "            total_samples += y.shape[0]\n",
    "            \n",
    "            loss_accum += loss_value\n",
    "\n",
    "        ave_loss = loss_accum / i_step\n",
    "        train_accuracy = float(correct_samples) / total_samples\n",
    "        val_accuracy = compute_accuracy(model, val_loader)\n",
    "        \n",
    "        loss_history.append(float(ave_loss))\n",
    "        train_history.append(train_accuracy)\n",
    "        val_history.append(val_accuracy)\n",
    "        \n",
    "        if scheduler is not None:\n",
    "            scheduler.step()\n",
    "        \n",
    "        print(\"Average loss: %f, Train accuracy: %f, Val accuracy: %f\" % (ave_loss, train_accuracy, val_accuracy))\n",
    "        \n",
    "    return loss_history, train_history, val_history\n",
    "        \n",
    "def compute_accuracy(model, loader):\n",
    "    \"\"\"\n",
    "    Computes accuracy on the dataset wrapped in a loader\n",
    "    \n",
    "    Returns: accuracy as a float value between 0 and 1\n",
    "    \"\"\"\n",
    "    model.eval() # Evaluation mode\n",
    "    # TODO: Copy implementation from previous assignment\n",
    "    # Don't forget to move the data to device before running it through the model!\n",
    "    \n",
    "    correct_samples = 0\n",
    "    total_samples = 0\n",
    "    \n",
    "    for x, y in loader:\n",
    "\n",
    "        x_gpu, y_gpu = x.to(device), y.to(device)\n",
    "        prediction = model(x_gpu)\n",
    "        correct_samples += torch.sum(prediction.argmax(dim=1) == y_gpu)\n",
    "        total_samples += y.shape[0]\n",
    "    return float(correct_samples) / total_samples\n",
    "\n",
    "loss_history, train_history, val_history = train_model(nn_model, train_loader, val_loader, loss, optimizer, 5)"
   ]
  },
  {
   "cell_type": "markdown",
   "metadata": {
    "colab_type": "text",
    "id": "6a-3a1ZFGEw_"
   },
   "source": [
    "# Аугментация данных (Data augmentation)\n",
    "\n",
    "В работе с изображениями одним из особенно важных методов является аугментация данных - то есть, генерация дополнительных данных для тренировки на основе изначальных.   \n",
    "Таким образом, мы получаем возможность \"увеличить\" набор данных для тренировки, что ведет к лучшей работе сети.\n",
    "Важно, чтобы аугментированные данные были похожи на те, которые могут встретиться в реальной жизни, иначе польза от аугментаций уменьшается и может ухудшить работу сети.\n",
    "\n",
    "С PyTorch идут несколько таких алгоритмов, называемых `transforms`. Более подробно про них можно прочитать тут -\n",
    "https://pytorch.org/tutorials/beginner/data_loading_tutorial.html#transforms\n",
    "\n",
    "Ниже мы используем следующие алгоритмы генерации:\n",
    "- ColorJitter - случайное изменение цвета\n",
    "- RandomHorizontalFlip - горизонтальное отражение с вероятностью 50%\n",
    "- RandomVerticalFlip - вертикальное отражение с вероятностью 50%\n",
    "- RandomRotation - случайный поворот"
   ]
  },
  {
   "cell_type": "code",
   "execution_count": 0,
   "metadata": {
    "colab": {},
    "colab_type": "code",
    "id": "jCWMUWmr7t5g"
   },
   "outputs": [],
   "source": [
    "tfs = transforms.Compose([\n",
    "    transforms.ColorJitter(hue=.50, saturation=.50),\n",
    "    transforms.RandomHorizontalFlip(),\n",
    "    transforms.RandomVerticalFlip(),\n",
    "    transforms.RandomRotation(50, resample=PIL.Image.BILINEAR),\n",
    "    transforms.ToTensor(),\n",
    "    transforms.Normalize(mean=[0.43,0.44,0.47],\n",
    "                       std=[0.20,0.20,0.20])                           \n",
    "])\n",
    "\n",
    "# Create augmented train dataset\n",
    "data_aug_train = dset.SVHN('./', \n",
    "                       transform=tfs\n",
    "                      )\n",
    "\n",
    "train_aug_loader = torch.utils.data.DataLoader(data_aug_train, batch_size=batch_size, \n",
    "                                           sampler=train_sampler)"
   ]
  },
  {
   "cell_type": "markdown",
   "metadata": {
    "colab_type": "text",
    "id": "r_JrcONC9MYs"
   },
   "source": [
    "Визуализируем результаты агментации (вообще, смотреть на сгенерированные данные всегда очень полезно)."
   ]
  },
  {
   "cell_type": "code",
   "execution_count": 41,
   "metadata": {
    "colab": {
     "base_uri": "https://localhost:8080/",
     "height": 193
    },
    "colab_type": "code",
    "id": "YlJJEro1KZ45",
    "outputId": "32092486-527f-4bef-8a05-65e675cd6dd4"
   },
   "outputs": [
    {
     "data": {
      "image/png": "[encoded data removed]",
      "text/plain": [
       "<Figure size 2160x216 with 10 Axes>"
      ]
     },
     "metadata": {
      "tags": []
     },
     "output_type": "display_data"
    }
   ],
   "source": [
    "# TODO: Visualize some augmented images!\n",
    "# hint: you can create new datasets and loaders to accomplish this\n",
    "\n",
    "# Based on the visualizations, should we keep all the augmentations?\n",
    "\n",
    "tfs = transforms.Compose([\n",
    "    transforms.ColorJitter(hue=.20, saturation=.20),\n",
    "    transforms.RandomHorizontalFlip(),\n",
    "    transforms.RandomVerticalFlip(),\n",
    "    transforms.RandomRotation(10, resample=PIL.Image.BILINEAR),\n",
    "])\n",
    "\n",
    "data_aug_vis = dset.SVHN('./', \n",
    "                       transform=tfs\n",
    "                      )\n",
    "\n",
    "plt.figure(figsize=(30, 3))\n",
    "\n",
    "for i, (x, y) in enumerate(data_aug_vis):\n",
    "    if i == 10:\n",
    "        break\n",
    "    plt.subplot(1, 10, i+1)\n",
    "    plt.grid(False)\n",
    "    plt.imshow(x)\n",
    "    plt.axis('off')"
   ]
  },
  {
   "cell_type": "markdown",
   "metadata": {
    "colab_type": "text",
    "id": "o2LrmsYHoguB"
   },
   "source": [
    "Все ли агментации одинаково полезны на этом наборе данных? Могут ли быть среди них те, которые собьют модель с толку?\n",
    "\n",
    "Выберите из них только корректные"
   ]
  },
  {
   "cell_type": "markdown",
   "metadata": {
    "colab_type": "text",
    "id": "xdC1CKwwHKRl"
   },
   "source": [
    "Понятно, что любые отражения испортят нам картину и мы получим некорректные изображения цифр. Более того, мы сеть начнем путать 6 и 9. При этом можно поворачивать на небольшой угол, здесь никаких проблем не возникнет."
   ]
  },
  {
   "cell_type": "code",
   "execution_count": 0,
   "metadata": {
    "colab": {},
    "colab_type": "code",
    "id": "evro9ksXGs9u"
   },
   "outputs": [],
   "source": [
    "# TODO: \n",
    "tfs = transforms.Compose([\n",
    "    transforms.ColorJitter(hue=.50, saturation=.50),\n",
    "    transforms.RandomRotation(10, resample=PIL.Image.BILINEAR),\n",
    "    transforms.ToTensor(),\n",
    "    transforms.Normalize(mean=[0.43,0.44,0.47],\n",
    "                       std=[0.20,0.20,0.20])                           \n",
    "])\n",
    "\n",
    "# TODO create new instances of loaders with the augmentations you chose\n",
    "\n",
    "data_aug_train = dset.SVHN('./', \n",
    "                       transform=tfs\n",
    "                      )\n",
    "\n",
    "train_aug_loader = torch.utils.data.DataLoader(data_aug_train, batch_size=batch_size, \n",
    "                                           sampler=train_sampler)"
   ]
  },
  {
   "cell_type": "code",
   "execution_count": 43,
   "metadata": {
    "colab": {
     "base_uri": "https://localhost:8080/",
     "height": 102
    },
    "colab_type": "code",
    "id": "PeO6Zw0DHqPR",
    "outputId": "73e6fd0a-bf6d-48b5-d24d-1f1d8a28dabb"
   },
   "outputs": [
    {
     "name": "stdout",
     "output_type": "stream",
     "text": [
      "Average loss: 0.622325, Train accuracy: 0.809866, Val accuracy: 0.824039\n",
      "Average loss: 0.580709, Train accuracy: 0.822868, Val accuracy: 0.840284\n",
      "Average loss: 0.556753, Train accuracy: 0.830632, Val accuracy: 0.851682\n",
      "Average loss: 0.541565, Train accuracy: 0.835631, Val accuracy: 0.838509\n",
      "Average loss: 0.527950, Train accuracy: 0.841296, Val accuracy: 0.854071\n"
     ]
    }
   ],
   "source": [
    "# Finally, let's train with augmentations!\n",
    "\n",
    "# Note we shouldn't use augmentations on validation\n",
    "\n",
    "loss_history, train_history, val_history = train_model(nn_model, train_aug_loader, val_loader, loss, optimizer, 5)"
   ]
  },
  {
   "cell_type": "markdown",
   "metadata": {
    "colab_type": "text",
    "id": "r0bcioK6JBDK"
   },
   "source": [
    "# LeNet\n",
    "Попробуем имплементировать классическую архитектуру сверточной нейронной сети, предложенную Яном ЛеКуном в 1998 году. В свое время она достигла впечатляющих результатов на MNIST, посмотрим как она справится с SVHN?\n",
    "Она описана в статье [\"Gradient Based Learning Applied to Document Recognition\"](http://yann.lecun.com/exdb/publis/pdf/lecun-01a.pdf), попробуйте прочитать ключевые части и имплементировать предложенную архитетуру на PyTorch.\n",
    "\n",
    "Реализовывать слои и функцию ошибки LeNet, которых нет в PyTorch, **не нужно** - просто возьмите их размеры и переведите в уже известные нам Convolutional, Pooling и Fully Connected layers.\n",
    "\n",
    "Если в статье не очень понятно, можно просто погуглить LeNet и разобраться в деталях :)"
   ]
  },
  {
   "cell_type": "code",
   "execution_count": 0,
   "metadata": {
    "colab": {},
    "colab_type": "code",
    "id": "ieEzZUglJAUB"
   },
   "outputs": [],
   "source": [
    "# TODO: Implement LeNet-like architecture for SVHN task\n",
    "lenet_model = nn.Sequential(\n",
    "            nn.Conv2d(3, 6, 5),\n",
    "            nn.Tanh(),\n",
    "            nn.MaxPool2d(2, stride=2),\n",
    "            nn.Conv2d(6, 16, 5),\n",
    "            nn.Tanh(),\n",
    "            nn.MaxPool2d(2, stride=2),\n",
    "            Flattener(),\n",
    "            nn.Linear(16*5*5, 120),\n",
    "            nn.Tanh(),\n",
    "            nn.Linear(120, 84),\n",
    "            nn.Tanh(),\n",
    "            nn.Linear(84, 10)\n",
    "          )\n",
    "\n",
    "lenet_model.type(torch.cuda.FloatTensor)\n",
    "lenet_model.to(device)\n",
    "\n",
    "loss = nn.CrossEntropyLoss().type(torch.cuda.FloatTensor)\n",
    "optimizer = optim.SGD(lenet_model.parameters(), lr=1e-1, weight_decay=1e-4)"
   ]
  },
  {
   "cell_type": "code",
   "execution_count": 45,
   "metadata": {
    "colab": {
     "base_uri": "https://localhost:8080/",
     "height": 187
    },
    "colab_type": "code",
    "id": "WMmaPfdeKk9H",
    "outputId": "d6439d5d-fdcb-469f-b25c-c6a0becf1d6f"
   },
   "outputs": [
    {
     "name": "stdout",
     "output_type": "stream",
     "text": [
      "Average loss: 1.271279, Train accuracy: 0.570095, Val accuracy: 0.811549\n",
      "Average loss: 0.576006, Train accuracy: 0.824830, Val accuracy: 0.854481\n",
      "Average loss: 0.492416, Train accuracy: 0.850271, Val accuracy: 0.865743\n",
      "Average loss: 0.447923, Train accuracy: 0.862608, Val accuracy: 0.865265\n",
      "Average loss: 0.415714, Train accuracy: 0.872061, Val accuracy: 0.870657\n",
      "Average loss: 0.392727, Train accuracy: 0.880336, Val accuracy: 0.880964\n",
      "Average loss: 0.376316, Train accuracy: 0.886223, Val accuracy: 0.878097\n",
      "Average loss: 0.363508, Train accuracy: 0.888544, Val accuracy: 0.883011\n",
      "Average loss: 0.348931, Train accuracy: 0.893816, Val accuracy: 0.883421\n",
      "Average loss: 0.336998, Train accuracy: 0.894533, Val accuracy: 0.885400\n"
     ]
    }
   ],
   "source": [
    "# Let's train it!\n",
    "loss_history, train_history, val_history = train_model(lenet_model, train_aug_loader, val_loader, loss, optimizer, 10)"
   ]
  },
  {
   "cell_type": "markdown",
   "metadata": {
    "colab_type": "text",
    "id": "u_O9qiYySvuj"
   },
   "source": [
    "# Подбор гиперпараметров"
   ]
  },
  {
   "cell_type": "code",
   "execution_count": 46,
   "metadata": {
    "colab": {
     "base_uri": "https://localhost:8080/",
     "height": 1000
    },
    "colab_type": "code",
    "id": "i6mhfdQ9K-N3",
    "outputId": "495ce9f7-c8ec-43e1-a3c2-7b4da9886da2"
   },
   "outputs": [
    {
     "name": "stdout",
     "output_type": "stream",
     "text": [
      "Average loss: 2.673934, Train accuracy: 0.131028, Val accuracy: 0.126408\n",
      "Average loss: 2.358825, Train accuracy: 0.152732, Val accuracy: 0.120197\n",
      "Average loss: 1.462231, Train accuracy: 0.506450, Val accuracy: 0.735172\n",
      "Average loss: 0.662323, Train accuracy: 0.795772, Val accuracy: 0.825541\n",
      "Average loss: 0.485839, Train accuracy: 0.851005, Val accuracy: 0.861238\n",
      "Average loss: 0.420597, Train accuracy: 0.873085, Val accuracy: 0.871135\n",
      "Average loss: 0.397670, Train accuracy: 0.880200, Val accuracy: 0.873797\n",
      "Average loss: 0.387479, Train accuracy: 0.884483, Val accuracy: 0.875435\n",
      "Average loss: 0.388806, Train accuracy: 0.883067, Val accuracy: 0.874957\n",
      "Average loss: 0.385501, Train accuracy: 0.884551, Val accuracy: 0.875026\n",
      "Average loss: 2.759574, Train accuracy: 0.137494, Val accuracy: 0.119855\n",
      "Average loss: 2.369078, Train accuracy: 0.161263, Val accuracy: 0.175688\n",
      "Average loss: 2.234715, Train accuracy: 0.193598, Val accuracy: 0.208450\n",
      "Average loss: 2.174755, Train accuracy: 0.214654, Val accuracy: 0.218756\n",
      "Average loss: 2.155385, Train accuracy: 0.225950, Val accuracy: 0.223534\n",
      "Average loss: 2.145985, Train accuracy: 0.226103, Val accuracy: 0.229063\n",
      "Average loss: 2.143543, Train accuracy: 0.230335, Val accuracy: 0.228380\n",
      "Average loss: 2.142886, Train accuracy: 0.230045, Val accuracy: 0.228312\n",
      "Average loss: 2.143063, Train accuracy: 0.229857, Val accuracy: 0.227766\n",
      "Average loss: 2.142992, Train accuracy: 0.228936, Val accuracy: 0.227903\n",
      "Average loss: 2.668710, Train accuracy: 0.131198, Val accuracy: 0.121903\n",
      "Average loss: 2.667921, Train accuracy: 0.128690, Val accuracy: 0.122859\n",
      "Average loss: 2.659584, Train accuracy: 0.129475, Val accuracy: 0.122517\n",
      "Average loss: 2.655435, Train accuracy: 0.128639, Val accuracy: 0.145314\n",
      "Average loss: 2.673518, Train accuracy: 0.129048, Val accuracy: 0.145929\n",
      "Average loss: 2.318612, Train accuracy: 0.171382, Val accuracy: 0.168384\n",
      "Average loss: 2.270706, Train accuracy: 0.199724, Val accuracy: 0.230428\n",
      "Average loss: 2.261382, Train accuracy: 0.211361, Val accuracy: 0.286875\n",
      "Average loss: 2.186187, Train accuracy: 0.246101, Val accuracy: 0.236912\n",
      "Average loss: 2.102409, Train accuracy: 0.285466, Val accuracy: 0.279776\n",
      "Average loss: 2.741814, Train accuracy: 0.130174, Val accuracy: 0.145041\n",
      "Average loss: 2.745167, Train accuracy: 0.133502, Val accuracy: 0.139717\n",
      "Average loss: 2.726557, Train accuracy: 0.136897, Val accuracy: 0.110777\n",
      "Average loss: 2.731466, Train accuracy: 0.133911, Val accuracy: 0.154597\n",
      "Average loss: 2.744996, Train accuracy: 0.135805, Val accuracy: 0.138421\n",
      "Average loss: 2.345626, Train accuracy: 0.164488, Val accuracy: 0.165927\n",
      "Average loss: 2.335438, Train accuracy: 0.170119, Val accuracy: 0.174254\n",
      "Average loss: 2.355133, Train accuracy: 0.171433, Val accuracy: 0.182650\n",
      "Average loss: 2.349579, Train accuracy: 0.175886, Val accuracy: 0.149137\n",
      "Average loss: 2.340144, Train accuracy: 0.176705, Val accuracy: 0.149683\n",
      "Average loss: 2.683084, Train accuracy: 0.131471, Val accuracy: 0.114804\n",
      "Average loss: 2.648868, Train accuracy: 0.130669, Val accuracy: 0.118900\n",
      "Average loss: 2.664238, Train accuracy: 0.129168, Val accuracy: 0.123882\n",
      "Average loss: 2.669701, Train accuracy: 0.130533, Val accuracy: 0.122312\n",
      "Average loss: 2.655490, Train accuracy: 0.132137, Val accuracy: 0.110163\n",
      "Average loss: 2.673173, Train accuracy: 0.128741, Val accuracy: 0.141697\n",
      "Average loss: 2.665861, Train accuracy: 0.132734, Val accuracy: 0.132892\n",
      "Average loss: 2.650897, Train accuracy: 0.131352, Val accuracy: 0.135144\n",
      "Average loss: 2.679306, Train accuracy: 0.128639, Val accuracy: 0.153437\n",
      "Average loss: 2.680932, Train accuracy: 0.129526, Val accuracy: 0.148522\n",
      "Average loss: 2.739427, Train accuracy: 0.130328, Val accuracy: 0.131936\n",
      "Average loss: 2.733402, Train accuracy: 0.135054, Val accuracy: 0.124155\n",
      "Average loss: 2.732679, Train accuracy: 0.132307, Val accuracy: 0.125520\n",
      "Average loss: 2.747910, Train accuracy: 0.133365, Val accuracy: 0.164699\n",
      "Average loss: 2.742769, Train accuracy: 0.130993, Val accuracy: 0.129957\n",
      "Average loss: 2.748331, Train accuracy: 0.131608, Val accuracy: 0.115965\n",
      "Average loss: 2.756182, Train accuracy: 0.132887, Val accuracy: 0.147430\n",
      "Average loss: 2.767654, Train accuracy: 0.134218, Val accuracy: 0.121835\n",
      "Average loss: 2.721653, Train accuracy: 0.135618, Val accuracy: 0.111050\n",
      "Average loss: 2.780865, Train accuracy: 0.136351, Val accuracy: 0.100334\n",
      "Average loss: 1.367754, Train accuracy: 0.536959, Val accuracy: 0.723022\n",
      "Average loss: 0.618940, Train accuracy: 0.809354, Val accuracy: 0.842332\n",
      "Average loss: 0.459105, Train accuracy: 0.859434, Val accuracy: 0.873114\n",
      "Average loss: 0.390990, Train accuracy: 0.881957, Val accuracy: 0.879394\n",
      "Average loss: 0.366949, Train accuracy: 0.889789, Val accuracy: 0.883830\n",
      "Average loss: 0.359717, Train accuracy: 0.892844, Val accuracy: 0.884513\n",
      "Average loss: 0.358739, Train accuracy: 0.892690, Val accuracy: 0.884854\n",
      "Average loss: 0.356992, Train accuracy: 0.892588, Val accuracy: 0.884923\n",
      "Average loss: 0.354373, Train accuracy: 0.893885, Val accuracy: 0.884786\n",
      "Average loss: 0.355803, Train accuracy: 0.894294, Val accuracy: 0.884718\n",
      "Average loss: 1.225993, Train accuracy: 0.595656, Val accuracy: 0.708143\n",
      "Average loss: 0.755308, Train accuracy: 0.763898, Val accuracy: 0.796533\n",
      "Average loss: 0.643071, Train accuracy: 0.799594, Val accuracy: 0.817828\n",
      "Average loss: 0.598629, Train accuracy: 0.813739, Val accuracy: 0.823630\n",
      "Average loss: 0.588128, Train accuracy: 0.817049, Val accuracy: 0.823015\n",
      "Average loss: 0.578577, Train accuracy: 0.820923, Val accuracy: 0.823698\n",
      "Average loss: 0.578718, Train accuracy: 0.820360, Val accuracy: 0.823766\n",
      "Average loss: 0.577743, Train accuracy: 0.821264, Val accuracy: 0.823766\n",
      "Average loss: 0.579870, Train accuracy: 0.819438, Val accuracy: 0.823698\n",
      "Average loss: 0.578078, Train accuracy: 0.820786, Val accuracy: 0.823698\n",
      "Average loss: 1.404234, Train accuracy: 0.522011, Val accuracy: 0.738107\n",
      "Average loss: 0.825524, Train accuracy: 0.742961, Val accuracy: 0.748823\n",
      "Average loss: 0.779029, Train accuracy: 0.757619, Val accuracy: 0.768412\n",
      "Average loss: 0.767738, Train accuracy: 0.763079, Val accuracy: 0.781380\n",
      "Average loss: 0.754179, Train accuracy: 0.766577, Val accuracy: 0.764316\n",
      "Average loss: 0.532963, Train accuracy: 0.836911, Val accuracy: 0.858917\n",
      "Average loss: 0.494875, Train accuracy: 0.849657, Val accuracy: 0.863900\n",
      "Average loss: 0.480143, Train accuracy: 0.852080, Val accuracy: 0.854959\n",
      "Average loss: 0.469205, Train accuracy: 0.855834, Val accuracy: 0.858440\n",
      "Average loss: 0.462911, Train accuracy: 0.857165, Val accuracy: 0.867381\n",
      "Average loss: 1.802252, Train accuracy: 0.371276, Val accuracy: 0.559894\n",
      "Average loss: 1.249619, Train accuracy: 0.595144, Val accuracy: 0.668009\n",
      "Average loss: 1.122115, Train accuracy: 0.642938, Val accuracy: 0.665961\n",
      "Average loss: 1.139069, Train accuracy: 0.637563, Val accuracy: 0.678862\n",
      "Average loss: 1.122915, Train accuracy: 0.643364, Val accuracy: 0.671831\n",
      "Average loss: 0.935111, Train accuracy: 0.703904, Val accuracy: 0.735240\n",
      "Average loss: 0.874882, Train accuracy: 0.721923, Val accuracy: 0.754624\n",
      "Average loss: 0.840764, Train accuracy: 0.737024, Val accuracy: 0.755989\n",
      "Average loss: 0.820021, Train accuracy: 0.743439, Val accuracy: 0.760972\n",
      "Average loss: 0.802692, Train accuracy: 0.749019, Val accuracy: 0.769572\n",
      "Average loss: 1.516678, Train accuracy: 0.475924, Val accuracy: 0.716197\n",
      "Average loss: 0.847238, Train accuracy: 0.734106, Val accuracy: 0.787864\n",
      "Average loss: 0.795065, Train accuracy: 0.753216, Val accuracy: 0.779059\n",
      "Average loss: 0.765809, Train accuracy: 0.763608, Val accuracy: 0.770528\n",
      "Average loss: 0.751211, Train accuracy: 0.767106, Val accuracy: 0.787387\n",
      "Average loss: 0.750375, Train accuracy: 0.767328, Val accuracy: 0.803426\n",
      "Average loss: 0.749467, Train accuracy: 0.767293, Val accuracy: 0.794690\n",
      "Average loss: 0.740419, Train accuracy: 0.770245, Val accuracy: 0.794417\n",
      "Average loss: 0.752764, Train accuracy: 0.767601, Val accuracy: 0.790526\n",
      "Average loss: 0.757398, Train accuracy: 0.766065, Val accuracy: 0.799604\n",
      "Average loss: 1.878578, Train accuracy: 0.346449, Val accuracy: 0.531500\n",
      "Average loss: 1.325262, Train accuracy: 0.569600, Val accuracy: 0.566036\n",
      "Average loss: 1.185762, Train accuracy: 0.621114, Val accuracy: 0.675381\n",
      "Average loss: 1.153437, Train accuracy: 0.632546, Val accuracy: 0.683025\n",
      "Average loss: 1.105288, Train accuracy: 0.649882, Val accuracy: 0.678452\n",
      "Average loss: 1.110183, Train accuracy: 0.648585, Val accuracy: 0.658590\n",
      "Average loss: 1.111512, Train accuracy: 0.648074, Val accuracy: 0.665825\n",
      "Average loss: 1.123769, Train accuracy: 0.644286, Val accuracy: 0.689578\n",
      "Average loss: 1.073933, Train accuracy: 0.659847, Val accuracy: 0.660501\n",
      "Average loss: 1.073781, Train accuracy: 0.662611, Val accuracy: 0.700703\n",
      "Average loss: 0.928751, Train accuracy: 0.698666, Val accuracy: 0.834414\n",
      "Average loss: 0.516969, Train accuracy: 0.844606, Val accuracy: 0.858781\n",
      "Average loss: 0.473839, Train accuracy: 0.859656, Val accuracy: 0.866699\n",
      "Average loss: 0.461942, Train accuracy: 0.863120, Val accuracy: 0.867586\n",
      "Average loss: 0.456169, Train accuracy: 0.864229, Val accuracy: 0.868473\n",
      "Average loss: 0.455112, Train accuracy: 0.865031, Val accuracy: 0.868200\n",
      "Average loss: 0.454668, Train accuracy: 0.864673, Val accuracy: 0.868337\n",
      "Average loss: 0.453895, Train accuracy: 0.865713, Val accuracy: 0.868405\n",
      "Average loss: 0.454367, Train accuracy: 0.865065, Val accuracy: 0.868405\n",
      "Average loss: 0.457164, Train accuracy: 0.864826, Val accuracy: 0.868405\n",
      "Average loss: 0.915870, Train accuracy: 0.703904, Val accuracy: 0.832639\n",
      "Average loss: 0.512408, Train accuracy: 0.845750, Val accuracy: 0.863491\n",
      "Average loss: 0.465771, Train accuracy: 0.859878, Val accuracy: 0.870521\n",
      "Average loss: 0.451307, Train accuracy: 0.864843, Val accuracy: 0.871408\n",
      "Average loss: 0.444631, Train accuracy: 0.867078, Val accuracy: 0.872159\n",
      "Average loss: 0.444835, Train accuracy: 0.865611, Val accuracy: 0.872568\n",
      "Average loss: 0.443220, Train accuracy: 0.868478, Val accuracy: 0.872773\n",
      "Average loss: 0.445308, Train accuracy: 0.867096, Val accuracy: 0.872773\n",
      "Average loss: 0.445472, Train accuracy: 0.866823, Val accuracy: 0.872705\n",
      "Average loss: 0.444751, Train accuracy: 0.866328, Val accuracy: 0.872705\n",
      "Average loss: 0.965155, Train accuracy: 0.684418, Val accuracy: 0.830250\n",
      "Average loss: 0.545573, Train accuracy: 0.834437, Val accuracy: 0.860214\n",
      "Average loss: 0.478832, Train accuracy: 0.856260, Val accuracy: 0.871681\n",
      "Average loss: 0.445659, Train accuracy: 0.864758, Val accuracy: 0.871476\n",
      "Average loss: 0.421073, Train accuracy: 0.871737, Val accuracy: 0.880486\n",
      "Average loss: 0.356673, Train accuracy: 0.893697, Val accuracy: 0.892499\n",
      "Average loss: 0.346310, Train accuracy: 0.897587, Val accuracy: 0.890861\n",
      "Average loss: 0.339831, Train accuracy: 0.898884, Val accuracy: 0.887243\n",
      "Average loss: 0.332299, Train accuracy: 0.900471, Val accuracy: 0.892567\n",
      "Average loss: 0.328177, Train accuracy: 0.902314, Val accuracy: 0.895092\n",
      "Average loss: 0.924016, Train accuracy: 0.698649, Val accuracy: 0.830797\n",
      "Average loss: 0.527726, Train accuracy: 0.841672, Val accuracy: 0.862876\n",
      "Average loss: 0.451433, Train accuracy: 0.862796, Val accuracy: 0.876391\n",
      "Average loss: 0.411389, Train accuracy: 0.874740, Val accuracy: 0.881510\n",
      "Average loss: 0.381630, Train accuracy: 0.883664, Val accuracy: 0.886219\n",
      "Average loss: 0.325108, Train accuracy: 0.900846, Val accuracy: 0.895297\n",
      "Average loss: 0.309215, Train accuracy: 0.908166, Val accuracy: 0.894478\n",
      "Average loss: 0.301787, Train accuracy: 0.909975, Val accuracy: 0.895639\n",
      "Average loss: 0.291252, Train accuracy: 0.912756, Val accuracy: 0.894819\n",
      "Average loss: 0.287073, Train accuracy: 0.913695, Val accuracy: 0.897823\n",
      "Average loss: 0.894932, Train accuracy: 0.711907, Val accuracy: 0.836803\n",
      "Average loss: 0.534653, Train accuracy: 0.838361, Val accuracy: 0.860419\n",
      "Average loss: 0.473068, Train accuracy: 0.856926, Val accuracy: 0.873592\n",
      "Average loss: 0.438465, Train accuracy: 0.866635, Val accuracy: 0.869838\n",
      "Average loss: 0.413043, Train accuracy: 0.874518, Val accuracy: 0.882397\n",
      "Average loss: 0.399931, Train accuracy: 0.878630, Val accuracy: 0.879667\n",
      "Average loss: 0.386146, Train accuracy: 0.883408, Val accuracy: 0.881988\n",
      "Average loss: 0.372204, Train accuracy: 0.887708, Val accuracy: 0.880281\n",
      "Average loss: 0.366971, Train accuracy: 0.888254, Val accuracy: 0.886765\n",
      "Average loss: 0.358913, Train accuracy: 0.890574, Val accuracy: 0.877892\n",
      "Average loss: 0.919746, Train accuracy: 0.701293, Val accuracy: 0.844243\n",
      "Average loss: 0.513840, Train accuracy: 0.844316, Val accuracy: 0.867518\n",
      "Average loss: 0.446595, Train accuracy: 0.865048, Val accuracy: 0.871203\n",
      "Average loss: 0.407451, Train accuracy: 0.875388, Val accuracy: 0.876527\n",
      "Average loss: 0.378846, Train accuracy: 0.885046, Val accuracy: 0.882738\n",
      "Average loss: 0.360605, Train accuracy: 0.890523, Val accuracy: 0.888881\n",
      "Average loss: 0.344128, Train accuracy: 0.895386, Val accuracy: 0.895502\n",
      "Average loss: 0.330153, Train accuracy: 0.898577, Val accuracy: 0.890929\n",
      "Average loss: 0.316898, Train accuracy: 0.903781, Val accuracy: 0.891134\n",
      "Average loss: 0.307731, Train accuracy: 0.906016, Val accuracy: 0.893864\n"
     ]
    }
   ],
   "source": [
    "# The key hyperparameters we're going to tune are learning speed, annealing rate and regularization\n",
    "# We also encourage you to try different optimizers as well\n",
    "\n",
    "Hyperparams = namedtuple(\"Hyperparams\", ['learning_rate', 'anneal_epochs', 'reg'])\n",
    "RunResult = namedtuple(\"RunResult\", ['model', 'train_history', 'val_history', 'final_val_accuracy'])\n",
    "\n",
    "learning_rates = [1e-1, 1e-2, 1e-3]\n",
    "anneal_coeff = 0.3\n",
    "anneal_epochs = [1, 5, 10]\n",
    "reg = [1e-3, 1e-5]\n",
    "\n",
    "batch_size = 64\n",
    "epoch_num = 10\n",
    "\n",
    "# Record all the runs here\n",
    "# Key should be Hyperparams and values should be RunResult\n",
    "run_record = {} \n",
    "\n",
    "# Use grid search or random search and record all runs in run_record dictionnary \n",
    "# Important: perform search in logarithmic space!\n",
    "\n",
    "# TODO: Your code here!\n",
    "for lr in learning_rates:\n",
    "    for ap in anneal_epochs:\n",
    "        for rg in reg:\n",
    "\n",
    "            lenet_model = nn.Sequential(\n",
    "                nn.Conv2d(3, 6, 5),\n",
    "                nn.Tanh(),\n",
    "                nn.MaxPool2d(2, stride=2),\n",
    "                nn.Conv2d(6, 16, 5),\n",
    "                nn.Tanh(),\n",
    "                nn.MaxPool2d(2, stride=2),\n",
    "                Flattener(),\n",
    "                nn.Linear(16*5*5, 120),\n",
    "                nn.Tanh(),\n",
    "                nn.Linear(120, 84),\n",
    "                nn.Tanh(),\n",
    "                nn.Linear(84, 10)\n",
    "            )\n",
    "            \n",
    "            lenet_model.type(torch.cuda.FloatTensor)\n",
    "            lenet_model.to(device)\n",
    "\n",
    "            loss = nn.CrossEntropyLoss().type(torch.cuda.FloatTensor)\n",
    "            optimizer = optim.Adam(lenet_model.parameters(), lr=lr, weight_decay=rg)\n",
    "            scheduler = optim.lr_scheduler.StepLR(optimizer, step_size=ap, gamma=anneal_coeff)\n",
    "\n",
    "            loss_history, train_history, val_history = train_model(lenet_model, train_aug_loader, val_loader, loss, optimizer, 10, scheduler)\n",
    "\n",
    "            params = Hyperparams(lr, ap, rg)\n",
    "            result = RunResult(lenet_model, train_history, val_history, val_history[-1])\n",
    "            run_record[params] = result"
   ]
  },
  {
   "cell_type": "code",
   "execution_count": 49,
   "metadata": {
    "colab": {
     "base_uri": "https://localhost:8080/",
     "height": 34
    },
    "colab_type": "code",
    "id": "Y6xExdw8JB1l",
    "outputId": "05ca0e56-875f-4437-ba98-affc935f5c04"
   },
   "outputs": [
    {
     "name": "stdout",
     "output_type": "stream",
     "text": [
      "Best validation accuracy: 0.90, best hyperparams: Hyperparams(learning_rate=0.001, anneal_epochs=5, reg=1e-05)\n"
     ]
    }
   ],
   "source": [
    "best_val_accuracy = None\n",
    "best_hyperparams = None\n",
    "best_run = None\n",
    "\n",
    "for hyperparams, run_result in run_record.items():\n",
    "    if best_val_accuracy is None or best_val_accuracy < run_result.final_val_accuracy:\n",
    "        best_val_accuracy = run_result.final_val_accuracy\n",
    "        best_hyperparams = hyperparams\n",
    "        best_run = run_result\n",
    "        \n",
    "print(\"Best validation accuracy: %4.2f, best hyperparams: %s\" % (best_val_accuracy, best_hyperparams))\n",
    "        "
   ]
  },
  {
   "cell_type": "markdown",
   "metadata": {
    "colab_type": "text",
    "id": "LOmsR0uVgtgf"
   },
   "source": [
    "# Свободное упражнение - догоним и перегоним LeNet!\n",
    "\n",
    "Попробуйте найти архитектуру и настройки тренировки, чтобы выступить лучше наших бейзлайнов.\n",
    "\n",
    "Что можно и нужно попробовать:\n",
    "- BatchNormalization (для convolution layers он в PyTorch называется [batchnorm2d](https://pytorch.org/docs/stable/nn.html#batchnorm2d))\n",
    "- Изменить количество слоев и их толщину\n",
    "- Изменять количество эпох тренировки\n",
    "- Попробовать и другие агментации"
   ]
  },
  {
   "cell_type": "code",
   "execution_count": 55,
   "metadata": {
    "colab": {
     "base_uri": "https://localhost:8080/",
     "height": 527
    },
    "colab_type": "code",
    "id": "tSVhD747icoc",
    "outputId": "14771d52-bc09-47c7-d2fe-245a7e4e6f89"
   },
   "outputs": [
    {
     "name": "stdout",
     "output_type": "stream",
     "text": [
      "Average loss: 0.866836, Train accuracy: 0.723868, Val accuracy: 0.862876\n",
      "Average loss: 0.480000, Train accuracy: 0.855663, Val accuracy: 0.881442\n",
      "Average loss: 0.421799, Train accuracy: 0.872470, Val accuracy: 0.887448\n",
      "Average loss: 0.378929, Train accuracy: 0.887469, Val accuracy: 0.895092\n",
      "Average loss: 0.352177, Train accuracy: 0.893304, Val accuracy: 0.899188\n",
      "Average loss: 0.280521, Train accuracy: 0.917073, Val accuracy: 0.910859\n",
      "Average loss: 0.263702, Train accuracy: 0.921766, Val accuracy: 0.913112\n",
      "Average loss: 0.249996, Train accuracy: 0.925042, Val accuracy: 0.913248\n",
      "Average loss: 0.240629, Train accuracy: 0.928830, Val accuracy: 0.911201\n",
      "Average loss: 0.233825, Train accuracy: 0.929529, Val accuracy: 0.911883\n",
      "Average loss: 0.200506, Train accuracy: 0.941166, Val accuracy: 0.919255\n",
      "Average loss: 0.192995, Train accuracy: 0.943845, Val accuracy: 0.918026\n",
      "Average loss: 0.189924, Train accuracy: 0.945347, Val accuracy: 0.916524\n",
      "Average loss: 0.187721, Train accuracy: 0.944511, Val accuracy: 0.918436\n",
      "Average loss: 0.180707, Train accuracy: 0.947838, Val accuracy: 0.915023\n",
      "Average loss: 0.173533, Train accuracy: 0.949391, Val accuracy: 0.918572\n",
      "Average loss: 0.168757, Train accuracy: 0.951558, Val accuracy: 0.917958\n",
      "Average loss: 0.166457, Train accuracy: 0.952240, Val accuracy: 0.918299\n",
      "Average loss: 0.164746, Train accuracy: 0.953384, Val accuracy: 0.917617\n",
      "Average loss: 0.165313, Train accuracy: 0.952036, Val accuracy: 0.919391\n",
      "Average loss: 0.161660, Train accuracy: 0.953657, Val accuracy: 0.919118\n",
      "Average loss: 0.161316, Train accuracy: 0.953981, Val accuracy: 0.917753\n",
      "Average loss: 0.159334, Train accuracy: 0.954151, Val accuracy: 0.918982\n",
      "Average loss: 0.161022, Train accuracy: 0.953435, Val accuracy: 0.919323\n",
      "Average loss: 0.159348, Train accuracy: 0.954919, Val accuracy: 0.918640\n",
      "Average loss: 0.157945, Train accuracy: 0.954544, Val accuracy: 0.918777\n",
      "Average loss: 0.159632, Train accuracy: 0.954578, Val accuracy: 0.920210\n",
      "Average loss: 0.159289, Train accuracy: 0.954186, Val accuracy: 0.917890\n",
      "Average loss: 0.159583, Train accuracy: 0.954169, Val accuracy: 0.918913\n",
      "Average loss: 0.158624, Train accuracy: 0.955107, Val accuracy: 0.918094\n"
     ]
    }
   ],
   "source": [
    "best_model = nn.Sequential(\n",
    "                nn.Conv2d(3, 64, 5),\n",
    "                nn.BatchNorm2d(64),\n",
    "                nn.Tanh(),\n",
    "                nn.MaxPool2d(2, stride=2),\n",
    "                nn.Conv2d(64, 64, 5),\n",
    "                nn.BatchNorm2d(64),\n",
    "                nn.Tanh(),\n",
    "                nn.MaxPool2d(2, stride=2),\n",
    "                Flattener(),\n",
    "                nn.Linear(64*5*5, 120),\n",
    "                nn.BatchNorm1d(120),\n",
    "                nn.Tanh(),\n",
    "                nn.Linear(120, 84),\n",
    "                nn.BatchNorm1d(84),\n",
    "                nn.Tanh(),\n",
    "                nn.Linear(84, 10)\n",
    "            )\n",
    "best_model.type(torch.cuda.FloatTensor)\n",
    "best_model.to(device)\n",
    "\n",
    "loss = nn.CrossEntropyLoss().type(torch.cuda.FloatTensor)\n",
    "optimizer = optim.Adam(best_model.parameters(), lr=1e-3, weight_decay=1e-5)\n",
    "scheduler = optim.lr_scheduler.StepLR(optimizer, step_size=5, gamma=anneal_coeff)\n",
    "\n",
    "loss_history, train_history, val_history = train_model(best_model, train_aug_loader, val_loader, loss, optimizer, 30, scheduler)"
   ]
  },
  {
   "cell_type": "markdown",
   "metadata": {
    "colab_type": "text",
    "id": "ubeKgBcnhx7N"
   },
   "source": [
    "# Финальный аккорд - проверим лучшую модель на test set\n",
    "\n",
    "В качестве разнообразия - напишите код для прогона модели на test set вы.\n",
    "\n",
    "В результате вы должны натренировать модель, которая покажет более **90%** точности на test set.  \n",
    "Как водится, лучший результат в группе получит дополнительные баллы!"
   ]
  },
  {
   "cell_type": "code",
   "execution_count": 56,
   "metadata": {
    "colab": {
     "base_uri": "https://localhost:8080/",
     "height": 34
    },
    "colab_type": "code",
    "id": "EIqM1kdeh-hd",
    "outputId": "c78de2c7-d0ed-482b-fcdf-f64d82b45a7e"
   },
   "outputs": [
    {
     "name": "stdout",
     "output_type": "stream",
     "text": [
      "Final test accuracy -  0.9099569760295021\n"
     ]
    }
   ],
   "source": [
    "# TODO Write the code to compute accuracy on test set\n",
    "test_loader = torch.utils.data.DataLoader(data_test, batch_size = batch_size)\n",
    "final_test_accuracy = compute_accuracy(best_model, test_loader)\n",
    "print(\"Final test accuracy - \", final_test_accuracy)"
   ]
  },
  {
   "cell_type": "code",
   "execution_count": 0,
   "metadata": {
    "colab": {},
    "colab_type": "code",
    "id": "BfH6qip6kVX_"
   },
   "outputs": [],
   "source": []
  }
 ],
 "metadata": {
  "accelerator": "GPU",
  "colab": {
   "collapsed_sections": [],
   "name": "PyTorch_CNN.ipynb",
   "provenance": []
  },
  "kernelspec": {
   "display_name": "Python 3",
   "language": "python",
   "name": "python3"
  },
  "language_info": {
   "codemirror_mode": {
    "name": "ipython",
    "version": 3
   },
   "file_extension": ".py",
   "mimetype": "text/x-python",
   "name": "python",
   "nbconvert_exporter": "python",
   "pygments_lexer": "ipython3",
   "version": "3.6.9"
  }
 },
 "nbformat": 4,
 "nbformat_minor": 1
}
